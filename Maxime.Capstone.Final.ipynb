{
 "cells": [
  {
   "cell_type": "code",
   "execution_count": null,
   "metadata": {
    "collapsed": true
   },
   "outputs": [],
   "source": []
  },
  {
   "cell_type": "markdown",
   "metadata": {},
   "source": [
    "Introduction\n",
    "\n",
    "In this post, I’ll summarize the exploratory data analyses I performed, explain the feature engineering and reduction steps I utilized, and present my final models to classify tweets feed\n",
    "\n",
    "Problem Statement\n",
    "The goal of this project was to classify twitter feeds into breakfast time, lunch time or dinner time, using only features derived from text from ten news organizations\n",
    "\n",
    "Risks and Assumptions\n",
    "I’ve chosen my source based on some renown news organizations and large corpus, but I recognize that this model may not generalize to news from other sources. My results will likely also be applicable to my determined timeframe, and a time interval since I’m utilizing tweets from October 2017 onwards.\n",
    "\n"
   ]
  },
  {
   "cell_type": "code",
   "execution_count": 2,
   "metadata": {},
   "outputs": [
    {
     "name": "stderr",
     "output_type": "stream",
     "text": [
      "//anaconda/envs/py36/lib/python3.6/site-packages/sklearn/cross_validation.py:41: DeprecationWarning: This module was deprecated in version 0.18 in favor of the model_selection module into which all the refactored classes and functions are moved. Also note that the interface of the new CV iterators are different from that of this module. This module will be removed in 0.20.\n",
      "  \"This module will be removed in 0.20.\", DeprecationWarning)\n"
     ]
    }
   ],
   "source": [
    "import twitter, re, datetime, pandas as pd, numpy as np\n",
    "from sklearn.feature_extraction.text import CountVectorizer,TfidfVectorizer\n",
    "from sklearn.linear_model import LogisticRegression\n",
    "import textblob\n",
    "from sklearn.model_selection import train_test_split, cross_val_score\n",
    "from sklearn.metrics import confusion_matrix, accuracy_score, classification_report\n",
    "\n",
    "import matplotlib.pyplot as plt\n",
    "%matplotlib inline\n",
    "import seaborn as sns\n",
    "\n",
    "from sklearn.ensemble import AdaBoostClassifier, GradientBoostingClassifier,AdaBoostRegressor,RandomForestRegressor,RandomForestClassifier,GradientBoostingRegressor\n",
    "from sklearn.tree import DecisionTreeClassifier\n",
    "from sklearn.model_selection import train_test_split,GridSearchCV\n",
    "import xgboost as xgb\n",
    "from xgboost.sklearn import XGBClassifier  \n",
    "from xgboost.sklearn import XGBRegressor\n",
    "from sklearn.svm import SVC"
   ]
  },
  {
   "cell_type": "code",
   "execution_count": 39,
   "metadata": {
    "collapsed": true
   },
   "outputs": [],
   "source": [
    "import twitter, re, datetime, pandas as pd\n",
    "\n",
    "# your keys go here:\n",
    "twitter_keys = {\n",
    "    'consumer_key':        'c2OWXk5ysfZHebnj7YQcKeVtR',\n",
    "    'consumer_secret':     'qECxF7fUrC0AFi4Ib7ye4dXlqFcJxbADox4z5xh9CSuRWbYugA',\n",
    "    'access_token_key':    '930174555032825862-cg1AJLOXuE61kTxYtrcwPN53czHhNby',\n",
    "    'access_token_secret': '4fRMZkII1IeZGY8VDEFqKuO12SDmtHEfj4aqnGJHCdG7Y'\n",
    "}\n",
    "\n",
    "api = twitter.Api(\n",
    "    consumer_key         =   twitter_keys['consumer_key'],\n",
    "    consumer_secret      =   twitter_keys['consumer_secret'],\n",
    "    access_token_key     =   twitter_keys['access_token_key'],\n",
    "    access_token_secret  =   twitter_keys['access_token_secret']\n",
    ")"
   ]
  },
  {
   "cell_type": "code",
   "execution_count": 58,
   "metadata": {
    "collapsed": true
   },
   "outputs": [],
   "source": [
    "class TweetMiner(object):\n",
    "\n",
    "    result_limit    =   20    \n",
    "    api             =   False\n",
    "    data            =   []\n",
    "    \n",
    "    def __init__(self, keys_dict, api, result_limit = 20):\n",
    "        \n",
    "        self.api = api\n",
    "        self.twitter_keys = keys_dict\n",
    "        \n",
    "        self.result_limit = result_limit\n",
    "        \n",
    "\n",
    "    def mine_user_tweets(self, user=\"GA\", mine_rewteets=False, max_pages=1, max_id=None):\n",
    "\n",
    "        data           =  []\n",
    "        last_tweet_id  =  False\n",
    "        page           =  1\n",
    "        \n",
    "        while page <= max_pages:\n",
    "            \n",
    "            if last_tweet_id:\n",
    "                statuses   =   self.api.GetUserTimeline(screen_name=user, count=self.result_limit, max_id=max_id)        \n",
    "            else:\n",
    "                statuses   =   self.api.GetUserTimeline(screen_name=user, count=self.result_limit, max_id=max_id)\n",
    "                \n",
    "            for item in statuses:\n",
    "\n",
    "                mined = {\n",
    "                'tweet_id': item.id,\n",
    "                'handle': item.user.name,\n",
    "                'retweet_count': item.retweet_count,\n",
    "                'text': item.text,\n",
    "                'mined_at': datetime.datetime.now(),\n",
    "                'created_at': item.created_at,\n",
    "                'geo' : item.geo,\n",
    "                'place' : item.place,\n",
    "            }\n",
    "            \n",
    "                \n",
    "                last_tweet_id = item.id\n",
    "                data.append(mined)\n",
    "                \n",
    "            page += 1\n",
    "            \n",
    "        return data"
   ]
  },
  {
   "cell_type": "code",
   "execution_count": 59,
   "metadata": {
    "collapsed": true
   },
   "outputs": [],
   "source": [
    "miner = TweetMiner(keys_dict = twitter_keys, api = api, result_limit=200) "
   ]
  },
  {
   "cell_type": "code",
   "execution_count": null,
   "metadata": {
    "collapsed": true
   },
   "outputs": [],
   "source": []
  },
  {
   "cell_type": "code",
   "execution_count": null,
   "metadata": {
    "collapsed": true
   },
   "outputs": [],
   "source": []
  },
  {
   "cell_type": "code",
   "execution_count": 60,
   "metadata": {},
   "outputs": [
    {
     "data": {
      "text/html": [
       "<div>\n",
       "<style>\n",
       "    .dataframe thead tr:only-child th {\n",
       "        text-align: right;\n",
       "    }\n",
       "\n",
       "    .dataframe thead th {\n",
       "        text-align: left;\n",
       "    }\n",
       "\n",
       "    .dataframe tbody tr th {\n",
       "        vertical-align: top;\n",
       "    }\n",
       "</style>\n",
       "<table border=\"1\" class=\"dataframe\">\n",
       "  <thead>\n",
       "    <tr style=\"text-align: right;\">\n",
       "      <th></th>\n",
       "      <th>created_at</th>\n",
       "      <th>geo</th>\n",
       "      <th>handle</th>\n",
       "      <th>mined_at</th>\n",
       "      <th>place</th>\n",
       "      <th>retweet_count</th>\n",
       "      <th>text</th>\n",
       "      <th>tweet_id</th>\n",
       "    </tr>\n",
       "  </thead>\n",
       "  <tbody>\n",
       "    <tr>\n",
       "      <th>0</th>\n",
       "      <td>Mon Dec 18 21:57:27 +0000 2017</td>\n",
       "      <td>None</td>\n",
       "      <td>CNN</td>\n",
       "      <td>2017-12-18 16:59:35.712906</td>\n",
       "      <td>None</td>\n",
       "      <td>33</td>\n",
       "      <td>\"I'm concerned that no job is safe in the Trum...</td>\n",
       "      <td>942876488092839936</td>\n",
       "    </tr>\n",
       "    <tr>\n",
       "      <th>1</th>\n",
       "      <td>Mon Dec 18 21:52:08 +0000 2017</td>\n",
       "      <td>None</td>\n",
       "      <td>CNN</td>\n",
       "      <td>2017-12-18 16:59:35.712916</td>\n",
       "      <td>None</td>\n",
       "      <td>41</td>\n",
       "      <td>Matthew Petersen wrote that he is \"no stranger...</td>\n",
       "      <td>942875149782659072</td>\n",
       "    </tr>\n",
       "    <tr>\n",
       "      <th>2</th>\n",
       "      <td>Mon Dec 18 21:38:21 +0000 2017</td>\n",
       "      <td>None</td>\n",
       "      <td>CNN</td>\n",
       "      <td>2017-12-18 16:59:35.712919</td>\n",
       "      <td>None</td>\n",
       "      <td>946</td>\n",
       "      <td>Former Director of National Intelligence James...</td>\n",
       "      <td>942871683152560128</td>\n",
       "    </tr>\n",
       "    <tr>\n",
       "      <th>3</th>\n",
       "      <td>Mon Dec 18 21:31:55 +0000 2017</td>\n",
       "      <td>None</td>\n",
       "      <td>CNN</td>\n",
       "      <td>2017-12-18 16:59:35.712921</td>\n",
       "      <td>None</td>\n",
       "      <td>69</td>\n",
       "      <td>The power is back on at Atlanta's Hartsfield-J...</td>\n",
       "      <td>942870062322667525</td>\n",
       "    </tr>\n",
       "    <tr>\n",
       "      <th>4</th>\n",
       "      <td>Mon Dec 18 21:25:50 +0000 2017</td>\n",
       "      <td>None</td>\n",
       "      <td>CNN</td>\n",
       "      <td>2017-12-18 16:59:35.712923</td>\n",
       "      <td>None</td>\n",
       "      <td>81</td>\n",
       "      <td>Pierce County Sheriff’s Office spokesman Ed Tr...</td>\n",
       "      <td>942868532374769664</td>\n",
       "    </tr>\n",
       "    <tr>\n",
       "      <th>5</th>\n",
       "      <td>Mon Dec 18 21:17:48 +0000 2017</td>\n",
       "      <td>None</td>\n",
       "      <td>CNN</td>\n",
       "      <td>2017-12-18 16:59:35.712925</td>\n",
       "      <td>None</td>\n",
       "      <td>54</td>\n",
       "      <td>Washington Rep. Dennis Heck: \"There's no quest...</td>\n",
       "      <td>942866511680610304</td>\n",
       "    </tr>\n",
       "    <tr>\n",
       "      <th>6</th>\n",
       "      <td>Mon Dec 18 21:11:50 +0000 2017</td>\n",
       "      <td>None</td>\n",
       "      <td>CNN</td>\n",
       "      <td>2017-12-18 16:59:35.712927</td>\n",
       "      <td>None</td>\n",
       "      <td>60</td>\n",
       "      <td>President Trump's first tweet on the train cra...</td>\n",
       "      <td>942865009356558338</td>\n",
       "    </tr>\n",
       "    <tr>\n",
       "      <th>7</th>\n",
       "      <td>Mon Dec 18 21:03:40 +0000 2017</td>\n",
       "      <td>None</td>\n",
       "      <td>CNN</td>\n",
       "      <td>2017-12-18 16:59:35.712929</td>\n",
       "      <td>None</td>\n",
       "      <td>87</td>\n",
       "      <td>Positive Train Control technology that slows t...</td>\n",
       "      <td>942862953673609220</td>\n",
       "    </tr>\n",
       "    <tr>\n",
       "      <th>8</th>\n",
       "      <td>Mon Dec 18 20:47:55 +0000 2017</td>\n",
       "      <td>None</td>\n",
       "      <td>CNN</td>\n",
       "      <td>2017-12-18 16:59:35.712931</td>\n",
       "      <td>None</td>\n",
       "      <td>139</td>\n",
       "      <td>\"It was absolutely unreal, not what we were ex...</td>\n",
       "      <td>942858991000080385</td>\n",
       "    </tr>\n",
       "    <tr>\n",
       "      <th>9</th>\n",
       "      <td>Mon Dec 18 20:43:29 +0000 2017</td>\n",
       "      <td>None</td>\n",
       "      <td>CNN</td>\n",
       "      <td>2017-12-18 16:59:35.712934</td>\n",
       "      <td>None</td>\n",
       "      <td>107</td>\n",
       "      <td>\"We had to have only missed it by a couple of ...</td>\n",
       "      <td>942857873872207872</td>\n",
       "    </tr>\n",
       "    <tr>\n",
       "      <th>10</th>\n",
       "      <td>Mon Dec 18 20:36:57 +0000 2017</td>\n",
       "      <td>None</td>\n",
       "      <td>CNN</td>\n",
       "      <td>2017-12-18 16:59:35.712936</td>\n",
       "      <td>None</td>\n",
       "      <td>103</td>\n",
       "      <td>13 cars jumped the tracks when an Amtrak train...</td>\n",
       "      <td>942856230027980800</td>\n",
       "    </tr>\n",
       "    <tr>\n",
       "      <th>11</th>\n",
       "      <td>Mon Dec 18 20:28:55 +0000 2017</td>\n",
       "      <td>None</td>\n",
       "      <td>CNN</td>\n",
       "      <td>2017-12-18 16:59:35.712938</td>\n",
       "      <td>None</td>\n",
       "      <td>250</td>\n",
       "      <td>Trump judicial nominee Matthew Petersen, who s...</td>\n",
       "      <td>942854210030374918</td>\n",
       "    </tr>\n",
       "    <tr>\n",
       "      <th>12</th>\n",
       "      <td>Mon Dec 18 20:26:05 +0000 2017</td>\n",
       "      <td>None</td>\n",
       "      <td>CNN</td>\n",
       "      <td>2017-12-18 16:59:35.712940</td>\n",
       "      <td>None</td>\n",
       "      <td>38</td>\n",
       "      <td>Washington Gov. Jay Inslee is headed to DuPont...</td>\n",
       "      <td>942853497032241153</td>\n",
       "    </tr>\n",
       "    <tr>\n",
       "      <th>13</th>\n",
       "      <td>Mon Dec 18 20:19:27 +0000 2017</td>\n",
       "      <td>None</td>\n",
       "      <td>CNN</td>\n",
       "      <td>2017-12-18 16:59:35.712942</td>\n",
       "      <td>None</td>\n",
       "      <td>57</td>\n",
       "      <td>RT @CNNnewsroom: Authorities have released a r...</td>\n",
       "      <td>942851827141398528</td>\n",
       "    </tr>\n",
       "    <tr>\n",
       "      <th>14</th>\n",
       "      <td>Mon Dec 18 20:18:00 +0000 2017</td>\n",
       "      <td>None</td>\n",
       "      <td>CNN</td>\n",
       "      <td>2017-12-18 16:59:35.712944</td>\n",
       "      <td>None</td>\n",
       "      <td>59</td>\n",
       "      <td>Facebook said it would start demoting posts th...</td>\n",
       "      <td>942851462559825925</td>\n",
       "    </tr>\n",
       "    <tr>\n",
       "      <th>15</th>\n",
       "      <td>Mon Dec 18 19:59:31 +0000 2017</td>\n",
       "      <td>None</td>\n",
       "      <td>CNN</td>\n",
       "      <td>2017-12-18 16:59:35.712946</td>\n",
       "      <td>None</td>\n",
       "      <td>51</td>\n",
       "      <td>The NTSB considers the Amtrak derailment to be...</td>\n",
       "      <td>942846811127123968</td>\n",
       "    </tr>\n",
       "    <tr>\n",
       "      <th>16</th>\n",
       "      <td>Mon Dec 18 19:54:50 +0000 2017</td>\n",
       "      <td>None</td>\n",
       "      <td>CNN</td>\n",
       "      <td>2017-12-18 16:59:35.712947</td>\n",
       "      <td>None</td>\n",
       "      <td>74</td>\n",
       "      <td>It's too early to know if the Amtrak train der...</td>\n",
       "      <td>942845633076932608</td>\n",
       "    </tr>\n",
       "    <tr>\n",
       "      <th>17</th>\n",
       "      <td>Mon Dec 18 19:50:11 +0000 2017</td>\n",
       "      <td>None</td>\n",
       "      <td>CNN</td>\n",
       "      <td>2017-12-18 16:59:35.712950</td>\n",
       "      <td>None</td>\n",
       "      <td>47</td>\n",
       "      <td>ESPN president John Skipper resigns, citing a ...</td>\n",
       "      <td>942844460043513856</td>\n",
       "    </tr>\n",
       "    <tr>\n",
       "      <th>18</th>\n",
       "      <td>Mon Dec 18 19:41:16 +0000 2017</td>\n",
       "      <td>None</td>\n",
       "      <td>CNN</td>\n",
       "      <td>2017-12-18 16:59:35.712951</td>\n",
       "      <td>None</td>\n",
       "      <td>59</td>\n",
       "      <td>President Trump: \"The third pillar of our stra...</td>\n",
       "      <td>942842216434806784</td>\n",
       "    </tr>\n",
       "    <tr>\n",
       "      <th>19</th>\n",
       "      <td>Mon Dec 18 19:40:10 +0000 2017</td>\n",
       "      <td>None</td>\n",
       "      <td>CNN</td>\n",
       "      <td>2017-12-18 16:59:35.712953</td>\n",
       "      <td>None</td>\n",
       "      <td>91</td>\n",
       "      <td>Puerto Rico's governor has ordered a review of...</td>\n",
       "      <td>942841940781031424</td>\n",
       "    </tr>\n",
       "    <tr>\n",
       "      <th>20</th>\n",
       "      <td>Mon Dec 18 19:37:41 +0000 2017</td>\n",
       "      <td>None</td>\n",
       "      <td>CNN</td>\n",
       "      <td>2017-12-18 16:59:35.712955</td>\n",
       "      <td>None</td>\n",
       "      <td>81</td>\n",
       "      <td>The NTSB is holding a press conference on the ...</td>\n",
       "      <td>942841314995040256</td>\n",
       "    </tr>\n",
       "    <tr>\n",
       "      <th>21</th>\n",
       "      <td>Mon Dec 18 19:31:16 +0000 2017</td>\n",
       "      <td>None</td>\n",
       "      <td>CNN</td>\n",
       "      <td>2017-12-18 16:59:35.712957</td>\n",
       "      <td>None</td>\n",
       "      <td>111</td>\n",
       "      <td>Here’s a comparison between the current 2018 t...</td>\n",
       "      <td>942839701861478400</td>\n",
       "    </tr>\n",
       "    <tr>\n",
       "      <th>22</th>\n",
       "      <td>Mon Dec 18 19:27:52 +0000 2017</td>\n",
       "      <td>None</td>\n",
       "      <td>CNN</td>\n",
       "      <td>2017-12-18 16:59:35.712960</td>\n",
       "      <td>None</td>\n",
       "      <td>24</td>\n",
       "      <td>RT @CNNnewsroom: \"A nation that is not prepare...</td>\n",
       "      <td>942838847355936770</td>\n",
       "    </tr>\n",
       "    <tr>\n",
       "      <th>23</th>\n",
       "      <td>Mon Dec 18 19:19:05 +0000 2017</td>\n",
       "      <td>None</td>\n",
       "      <td>CNN</td>\n",
       "      <td>2017-12-18 16:59:35.712962</td>\n",
       "      <td>None</td>\n",
       "      <td>299</td>\n",
       "      <td>Matthew Petersen, President Trump's district c...</td>\n",
       "      <td>942836634063601664</td>\n",
       "    </tr>\n",
       "    <tr>\n",
       "      <th>24</th>\n",
       "      <td>Mon Dec 18 19:08:43 +0000 2017</td>\n",
       "      <td>None</td>\n",
       "      <td>CNN</td>\n",
       "      <td>2017-12-18 16:59:35.712964</td>\n",
       "      <td>None</td>\n",
       "      <td>50</td>\n",
       "      <td>President Trump on passenger train derailment ...</td>\n",
       "      <td>942834025957351425</td>\n",
       "    </tr>\n",
       "    <tr>\n",
       "      <th>25</th>\n",
       "      <td>Mon Dec 18 18:59:53 +0000 2017</td>\n",
       "      <td>None</td>\n",
       "      <td>CNN</td>\n",
       "      <td>2017-12-18 16:59:35.712965</td>\n",
       "      <td>None</td>\n",
       "      <td>78</td>\n",
       "      <td>Man who was on the Amtrak train that derailed:...</td>\n",
       "      <td>942831803458564096</td>\n",
       "    </tr>\n",
       "    <tr>\n",
       "      <th>26</th>\n",
       "      <td>Mon Dec 18 18:43:06 +0000 2017</td>\n",
       "      <td>None</td>\n",
       "      <td>CNN</td>\n",
       "      <td>2017-12-18 16:59:35.712967</td>\n",
       "      <td>None</td>\n",
       "      <td>270</td>\n",
       "      <td>Aerial footage shows more Amtrak rail cars off...</td>\n",
       "      <td>942827581149274112</td>\n",
       "    </tr>\n",
       "    <tr>\n",
       "      <th>27</th>\n",
       "      <td>Mon Dec 18 18:39:11 +0000 2017</td>\n",
       "      <td>None</td>\n",
       "      <td>CNN</td>\n",
       "      <td>2017-12-18 16:59:35.712969</td>\n",
       "      <td>None</td>\n",
       "      <td>212</td>\n",
       "      <td>An employee slides down a blocked escalator at...</td>\n",
       "      <td>942826594804125696</td>\n",
       "    </tr>\n",
       "    <tr>\n",
       "      <th>28</th>\n",
       "      <td>Mon Dec 18 18:36:29 +0000 2017</td>\n",
       "      <td>None</td>\n",
       "      <td>CNN</td>\n",
       "      <td>2017-12-18 16:59:35.712970</td>\n",
       "      <td>None</td>\n",
       "      <td>119</td>\n",
       "      <td>\"Amtrak 501, Emergency, emergency, emergency. ...</td>\n",
       "      <td>942825915402407936</td>\n",
       "    </tr>\n",
       "    <tr>\n",
       "      <th>29</th>\n",
       "      <td>Mon Dec 18 18:26:08 +0000 2017</td>\n",
       "      <td>None</td>\n",
       "      <td>CNN</td>\n",
       "      <td>2017-12-18 16:59:35.712972</td>\n",
       "      <td>None</td>\n",
       "      <td>376</td>\n",
       "      <td>Twitter has suspended three accounts tied to f...</td>\n",
       "      <td>942823308663377920</td>\n",
       "    </tr>\n",
       "    <tr>\n",
       "      <th>...</th>\n",
       "      <td>...</td>\n",
       "      <td>...</td>\n",
       "      <td>...</td>\n",
       "      <td>...</td>\n",
       "      <td>...</td>\n",
       "      <td>...</td>\n",
       "      <td>...</td>\n",
       "      <td>...</td>\n",
       "    </tr>\n",
       "    <tr>\n",
       "      <th>170</th>\n",
       "      <td>Sun Dec 17 19:15:08 +0000 2017</td>\n",
       "      <td>None</td>\n",
       "      <td>CNN</td>\n",
       "      <td>2017-12-18 16:59:35.713210</td>\n",
       "      <td>None</td>\n",
       "      <td>473</td>\n",
       "      <td>Ohio Gov. John Kasich, a Republican, says the ...</td>\n",
       "      <td>942473252911411200</td>\n",
       "    </tr>\n",
       "    <tr>\n",
       "      <th>171</th>\n",
       "      <td>Sun Dec 17 19:00:19 +0000 2017</td>\n",
       "      <td>None</td>\n",
       "      <td>CNN</td>\n",
       "      <td>2017-12-18 16:59:35.713211</td>\n",
       "      <td>None</td>\n",
       "      <td>162</td>\n",
       "      <td>The Pentagon has researched the possible exist...</td>\n",
       "      <td>942469524967829504</td>\n",
       "    </tr>\n",
       "    <tr>\n",
       "      <th>172</th>\n",
       "      <td>Sun Dec 17 18:45:04 +0000 2017</td>\n",
       "      <td>None</td>\n",
       "      <td>CNN</td>\n",
       "      <td>2017-12-18 16:59:35.713213</td>\n",
       "      <td>None</td>\n",
       "      <td>272</td>\n",
       "      <td>Southern Californnia resident says her neighbo...</td>\n",
       "      <td>942465685254541312</td>\n",
       "    </tr>\n",
       "    <tr>\n",
       "      <th>173</th>\n",
       "      <td>Sun Dec 17 18:30:05 +0000 2017</td>\n",
       "      <td>None</td>\n",
       "      <td>CNN</td>\n",
       "      <td>2017-12-18 16:59:35.713214</td>\n",
       "      <td>None</td>\n",
       "      <td>96</td>\n",
       "      <td>Don't blink — or you'll miss another market mi...</td>\n",
       "      <td>942461916043149312</td>\n",
       "    </tr>\n",
       "    <tr>\n",
       "      <th>174</th>\n",
       "      <td>Sun Dec 17 18:15:13 +0000 2017</td>\n",
       "      <td>None</td>\n",
       "      <td>CNN</td>\n",
       "      <td>2017-12-18 16:59:35.713216</td>\n",
       "      <td>None</td>\n",
       "      <td>152</td>\n",
       "      <td>A landslide in Chile has left 5 dead and 15 mi...</td>\n",
       "      <td>942458172941504514</td>\n",
       "    </tr>\n",
       "    <tr>\n",
       "      <th>175</th>\n",
       "      <td>Sun Dec 17 18:00:22 +0000 2017</td>\n",
       "      <td>None</td>\n",
       "      <td>CNN</td>\n",
       "      <td>2017-12-18 16:59:35.713218</td>\n",
       "      <td>None</td>\n",
       "      <td>161</td>\n",
       "      <td>\"Star Wars: The Last Jedi\" had a monster box o...</td>\n",
       "      <td>942454436072435714</td>\n",
       "    </tr>\n",
       "    <tr>\n",
       "      <th>176</th>\n",
       "      <td>Sun Dec 17 17:45:04 +0000 2017</td>\n",
       "      <td>None</td>\n",
       "      <td>CNN</td>\n",
       "      <td>2017-12-18 16:59:35.713219</td>\n",
       "      <td>None</td>\n",
       "      <td>110</td>\n",
       "      <td>Here's what's in the tax bill for homeowners:\\...</td>\n",
       "      <td>942450586557050880</td>\n",
       "    </tr>\n",
       "    <tr>\n",
       "      <th>177</th>\n",
       "      <td>Sun Dec 17 17:30:31 +0000 2017</td>\n",
       "      <td>None</td>\n",
       "      <td>CNN</td>\n",
       "      <td>2017-12-18 16:59:35.713221</td>\n",
       "      <td>None</td>\n",
       "      <td>205</td>\n",
       "      <td>Their missions vary greatly: To provide loving...</td>\n",
       "      <td>942446924082352129</td>\n",
       "    </tr>\n",
       "    <tr>\n",
       "      <th>178</th>\n",
       "      <td>Sun Dec 17 17:22:18 +0000 2017</td>\n",
       "      <td>None</td>\n",
       "      <td>CNN</td>\n",
       "      <td>2017-12-18 16:59:35.713223</td>\n",
       "      <td>None</td>\n",
       "      <td>452</td>\n",
       "      <td>\"Do I need a British accent?\" former President...</td>\n",
       "      <td>942444855774588929</td>\n",
       "    </tr>\n",
       "    <tr>\n",
       "      <th>179</th>\n",
       "      <td>Sun Dec 17 17:00:47 +0000 2017</td>\n",
       "      <td>None</td>\n",
       "      <td>CNN</td>\n",
       "      <td>2017-12-18 16:59:35.713224</td>\n",
       "      <td>None</td>\n",
       "      <td>162</td>\n",
       "      <td>Alabama Senator-elect Doug Jones says it's tim...</td>\n",
       "      <td>942439444598132737</td>\n",
       "    </tr>\n",
       "    <tr>\n",
       "      <th>180</th>\n",
       "      <td>Sun Dec 17 16:45:10 +0000 2017</td>\n",
       "      <td>None</td>\n",
       "      <td>CNN</td>\n",
       "      <td>2017-12-18 16:59:35.713226</td>\n",
       "      <td>None</td>\n",
       "      <td>75</td>\n",
       "      <td>UK Prime Minister Theresa May 'will not be der...</td>\n",
       "      <td>942435513247682561</td>\n",
       "    </tr>\n",
       "    <tr>\n",
       "      <th>181</th>\n",
       "      <td>Sun Dec 17 16:30:45 +0000 2017</td>\n",
       "      <td>None</td>\n",
       "      <td>CNN</td>\n",
       "      <td>2017-12-18 16:59:35.713227</td>\n",
       "      <td>None</td>\n",
       "      <td>112</td>\n",
       "      <td>Treasury Secretary Steven Mnuchin says he has ...</td>\n",
       "      <td>942431885422153729</td>\n",
       "    </tr>\n",
       "    <tr>\n",
       "      <th>182</th>\n",
       "      <td>Sun Dec 17 16:18:20 +0000 2017</td>\n",
       "      <td>None</td>\n",
       "      <td>CNN</td>\n",
       "      <td>2017-12-18 16:59:35.713229</td>\n",
       "      <td>None</td>\n",
       "      <td>408</td>\n",
       "      <td>Children's health should be more important tha...</td>\n",
       "      <td>942428758233047040</td>\n",
       "    </tr>\n",
       "    <tr>\n",
       "      <th>183</th>\n",
       "      <td>Sun Dec 17 16:00:16 +0000 2017</td>\n",
       "      <td>None</td>\n",
       "      <td>CNN</td>\n",
       "      <td>2017-12-18 16:59:35.713230</td>\n",
       "      <td>None</td>\n",
       "      <td>396</td>\n",
       "      <td>Bernie Sanders has joined the list of lawmaker...</td>\n",
       "      <td>942424213436141568</td>\n",
       "    </tr>\n",
       "    <tr>\n",
       "      <th>184</th>\n",
       "      <td>Sun Dec 17 15:45:12 +0000 2017</td>\n",
       "      <td>None</td>\n",
       "      <td>CNN</td>\n",
       "      <td>2017-12-18 16:59:35.713232</td>\n",
       "      <td>None</td>\n",
       "      <td>366</td>\n",
       "      <td>A baby born with her heart outside her body ha...</td>\n",
       "      <td>942420420967518208</td>\n",
       "    </tr>\n",
       "    <tr>\n",
       "      <th>185</th>\n",
       "      <td>Sun Dec 17 15:30:32 +0000 2017</td>\n",
       "      <td>None</td>\n",
       "      <td>CNN</td>\n",
       "      <td>2017-12-18 16:59:35.713233</td>\n",
       "      <td>None</td>\n",
       "      <td>77</td>\n",
       "      <td>Take a look back at the photos that shaped 201...</td>\n",
       "      <td>942416731938713600</td>\n",
       "    </tr>\n",
       "    <tr>\n",
       "      <th>186</th>\n",
       "      <td>Sun Dec 17 15:15:29 +0000 2017</td>\n",
       "      <td>None</td>\n",
       "      <td>CNN</td>\n",
       "      <td>2017-12-18 16:59:35.713235</td>\n",
       "      <td>None</td>\n",
       "      <td>4525</td>\n",
       "      <td>Rep. Himes: The President is attacking the FBI...</td>\n",
       "      <td>942412942510841856</td>\n",
       "    </tr>\n",
       "    <tr>\n",
       "      <th>187</th>\n",
       "      <td>Sun Dec 17 15:00:30 +0000 2017</td>\n",
       "      <td>None</td>\n",
       "      <td>CNN</td>\n",
       "      <td>2017-12-18 16:59:35.713236</td>\n",
       "      <td>None</td>\n",
       "      <td>377</td>\n",
       "      <td>For the first time, eight planets have been fo...</td>\n",
       "      <td>942409171437326337</td>\n",
       "    </tr>\n",
       "    <tr>\n",
       "      <th>188</th>\n",
       "      <td>Sun Dec 17 14:53:00 +0000 2017</td>\n",
       "      <td>None</td>\n",
       "      <td>CNN</td>\n",
       "      <td>2017-12-18 16:59:35.713238</td>\n",
       "      <td>None</td>\n",
       "      <td>189</td>\n",
       "      <td>Sen.-elect Doug Jones of Alabama doesn’t join ...</td>\n",
       "      <td>942407285208367104</td>\n",
       "    </tr>\n",
       "    <tr>\n",
       "      <th>189</th>\n",
       "      <td>Sun Dec 17 14:47:00 +0000 2017</td>\n",
       "      <td>None</td>\n",
       "      <td>CNN</td>\n",
       "      <td>2017-12-18 16:59:35.713239</td>\n",
       "      <td>None</td>\n",
       "      <td>255</td>\n",
       "      <td>Alabama Sen.-elect Doug Jones: \"I'm gonna comm...</td>\n",
       "      <td>942405775523176448</td>\n",
       "    </tr>\n",
       "    <tr>\n",
       "      <th>190</th>\n",
       "      <td>Sun Dec 17 14:45:10 +0000 2017</td>\n",
       "      <td>None</td>\n",
       "      <td>CNN</td>\n",
       "      <td>2017-12-18 16:59:35.713241</td>\n",
       "      <td>None</td>\n",
       "      <td>221</td>\n",
       "      <td>Prince Harry and Meghan Markle will marry on M...</td>\n",
       "      <td>942405314183401478</td>\n",
       "    </tr>\n",
       "    <tr>\n",
       "      <th>191</th>\n",
       "      <td>Sun Dec 17 14:36:00 +0000 2017</td>\n",
       "      <td>None</td>\n",
       "      <td>CNN</td>\n",
       "      <td>2017-12-18 16:59:35.713242</td>\n",
       "      <td>None</td>\n",
       "      <td>126</td>\n",
       "      <td>Alabama Sen.-elect Doug Jones on if he conside...</td>\n",
       "      <td>942403007970283523</td>\n",
       "    </tr>\n",
       "    <tr>\n",
       "      <th>192</th>\n",
       "      <td>Sun Dec 17 14:30:20 +0000 2017</td>\n",
       "      <td>None</td>\n",
       "      <td>CNN</td>\n",
       "      <td>2017-12-18 16:59:35.713244</td>\n",
       "      <td>None</td>\n",
       "      <td>85</td>\n",
       "      <td>The photos that shaped 2017 https://t.co/0gA9d...</td>\n",
       "      <td>942401581756178432</td>\n",
       "    </tr>\n",
       "    <tr>\n",
       "      <th>193</th>\n",
       "      <td>Sun Dec 17 14:30:06 +0000 2017</td>\n",
       "      <td>None</td>\n",
       "      <td>CNN</td>\n",
       "      <td>2017-12-18 16:59:35.713245</td>\n",
       "      <td>None</td>\n",
       "      <td>208</td>\n",
       "      <td>\"The war on Christmas is over...it will soon b...</td>\n",
       "      <td>942401521152651265</td>\n",
       "    </tr>\n",
       "    <tr>\n",
       "      <th>194</th>\n",
       "      <td>Sun Dec 17 14:20:21 +0000 2017</td>\n",
       "      <td>None</td>\n",
       "      <td>CNN</td>\n",
       "      <td>2017-12-18 16:59:35.713247</td>\n",
       "      <td>None</td>\n",
       "      <td>253</td>\n",
       "      <td>Alabama Sen.-elect Doug Jones has a message fo...</td>\n",
       "      <td>942399068378034176</td>\n",
       "    </tr>\n",
       "    <tr>\n",
       "      <th>195</th>\n",
       "      <td>Sun Dec 17 14:19:36 +0000 2017</td>\n",
       "      <td>None</td>\n",
       "      <td>CNN</td>\n",
       "      <td>2017-12-18 16:59:35.713248</td>\n",
       "      <td>None</td>\n",
       "      <td>106</td>\n",
       "      <td>Alabama Sen.-elect Doug Jones says the \"Muelle...</td>\n",
       "      <td>942398877788880896</td>\n",
       "    </tr>\n",
       "    <tr>\n",
       "      <th>196</th>\n",
       "      <td>Sun Dec 17 14:16:14 +0000 2017</td>\n",
       "      <td>None</td>\n",
       "      <td>CNN</td>\n",
       "      <td>2017-12-18 16:59:35.713250</td>\n",
       "      <td>None</td>\n",
       "      <td>154</td>\n",
       "      <td>Treasury Secretary Steve Mnuchin responds to a...</td>\n",
       "      <td>942398033018355712</td>\n",
       "    </tr>\n",
       "    <tr>\n",
       "      <th>197</th>\n",
       "      <td>Sun Dec 17 14:15:07 +0000 2017</td>\n",
       "      <td>None</td>\n",
       "      <td>CNN</td>\n",
       "      <td>2017-12-18 16:59:35.713251</td>\n",
       "      <td>None</td>\n",
       "      <td>238</td>\n",
       "      <td>Climate change in the Northern Arctic is happe...</td>\n",
       "      <td>942397750745927680</td>\n",
       "    </tr>\n",
       "    <tr>\n",
       "      <th>198</th>\n",
       "      <td>Sun Dec 17 14:08:10 +0000 2017</td>\n",
       "      <td>None</td>\n",
       "      <td>CNN</td>\n",
       "      <td>2017-12-18 16:59:35.713253</td>\n",
       "      <td>None</td>\n",
       "      <td>95</td>\n",
       "      <td>Treasury Secretary Steve Mnuchin on the GOP ta...</td>\n",
       "      <td>942396002111287297</td>\n",
       "    </tr>\n",
       "    <tr>\n",
       "      <th>199</th>\n",
       "      <td>Sun Dec 17 14:00:16 +0000 2017</td>\n",
       "      <td>None</td>\n",
       "      <td>CNN</td>\n",
       "      <td>2017-12-18 16:59:35.713254</td>\n",
       "      <td>None</td>\n",
       "      <td>85</td>\n",
       "      <td>Donald Trump won 81% of the vote in this small...</td>\n",
       "      <td>942394015391059969</td>\n",
       "    </tr>\n",
       "  </tbody>\n",
       "</table>\n",
       "<p>200 rows × 8 columns</p>\n",
       "</div>"
      ],
      "text/plain": [
       "                         created_at   geo handle                   mined_at  \\\n",
       "0    Mon Dec 18 21:57:27 +0000 2017  None    CNN 2017-12-18 16:59:35.712906   \n",
       "1    Mon Dec 18 21:52:08 +0000 2017  None    CNN 2017-12-18 16:59:35.712916   \n",
       "2    Mon Dec 18 21:38:21 +0000 2017  None    CNN 2017-12-18 16:59:35.712919   \n",
       "3    Mon Dec 18 21:31:55 +0000 2017  None    CNN 2017-12-18 16:59:35.712921   \n",
       "4    Mon Dec 18 21:25:50 +0000 2017  None    CNN 2017-12-18 16:59:35.712923   \n",
       "5    Mon Dec 18 21:17:48 +0000 2017  None    CNN 2017-12-18 16:59:35.712925   \n",
       "6    Mon Dec 18 21:11:50 +0000 2017  None    CNN 2017-12-18 16:59:35.712927   \n",
       "7    Mon Dec 18 21:03:40 +0000 2017  None    CNN 2017-12-18 16:59:35.712929   \n",
       "8    Mon Dec 18 20:47:55 +0000 2017  None    CNN 2017-12-18 16:59:35.712931   \n",
       "9    Mon Dec 18 20:43:29 +0000 2017  None    CNN 2017-12-18 16:59:35.712934   \n",
       "10   Mon Dec 18 20:36:57 +0000 2017  None    CNN 2017-12-18 16:59:35.712936   \n",
       "11   Mon Dec 18 20:28:55 +0000 2017  None    CNN 2017-12-18 16:59:35.712938   \n",
       "12   Mon Dec 18 20:26:05 +0000 2017  None    CNN 2017-12-18 16:59:35.712940   \n",
       "13   Mon Dec 18 20:19:27 +0000 2017  None    CNN 2017-12-18 16:59:35.712942   \n",
       "14   Mon Dec 18 20:18:00 +0000 2017  None    CNN 2017-12-18 16:59:35.712944   \n",
       "15   Mon Dec 18 19:59:31 +0000 2017  None    CNN 2017-12-18 16:59:35.712946   \n",
       "16   Mon Dec 18 19:54:50 +0000 2017  None    CNN 2017-12-18 16:59:35.712947   \n",
       "17   Mon Dec 18 19:50:11 +0000 2017  None    CNN 2017-12-18 16:59:35.712950   \n",
       "18   Mon Dec 18 19:41:16 +0000 2017  None    CNN 2017-12-18 16:59:35.712951   \n",
       "19   Mon Dec 18 19:40:10 +0000 2017  None    CNN 2017-12-18 16:59:35.712953   \n",
       "20   Mon Dec 18 19:37:41 +0000 2017  None    CNN 2017-12-18 16:59:35.712955   \n",
       "21   Mon Dec 18 19:31:16 +0000 2017  None    CNN 2017-12-18 16:59:35.712957   \n",
       "22   Mon Dec 18 19:27:52 +0000 2017  None    CNN 2017-12-18 16:59:35.712960   \n",
       "23   Mon Dec 18 19:19:05 +0000 2017  None    CNN 2017-12-18 16:59:35.712962   \n",
       "24   Mon Dec 18 19:08:43 +0000 2017  None    CNN 2017-12-18 16:59:35.712964   \n",
       "25   Mon Dec 18 18:59:53 +0000 2017  None    CNN 2017-12-18 16:59:35.712965   \n",
       "26   Mon Dec 18 18:43:06 +0000 2017  None    CNN 2017-12-18 16:59:35.712967   \n",
       "27   Mon Dec 18 18:39:11 +0000 2017  None    CNN 2017-12-18 16:59:35.712969   \n",
       "28   Mon Dec 18 18:36:29 +0000 2017  None    CNN 2017-12-18 16:59:35.712970   \n",
       "29   Mon Dec 18 18:26:08 +0000 2017  None    CNN 2017-12-18 16:59:35.712972   \n",
       "..                              ...   ...    ...                        ...   \n",
       "170  Sun Dec 17 19:15:08 +0000 2017  None    CNN 2017-12-18 16:59:35.713210   \n",
       "171  Sun Dec 17 19:00:19 +0000 2017  None    CNN 2017-12-18 16:59:35.713211   \n",
       "172  Sun Dec 17 18:45:04 +0000 2017  None    CNN 2017-12-18 16:59:35.713213   \n",
       "173  Sun Dec 17 18:30:05 +0000 2017  None    CNN 2017-12-18 16:59:35.713214   \n",
       "174  Sun Dec 17 18:15:13 +0000 2017  None    CNN 2017-12-18 16:59:35.713216   \n",
       "175  Sun Dec 17 18:00:22 +0000 2017  None    CNN 2017-12-18 16:59:35.713218   \n",
       "176  Sun Dec 17 17:45:04 +0000 2017  None    CNN 2017-12-18 16:59:35.713219   \n",
       "177  Sun Dec 17 17:30:31 +0000 2017  None    CNN 2017-12-18 16:59:35.713221   \n",
       "178  Sun Dec 17 17:22:18 +0000 2017  None    CNN 2017-12-18 16:59:35.713223   \n",
       "179  Sun Dec 17 17:00:47 +0000 2017  None    CNN 2017-12-18 16:59:35.713224   \n",
       "180  Sun Dec 17 16:45:10 +0000 2017  None    CNN 2017-12-18 16:59:35.713226   \n",
       "181  Sun Dec 17 16:30:45 +0000 2017  None    CNN 2017-12-18 16:59:35.713227   \n",
       "182  Sun Dec 17 16:18:20 +0000 2017  None    CNN 2017-12-18 16:59:35.713229   \n",
       "183  Sun Dec 17 16:00:16 +0000 2017  None    CNN 2017-12-18 16:59:35.713230   \n",
       "184  Sun Dec 17 15:45:12 +0000 2017  None    CNN 2017-12-18 16:59:35.713232   \n",
       "185  Sun Dec 17 15:30:32 +0000 2017  None    CNN 2017-12-18 16:59:35.713233   \n",
       "186  Sun Dec 17 15:15:29 +0000 2017  None    CNN 2017-12-18 16:59:35.713235   \n",
       "187  Sun Dec 17 15:00:30 +0000 2017  None    CNN 2017-12-18 16:59:35.713236   \n",
       "188  Sun Dec 17 14:53:00 +0000 2017  None    CNN 2017-12-18 16:59:35.713238   \n",
       "189  Sun Dec 17 14:47:00 +0000 2017  None    CNN 2017-12-18 16:59:35.713239   \n",
       "190  Sun Dec 17 14:45:10 +0000 2017  None    CNN 2017-12-18 16:59:35.713241   \n",
       "191  Sun Dec 17 14:36:00 +0000 2017  None    CNN 2017-12-18 16:59:35.713242   \n",
       "192  Sun Dec 17 14:30:20 +0000 2017  None    CNN 2017-12-18 16:59:35.713244   \n",
       "193  Sun Dec 17 14:30:06 +0000 2017  None    CNN 2017-12-18 16:59:35.713245   \n",
       "194  Sun Dec 17 14:20:21 +0000 2017  None    CNN 2017-12-18 16:59:35.713247   \n",
       "195  Sun Dec 17 14:19:36 +0000 2017  None    CNN 2017-12-18 16:59:35.713248   \n",
       "196  Sun Dec 17 14:16:14 +0000 2017  None    CNN 2017-12-18 16:59:35.713250   \n",
       "197  Sun Dec 17 14:15:07 +0000 2017  None    CNN 2017-12-18 16:59:35.713251   \n",
       "198  Sun Dec 17 14:08:10 +0000 2017  None    CNN 2017-12-18 16:59:35.713253   \n",
       "199  Sun Dec 17 14:00:16 +0000 2017  None    CNN 2017-12-18 16:59:35.713254   \n",
       "\n",
       "    place  retweet_count                                               text  \\\n",
       "0    None             33  \"I'm concerned that no job is safe in the Trum...   \n",
       "1    None             41  Matthew Petersen wrote that he is \"no stranger...   \n",
       "2    None            946  Former Director of National Intelligence James...   \n",
       "3    None             69  The power is back on at Atlanta's Hartsfield-J...   \n",
       "4    None             81  Pierce County Sheriff’s Office spokesman Ed Tr...   \n",
       "5    None             54  Washington Rep. Dennis Heck: \"There's no quest...   \n",
       "6    None             60  President Trump's first tweet on the train cra...   \n",
       "7    None             87  Positive Train Control technology that slows t...   \n",
       "8    None            139  \"It was absolutely unreal, not what we were ex...   \n",
       "9    None            107  \"We had to have only missed it by a couple of ...   \n",
       "10   None            103  13 cars jumped the tracks when an Amtrak train...   \n",
       "11   None            250  Trump judicial nominee Matthew Petersen, who s...   \n",
       "12   None             38  Washington Gov. Jay Inslee is headed to DuPont...   \n",
       "13   None             57  RT @CNNnewsroom: Authorities have released a r...   \n",
       "14   None             59  Facebook said it would start demoting posts th...   \n",
       "15   None             51  The NTSB considers the Amtrak derailment to be...   \n",
       "16   None             74  It's too early to know if the Amtrak train der...   \n",
       "17   None             47  ESPN president John Skipper resigns, citing a ...   \n",
       "18   None             59  President Trump: \"The third pillar of our stra...   \n",
       "19   None             91  Puerto Rico's governor has ordered a review of...   \n",
       "20   None             81  The NTSB is holding a press conference on the ...   \n",
       "21   None            111  Here’s a comparison between the current 2018 t...   \n",
       "22   None             24  RT @CNNnewsroom: \"A nation that is not prepare...   \n",
       "23   None            299  Matthew Petersen, President Trump's district c...   \n",
       "24   None             50  President Trump on passenger train derailment ...   \n",
       "25   None             78  Man who was on the Amtrak train that derailed:...   \n",
       "26   None            270  Aerial footage shows more Amtrak rail cars off...   \n",
       "27   None            212  An employee slides down a blocked escalator at...   \n",
       "28   None            119  \"Amtrak 501, Emergency, emergency, emergency. ...   \n",
       "29   None            376  Twitter has suspended three accounts tied to f...   \n",
       "..    ...            ...                                                ...   \n",
       "170  None            473  Ohio Gov. John Kasich, a Republican, says the ...   \n",
       "171  None            162  The Pentagon has researched the possible exist...   \n",
       "172  None            272  Southern Californnia resident says her neighbo...   \n",
       "173  None             96  Don't blink — or you'll miss another market mi...   \n",
       "174  None            152  A landslide in Chile has left 5 dead and 15 mi...   \n",
       "175  None            161  \"Star Wars: The Last Jedi\" had a monster box o...   \n",
       "176  None            110  Here's what's in the tax bill for homeowners:\\...   \n",
       "177  None            205  Their missions vary greatly: To provide loving...   \n",
       "178  None            452  \"Do I need a British accent?\" former President...   \n",
       "179  None            162  Alabama Senator-elect Doug Jones says it's tim...   \n",
       "180  None             75  UK Prime Minister Theresa May 'will not be der...   \n",
       "181  None            112  Treasury Secretary Steven Mnuchin says he has ...   \n",
       "182  None            408  Children's health should be more important tha...   \n",
       "183  None            396  Bernie Sanders has joined the list of lawmaker...   \n",
       "184  None            366  A baby born with her heart outside her body ha...   \n",
       "185  None             77  Take a look back at the photos that shaped 201...   \n",
       "186  None           4525  Rep. Himes: The President is attacking the FBI...   \n",
       "187  None            377  For the first time, eight planets have been fo...   \n",
       "188  None            189  Sen.-elect Doug Jones of Alabama doesn’t join ...   \n",
       "189  None            255  Alabama Sen.-elect Doug Jones: \"I'm gonna comm...   \n",
       "190  None            221  Prince Harry and Meghan Markle will marry on M...   \n",
       "191  None            126  Alabama Sen.-elect Doug Jones on if he conside...   \n",
       "192  None             85  The photos that shaped 2017 https://t.co/0gA9d...   \n",
       "193  None            208  \"The war on Christmas is over...it will soon b...   \n",
       "194  None            253  Alabama Sen.-elect Doug Jones has a message fo...   \n",
       "195  None            106  Alabama Sen.-elect Doug Jones says the \"Muelle...   \n",
       "196  None            154  Treasury Secretary Steve Mnuchin responds to a...   \n",
       "197  None            238  Climate change in the Northern Arctic is happe...   \n",
       "198  None             95  Treasury Secretary Steve Mnuchin on the GOP ta...   \n",
       "199  None             85  Donald Trump won 81% of the vote in this small...   \n",
       "\n",
       "               tweet_id  \n",
       "0    942876488092839936  \n",
       "1    942875149782659072  \n",
       "2    942871683152560128  \n",
       "3    942870062322667525  \n",
       "4    942868532374769664  \n",
       "5    942866511680610304  \n",
       "6    942865009356558338  \n",
       "7    942862953673609220  \n",
       "8    942858991000080385  \n",
       "9    942857873872207872  \n",
       "10   942856230027980800  \n",
       "11   942854210030374918  \n",
       "12   942853497032241153  \n",
       "13   942851827141398528  \n",
       "14   942851462559825925  \n",
       "15   942846811127123968  \n",
       "16   942845633076932608  \n",
       "17   942844460043513856  \n",
       "18   942842216434806784  \n",
       "19   942841940781031424  \n",
       "20   942841314995040256  \n",
       "21   942839701861478400  \n",
       "22   942838847355936770  \n",
       "23   942836634063601664  \n",
       "24   942834025957351425  \n",
       "25   942831803458564096  \n",
       "26   942827581149274112  \n",
       "27   942826594804125696  \n",
       "28   942825915402407936  \n",
       "29   942823308663377920  \n",
       "..                  ...  \n",
       "170  942473252911411200  \n",
       "171  942469524967829504  \n",
       "172  942465685254541312  \n",
       "173  942461916043149312  \n",
       "174  942458172941504514  \n",
       "175  942454436072435714  \n",
       "176  942450586557050880  \n",
       "177  942446924082352129  \n",
       "178  942444855774588929  \n",
       "179  942439444598132737  \n",
       "180  942435513247682561  \n",
       "181  942431885422153729  \n",
       "182  942428758233047040  \n",
       "183  942424213436141568  \n",
       "184  942420420967518208  \n",
       "185  942416731938713600  \n",
       "186  942412942510841856  \n",
       "187  942409171437326337  \n",
       "188  942407285208367104  \n",
       "189  942405775523176448  \n",
       "190  942405314183401478  \n",
       "191  942403007970283523  \n",
       "192  942401581756178432  \n",
       "193  942401521152651265  \n",
       "194  942399068378034176  \n",
       "195  942398877788880896  \n",
       "196  942398033018355712  \n",
       "197  942397750745927680  \n",
       "198  942396002111287297  \n",
       "199  942394015391059969  \n",
       "\n",
       "[200 rows x 8 columns]"
      ]
     },
     "execution_count": 60,
     "metadata": {},
     "output_type": "execute_result"
    }
   ],
   "source": [
    "cnn_tweets = miner.mine_user_tweets(user='CNN')\n",
    "cnn_df2= pd.DataFrame(cnn_tweets)\n",
    "cnn_df2"
   ]
  },
  {
   "cell_type": "code",
   "execution_count": 61,
   "metadata": {},
   "outputs": [
    {
     "data": {
      "text/plain": [
       "(200, 8)"
      ]
     },
     "execution_count": 61,
     "metadata": {},
     "output_type": "execute_result"
    }
   ],
   "source": [
    "cnn_df2.drop_duplicates('text').shape"
   ]
  },
  {
   "cell_type": "code",
   "execution_count": null,
   "metadata": {
    "collapsed": true
   },
   "outputs": [],
   "source": [
    "cnn"
   ]
  },
  {
   "cell_type": "code",
   "execution_count": 62,
   "metadata": {
    "collapsed": true
   },
   "outputs": [],
   "source": [
    "newmaxid = 722382636307271682"
   ]
  },
  {
   "cell_type": "code",
   "execution_count": 67,
   "metadata": {
    "collapsed": true
   },
   "outputs": [],
   "source": [
    "for _ in range(0,30):\n",
    "    w_tweets = miner.mine_user_tweets(user='CNN',max_id=newmaxid)\n",
    "    w_dfx = pd.DataFrame(w_tweets)\n",
    "    cnn_df  = pd.concat([cnn_df, w_dfx])\n",
    "    newmaxid =  cnn_df.tweet_id.min() - 1"
   ]
  },
  {
   "cell_type": "code",
   "execution_count": 64,
   "metadata": {},
   "outputs": [
    {
     "data": {
      "text/plain": [
       "(3217, 8)"
      ]
     },
     "execution_count": 64,
     "metadata": {},
     "output_type": "execute_result"
    }
   ],
   "source": [
    "cnn_df.drop_duplicates('text').shape"
   ]
  },
  {
   "cell_type": "code",
   "execution_count": null,
   "metadata": {
    "collapsed": true
   },
   "outputs": [],
   "source": []
  },
  {
   "cell_type": "code",
   "execution_count": 68,
   "metadata": {},
   "outputs": [
    {
     "data": {
      "text/plain": [
       "(11217, 8)"
      ]
     },
     "execution_count": 68,
     "metadata": {},
     "output_type": "execute_result"
    }
   ],
   "source": [
    "cnn_df.shape"
   ]
  },
  {
   "cell_type": "code",
   "execution_count": 52,
   "metadata": {},
   "outputs": [
    {
     "data": {
      "text/html": [
       "<div>\n",
       "<style>\n",
       "    .dataframe thead tr:only-child th {\n",
       "        text-align: right;\n",
       "    }\n",
       "\n",
       "    .dataframe thead th {\n",
       "        text-align: left;\n",
       "    }\n",
       "\n",
       "    .dataframe tbody tr th {\n",
       "        vertical-align: top;\n",
       "    }\n",
       "</style>\n",
       "<table border=\"1\" class=\"dataframe\">\n",
       "  <thead>\n",
       "    <tr style=\"text-align: right;\">\n",
       "      <th></th>\n",
       "      <th>created_at</th>\n",
       "      <th>geo</th>\n",
       "      <th>handle</th>\n",
       "      <th>mined_at</th>\n",
       "      <th>place</th>\n",
       "      <th>retweet_count</th>\n",
       "      <th>text</th>\n",
       "      <th>tweet_id</th>\n",
       "    </tr>\n",
       "  </thead>\n",
       "  <tbody>\n",
       "    <tr>\n",
       "      <th>198</th>\n",
       "      <td>Wed Dec 13 03:47:40 +0000 2017</td>\n",
       "      <td>None</td>\n",
       "      <td>CNN</td>\n",
       "      <td>2017-12-18 16:36:15.804167</td>\n",
       "      <td>None</td>\n",
       "      <td>819</td>\n",
       "      <td>Bakari Sellers: \"The raw emotion of victory on...</td>\n",
       "      <td>940790298950754305</td>\n",
       "    </tr>\n",
       "    <tr>\n",
       "      <th>199</th>\n",
       "      <td>Wed Dec 13 03:42:31 +0000 2017</td>\n",
       "      <td>None</td>\n",
       "      <td>CNN</td>\n",
       "      <td>2017-12-18 16:36:15.804169</td>\n",
       "      <td>None</td>\n",
       "      <td>576</td>\n",
       "      <td>What you need to know about Doug Jones, the De...</td>\n",
       "      <td>940788999312076801</td>\n",
       "    </tr>\n",
       "    <tr>\n",
       "      <th>200</th>\n",
       "      <td>Thu Dec 14 08:29:43 +0000 2017</td>\n",
       "      <td>None</td>\n",
       "      <td>CNN</td>\n",
       "      <td>2017-12-18 16:36:16.311747</td>\n",
       "      <td>None</td>\n",
       "      <td>120</td>\n",
       "      <td>An embattled Kentucky state lawmaker facing se...</td>\n",
       "      <td>941223664363753477</td>\n",
       "    </tr>\n",
       "    <tr>\n",
       "      <th>201</th>\n",
       "      <td>Thu Dec 14 08:19:24 +0000 2017</td>\n",
       "      <td>None</td>\n",
       "      <td>CNN</td>\n",
       "      <td>2017-12-18 16:36:16.311763</td>\n",
       "      <td>None</td>\n",
       "      <td>150</td>\n",
       "      <td>These smart, self-driving buses are being test...</td>\n",
       "      <td>941221070765510656</td>\n",
       "    </tr>\n",
       "  </tbody>\n",
       "</table>\n",
       "</div>"
      ],
      "text/plain": [
       "                         created_at   geo handle                   mined_at  \\\n",
       "198  Wed Dec 13 03:47:40 +0000 2017  None    CNN 2017-12-18 16:36:15.804167   \n",
       "199  Wed Dec 13 03:42:31 +0000 2017  None    CNN 2017-12-18 16:36:15.804169   \n",
       "200  Thu Dec 14 08:29:43 +0000 2017  None    CNN 2017-12-18 16:36:16.311747   \n",
       "201  Thu Dec 14 08:19:24 +0000 2017  None    CNN 2017-12-18 16:36:16.311763   \n",
       "\n",
       "    place  retweet_count                                               text  \\\n",
       "198  None            819  Bakari Sellers: \"The raw emotion of victory on...   \n",
       "199  None            576  What you need to know about Doug Jones, the De...   \n",
       "200  None            120  An embattled Kentucky state lawmaker facing se...   \n",
       "201  None            150  These smart, self-driving buses are being test...   \n",
       "\n",
       "               tweet_id  \n",
       "198  940790298950754305  \n",
       "199  940788999312076801  \n",
       "200  941223664363753477  \n",
       "201  941221070765510656  "
      ]
     },
     "execution_count": 52,
     "metadata": {},
     "output_type": "execute_result"
    }
   ],
   "source": [
    "cnn_df.iloc[3198:3202,:]"
   ]
  },
  {
   "cell_type": "code",
   "execution_count": 54,
   "metadata": {},
   "outputs": [
    {
     "data": {
      "text/html": [
       "<div>\n",
       "<style>\n",
       "    .dataframe thead tr:only-child th {\n",
       "        text-align: right;\n",
       "    }\n",
       "\n",
       "    .dataframe thead th {\n",
       "        text-align: left;\n",
       "    }\n",
       "\n",
       "    .dataframe tbody tr th {\n",
       "        vertical-align: top;\n",
       "    }\n",
       "</style>\n",
       "<table border=\"1\" class=\"dataframe\">\n",
       "  <thead>\n",
       "    <tr style=\"text-align: right;\">\n",
       "      <th></th>\n",
       "      <th>created_at</th>\n",
       "      <th>geo</th>\n",
       "      <th>handle</th>\n",
       "      <th>mined_at</th>\n",
       "      <th>place</th>\n",
       "      <th>retweet_count</th>\n",
       "      <th>text</th>\n",
       "      <th>tweet_id</th>\n",
       "    </tr>\n",
       "  </thead>\n",
       "  <tbody>\n",
       "    <tr>\n",
       "      <th>998</th>\n",
       "      <td>Wed Dec 13 03:47:40 +0000 2017</td>\n",
       "      <td>None</td>\n",
       "      <td>CNN</td>\n",
       "      <td>2017-12-18 16:36:17.953802</td>\n",
       "      <td>None</td>\n",
       "      <td>819</td>\n",
       "      <td>Bakari Sellers: \"The raw emotion of victory on...</td>\n",
       "      <td>940790298950754305</td>\n",
       "    </tr>\n",
       "    <tr>\n",
       "      <th>999</th>\n",
       "      <td>Wed Dec 13 03:42:31 +0000 2017</td>\n",
       "      <td>None</td>\n",
       "      <td>CNN</td>\n",
       "      <td>2017-12-18 16:36:17.953804</td>\n",
       "      <td>None</td>\n",
       "      <td>576</td>\n",
       "      <td>What you need to know about Doug Jones, the De...</td>\n",
       "      <td>940788999312076801</td>\n",
       "    </tr>\n",
       "    <tr>\n",
       "      <th>0</th>\n",
       "      <td>Wed Dec 13 03:32:08 +0000 2017</td>\n",
       "      <td>None</td>\n",
       "      <td>CNN</td>\n",
       "      <td>2017-12-18 16:36:18.315536</td>\n",
       "      <td>None</td>\n",
       "      <td>2802</td>\n",
       "      <td>Democrat Doug Jones will win the Senate specia...</td>\n",
       "      <td>940786387158224896</td>\n",
       "    </tr>\n",
       "    <tr>\n",
       "      <th>1</th>\n",
       "      <td>Wed Dec 13 03:29:34 +0000 2017</td>\n",
       "      <td>None</td>\n",
       "      <td>CNN</td>\n",
       "      <td>2017-12-18 16:36:18.315545</td>\n",
       "      <td>None</td>\n",
       "      <td>108</td>\n",
       "      <td>This ancient penguin was about 5'10\" and weigh...</td>\n",
       "      <td>940785741176737792</td>\n",
       "    </tr>\n",
       "  </tbody>\n",
       "</table>\n",
       "</div>"
      ],
      "text/plain": [
       "                         created_at   geo handle                   mined_at  \\\n",
       "998  Wed Dec 13 03:47:40 +0000 2017  None    CNN 2017-12-18 16:36:17.953802   \n",
       "999  Wed Dec 13 03:42:31 +0000 2017  None    CNN 2017-12-18 16:36:17.953804   \n",
       "0    Wed Dec 13 03:32:08 +0000 2017  None    CNN 2017-12-18 16:36:18.315536   \n",
       "1    Wed Dec 13 03:29:34 +0000 2017  None    CNN 2017-12-18 16:36:18.315545   \n",
       "\n",
       "    place  retweet_count                                               text  \\\n",
       "998  None            819  Bakari Sellers: \"The raw emotion of victory on...   \n",
       "999  None            576  What you need to know about Doug Jones, the De...   \n",
       "0    None           2802  Democrat Doug Jones will win the Senate specia...   \n",
       "1    None            108  This ancient penguin was about 5'10\" and weigh...   \n",
       "\n",
       "               tweet_id  \n",
       "998  940790298950754305  \n",
       "999  940788999312076801  \n",
       "0    940786387158224896  \n",
       "1    940785741176737792  "
      ]
     },
     "execution_count": 54,
     "metadata": {},
     "output_type": "execute_result"
    }
   ],
   "source": [
    "cnn_df.iloc[3998:4002,:]"
   ]
  },
  {
   "cell_type": "code",
   "execution_count": 53,
   "metadata": {},
   "outputs": [
    {
     "data": {
      "text/html": [
       "<div>\n",
       "<style>\n",
       "    .dataframe thead tr:only-child th {\n",
       "        text-align: right;\n",
       "    }\n",
       "\n",
       "    .dataframe thead th {\n",
       "        text-align: left;\n",
       "    }\n",
       "\n",
       "    .dataframe tbody tr th {\n",
       "        vertical-align: top;\n",
       "    }\n",
       "</style>\n",
       "<table border=\"1\" class=\"dataframe\">\n",
       "  <thead>\n",
       "    <tr style=\"text-align: right;\">\n",
       "      <th></th>\n",
       "      <th>created_at</th>\n",
       "      <th>geo</th>\n",
       "      <th>handle</th>\n",
       "      <th>mined_at</th>\n",
       "      <th>place</th>\n",
       "      <th>retweet_count</th>\n",
       "      <th>text</th>\n",
       "      <th>tweet_id</th>\n",
       "    </tr>\n",
       "  </thead>\n",
       "  <tbody>\n",
       "    <tr>\n",
       "      <th>198</th>\n",
       "      <td>Tue Dec 12 03:23:21 +0000 2017</td>\n",
       "      <td>None</td>\n",
       "      <td>CNN</td>\n",
       "      <td>2017-12-18 16:36:18.315878</td>\n",
       "      <td>None</td>\n",
       "      <td>2068</td>\n",
       "      <td>Former NBA player Charles Barkley reacts to Ka...</td>\n",
       "      <td>940421790811037696</td>\n",
       "    </tr>\n",
       "    <tr>\n",
       "      <th>199</th>\n",
       "      <td>Tue Dec 12 03:21:05 +0000 2017</td>\n",
       "      <td>None</td>\n",
       "      <td>CNN</td>\n",
       "      <td>2017-12-18 16:36:18.315879</td>\n",
       "      <td>None</td>\n",
       "      <td>104</td>\n",
       "      <td>Comcast is dropping out of the running to buy ...</td>\n",
       "      <td>940421219119259648</td>\n",
       "    </tr>\n",
       "    <tr>\n",
       "      <th>200</th>\n",
       "      <td>Wed Dec 13 03:32:08 +0000 2017</td>\n",
       "      <td>None</td>\n",
       "      <td>CNN</td>\n",
       "      <td>2017-12-18 16:36:18.695219</td>\n",
       "      <td>None</td>\n",
       "      <td>2802</td>\n",
       "      <td>Democrat Doug Jones will win the Senate specia...</td>\n",
       "      <td>940786387158224896</td>\n",
       "    </tr>\n",
       "    <tr>\n",
       "      <th>201</th>\n",
       "      <td>Wed Dec 13 03:29:34 +0000 2017</td>\n",
       "      <td>None</td>\n",
       "      <td>CNN</td>\n",
       "      <td>2017-12-18 16:36:18.695231</td>\n",
       "      <td>None</td>\n",
       "      <td>108</td>\n",
       "      <td>This ancient penguin was about 5'10\" and weigh...</td>\n",
       "      <td>940785741176737792</td>\n",
       "    </tr>\n",
       "  </tbody>\n",
       "</table>\n",
       "</div>"
      ],
      "text/plain": [
       "                         created_at   geo handle                   mined_at  \\\n",
       "198  Tue Dec 12 03:23:21 +0000 2017  None    CNN 2017-12-18 16:36:18.315878   \n",
       "199  Tue Dec 12 03:21:05 +0000 2017  None    CNN 2017-12-18 16:36:18.315879   \n",
       "200  Wed Dec 13 03:32:08 +0000 2017  None    CNN 2017-12-18 16:36:18.695219   \n",
       "201  Wed Dec 13 03:29:34 +0000 2017  None    CNN 2017-12-18 16:36:18.695231   \n",
       "\n",
       "    place  retweet_count                                               text  \\\n",
       "198  None           2068  Former NBA player Charles Barkley reacts to Ka...   \n",
       "199  None            104  Comcast is dropping out of the running to buy ...   \n",
       "200  None           2802  Democrat Doug Jones will win the Senate specia...   \n",
       "201  None            108  This ancient penguin was about 5'10\" and weigh...   \n",
       "\n",
       "               tweet_id  \n",
       "198  940421790811037696  \n",
       "199  940421219119259648  \n",
       "200  940786387158224896  \n",
       "201  940785741176737792  "
      ]
     },
     "execution_count": 53,
     "metadata": {},
     "output_type": "execute_result"
    }
   ],
   "source": [
    "cnn_df.iloc[4198:4202,:]"
   ]
  },
  {
   "cell_type": "code",
   "execution_count": 49,
   "metadata": {},
   "outputs": [
    {
     "data": {
      "text/html": [
       "<div>\n",
       "<style>\n",
       "    .dataframe thead tr:only-child th {\n",
       "        text-align: right;\n",
       "    }\n",
       "\n",
       "    .dataframe thead th {\n",
       "        text-align: left;\n",
       "    }\n",
       "\n",
       "    .dataframe tbody tr th {\n",
       "        vertical-align: top;\n",
       "    }\n",
       "</style>\n",
       "<table border=\"1\" class=\"dataframe\">\n",
       "  <thead>\n",
       "    <tr style=\"text-align: right;\">\n",
       "      <th></th>\n",
       "      <th>created_at</th>\n",
       "      <th>geo</th>\n",
       "      <th>handle</th>\n",
       "      <th>mined_at</th>\n",
       "      <th>place</th>\n",
       "      <th>retweet_count</th>\n",
       "      <th>text</th>\n",
       "      <th>tweet_id</th>\n",
       "    </tr>\n",
       "  </thead>\n",
       "  <tbody>\n",
       "    <tr>\n",
       "      <th>998</th>\n",
       "      <td>Fri Dec 15 14:50:47 +0000 2017</td>\n",
       "      <td>None</td>\n",
       "      <td>CNN</td>\n",
       "      <td>2017-12-18 16:36:12.704156</td>\n",
       "      <td>None</td>\n",
       "      <td>52</td>\n",
       "      <td>How Mueller's path was muddied in two weeks ht...</td>\n",
       "      <td>941681950032580609</td>\n",
       "    </tr>\n",
       "    <tr>\n",
       "      <th>999</th>\n",
       "      <td>Fri Dec 15 14:46:13 +0000 2017</td>\n",
       "      <td>None</td>\n",
       "      <td>CNN</td>\n",
       "      <td>2017-12-18 16:36:12.704158</td>\n",
       "      <td>None</td>\n",
       "      <td>456</td>\n",
       "      <td>President Trump on the FBI: “It’s a shame what...</td>\n",
       "      <td>941680801598472192</td>\n",
       "    </tr>\n",
       "    <tr>\n",
       "      <th>0</th>\n",
       "      <td>Fri Dec 15 14:35:07 +0000 2017</td>\n",
       "      <td>None</td>\n",
       "      <td>CNN</td>\n",
       "      <td>2017-12-18 16:36:12.997793</td>\n",
       "      <td>None</td>\n",
       "      <td>91</td>\n",
       "      <td>Omarosa Manigault Newman, a senior staffer who...</td>\n",
       "      <td>941678009995718657</td>\n",
       "    </tr>\n",
       "    <tr>\n",
       "      <th>1</th>\n",
       "      <td>Fri Dec 15 14:26:19 +0000 2017</td>\n",
       "      <td>None</td>\n",
       "      <td>CNN</td>\n",
       "      <td>2017-12-18 16:36:12.997804</td>\n",
       "      <td>None</td>\n",
       "      <td>237</td>\n",
       "      <td>RT @cnni: CNN's @arwaCNN is in Al-Bireh, West ...</td>\n",
       "      <td>941675795554164738</td>\n",
       "    </tr>\n",
       "  </tbody>\n",
       "</table>\n",
       "</div>"
      ],
      "text/plain": [
       "                         created_at   geo handle                   mined_at  \\\n",
       "998  Fri Dec 15 14:50:47 +0000 2017  None    CNN 2017-12-18 16:36:12.704156   \n",
       "999  Fri Dec 15 14:46:13 +0000 2017  None    CNN 2017-12-18 16:36:12.704158   \n",
       "0    Fri Dec 15 14:35:07 +0000 2017  None    CNN 2017-12-18 16:36:12.997793   \n",
       "1    Fri Dec 15 14:26:19 +0000 2017  None    CNN 2017-12-18 16:36:12.997804   \n",
       "\n",
       "    place  retweet_count                                               text  \\\n",
       "998  None             52  How Mueller's path was muddied in two weeks ht...   \n",
       "999  None            456  President Trump on the FBI: “It’s a shame what...   \n",
       "0    None             91  Omarosa Manigault Newman, a senior staffer who...   \n",
       "1    None            237  RT @cnni: CNN's @arwaCNN is in Al-Bireh, West ...   \n",
       "\n",
       "               tweet_id  \n",
       "998  941681950032580609  \n",
       "999  941680801598472192  \n",
       "0    941678009995718657  \n",
       "1    941675795554164738  "
      ]
     },
     "execution_count": 49,
     "metadata": {},
     "output_type": "execute_result"
    }
   ],
   "source": [
    "cnn_df.iloc[1998:2002,:]"
   ]
  },
  {
   "cell_type": "code",
   "execution_count": 46,
   "metadata": {},
   "outputs": [
    {
     "data": {
      "text/plain": [
       "(2000, 8)"
      ]
     },
     "execution_count": 46,
     "metadata": {},
     "output_type": "execute_result"
    }
   ],
   "source": [
    "cnn_df.drop_duplicates('text').shape"
   ]
  },
  {
   "cell_type": "code",
   "execution_count": null,
   "metadata": {},
   "outputs": [],
   "source": []
  },
  {
   "cell_type": "code",
   "execution_count": 118,
   "metadata": {
    "collapsed": true
   },
   "outputs": [],
   "source": [
    "fox_tweets = miner.mine_user_tweets(user='FoxNews')\n",
    "fox_df= pd.DataFrame(fox_tweets)\n",
    "fox_df"
   ]
  },
  {
   "cell_type": "code",
   "execution_count": 55,
   "metadata": {
    "collapsed": true
   },
   "outputs": [],
   "source": [
    "newmaxid2 = 942537821331640326"
   ]
  },
  {
   "cell_type": "code",
   "execution_count": null,
   "metadata": {
    "collapsed": true
   },
   "outputs": [],
   "source": []
  },
  {
   "cell_type": "code",
   "execution_count": 59,
   "metadata": {
    "collapsed": true
   },
   "outputs": [],
   "source": [
    "for _ in range(0,10):\n",
    "    w_tweets = miner.mine_user_tweets(user='FoxNews',max_id=newmaxid2)\n",
    "    w_dfx = pd.DataFrame(w_tweets)\n",
    "    FOX_tweet = pd.concat([fox_df, w_dfx])\n",
    "    newmaxid2 = FOX_tweet.tweet_id.min() - 1"
   ]
  },
  {
   "cell_type": "code",
   "execution_count": 117,
   "metadata": {
    "collapsed": true
   },
   "outputs": [],
   "source": []
  },
  {
   "cell_type": "code",
   "execution_count": 119,
   "metadata": {
    "collapsed": true
   },
   "outputs": [],
   "source": [
    "wsbtv_tweets = miner.mine_user_tweets(user='wsbtv')\n",
    "wsbtv_df= pd.DataFrame(wsbtv_tweets)\n",
    "wsbtv_df"
   ]
  },
  {
   "cell_type": "code",
   "execution_count": 52,
   "metadata": {
    "collapsed": true
   },
   "outputs": [],
   "source": [
    "newmaxid =942588026135465984"
   ]
  },
  {
   "cell_type": "code",
   "execution_count": null,
   "metadata": {
    "collapsed": true
   },
   "outputs": [],
   "source": [
    "WSBTV_tweet"
   ]
  },
  {
   "cell_type": "code",
   "execution_count": 64,
   "metadata": {
    "collapsed": true
   },
   "outputs": [],
   "source": [
    "for _ in range(0,10):\n",
    "    w_tweets = miner.mine_user_tweets(user='wsbtv',max_id=newmaxid)\n",
    "    w_dfx = pd.DataFrame(w_tweets)\n",
    "    WSBTV_tweet = pd.concat([wsbtv_df, w_dfx])\n",
    "    newmaxid = WSBTV_tweet.tweet_id.min() - 1"
   ]
  },
  {
   "cell_type": "code",
   "execution_count": null,
   "metadata": {
    "collapsed": true
   },
   "outputs": [],
   "source": []
  },
  {
   "cell_type": "code",
   "execution_count": 120,
   "metadata": {
    "collapsed": true
   },
   "outputs": [],
   "source": [
    "wapo_tweets = miner.mine_user_tweets(user='washingtonpost')\n",
    "wapo_df= pd.DataFrame(wapo_tweets)\n",
    "wapo_df"
   ]
  },
  {
   "cell_type": "code",
   "execution_count": 72,
   "metadata": {
    "collapsed": true
   },
   "outputs": [],
   "source": [
    "newmaxid =941824495664242688"
   ]
  },
  {
   "cell_type": "code",
   "execution_count": 73,
   "metadata": {
    "collapsed": true
   },
   "outputs": [],
   "source": [
    "for _ in range(0,10):\n",
    "    w_tweets = miner.mine_user_tweets(user='washingtonpost',max_id=newmaxid)\n",
    "    w_dfx = pd.DataFrame(w_tweets)\n",
    "    WaPo_tweet = pd.concat([wapo_df, w_dfx])\n",
    "    newmaxid = WaPo_tweet.tweet_id.min() - 1"
   ]
  },
  {
   "cell_type": "code",
   "execution_count": 121,
   "metadata": {
    "collapsed": true
   },
   "outputs": [],
   "source": [
    "#WaPo_tweet"
   ]
  },
  {
   "cell_type": "code",
   "execution_count": 122,
   "metadata": {
    "collapsed": true
   },
   "outputs": [],
   "source": [
    "#WaPo_tweet.drop_duplicates('text').shape"
   ]
  },
  {
   "cell_type": "code",
   "execution_count": 123,
   "metadata": {
    "collapsed": true
   },
   "outputs": [],
   "source": [
    "nytimes_tweet = miner.mine_user_tweets(user='nytimes')\n",
    "nytimes_df= pd.DataFrame( nytimes_tweet)\n",
    "nytimes_df"
   ]
  },
  {
   "cell_type": "code",
   "execution_count": 77,
   "metadata": {
    "collapsed": true
   },
   "outputs": [],
   "source": [
    "newmaxid =942153109895180288"
   ]
  },
  {
   "cell_type": "code",
   "execution_count": null,
   "metadata": {
    "collapsed": true
   },
   "outputs": [],
   "source": [
    "nytimes_tweet"
   ]
  },
  {
   "cell_type": "code",
   "execution_count": 80,
   "metadata": {
    "collapsed": true
   },
   "outputs": [],
   "source": [
    "for _ in range(0,10):\n",
    "    w_tweets = miner.mine_user_tweets(user='nytimes',max_id=newmaxid)\n",
    "    w_dfx = pd.DataFrame(w_tweets)\n",
    "    nytimes_tweet = pd.concat([nytimes_df, w_dfx])\n",
    "    newmaxid =nytimes_tweet.tweet_id.min() - 1"
   ]
  },
  {
   "cell_type": "code",
   "execution_count": 124,
   "metadata": {
    "collapsed": true
   },
   "outputs": [],
   "source": [
    "# nytimes_tweet"
   ]
  },
  {
   "cell_type": "code",
   "execution_count": null,
   "metadata": {
    "collapsed": true
   },
   "outputs": [],
   "source": [
    "nytimes_tweet.shape"
   ]
  },
  {
   "cell_type": "code",
   "execution_count": 82,
   "metadata": {},
   "outputs": [
    {
     "data": {
      "text/plain": [
       "(2398, 8)"
      ]
     },
     "execution_count": 82,
     "metadata": {},
     "output_type": "execute_result"
    }
   ],
   "source": [
    "nytimes_tweet.drop_duplicates('text').shape"
   ]
  },
  {
   "cell_type": "code",
   "execution_count": null,
   "metadata": {
    "collapsed": true
   },
   "outputs": [],
   "source": []
  },
  {
   "cell_type": "code",
   "execution_count": 125,
   "metadata": {
    "collapsed": true
   },
   "outputs": [],
   "source": [
    "cbs_tweet = miner.mine_user_tweets(user='cbstweet')\n",
    "cbs_df= pd.DataFrame(cbs_tweet)\n",
    "cbs_df"
   ]
  },
  {
   "cell_type": "code",
   "execution_count": 84,
   "metadata": {
    "collapsed": true
   },
   "outputs": [],
   "source": [
    "newmaxid = 936294275947679745"
   ]
  },
  {
   "cell_type": "code",
   "execution_count": 87,
   "metadata": {
    "collapsed": true
   },
   "outputs": [],
   "source": [
    "for _ in range(0,10):\n",
    "    w_tweets = miner.mine_user_tweets(user='cbstweet',max_id=newmaxid)\n",
    "    w_dfx = pd.DataFrame(w_tweets)\n",
    "    cbs_tweet = pd.concat([cbs_df, w_dfx])\n",
    "    newmaxid =cbs_tweet.tweet_id.min() - 1"
   ]
  },
  {
   "cell_type": "code",
   "execution_count": 126,
   "metadata": {
    "collapsed": true
   },
   "outputs": [],
   "source": [
    "#cbs_tweet"
   ]
  },
  {
   "cell_type": "code",
   "execution_count": null,
   "metadata": {
    "collapsed": true
   },
   "outputs": [],
   "source": [
    "cbs_tweet.shape"
   ]
  },
  {
   "cell_type": "code",
   "execution_count": 127,
   "metadata": {
    "collapsed": true
   },
   "outputs": [],
   "source": [
    "#cbs_tweet.drop_duplicates('text').shape"
   ]
  },
  {
   "cell_type": "code",
   "execution_count": null,
   "metadata": {
    "collapsed": true
   },
   "outputs": [],
   "source": []
  },
  {
   "cell_type": "code",
   "execution_count": 128,
   "metadata": {
    "collapsed": true
   },
   "outputs": [],
   "source": [
    "abc_tweet = miner.mine_user_tweets(user='ABC')\n",
    "abc_df= pd.DataFrame(abc_tweet)\n",
    "abc_df"
   ]
  },
  {
   "cell_type": "code",
   "execution_count": null,
   "metadata": {
    "collapsed": true
   },
   "outputs": [],
   "source": [
    "ABC_tweet"
   ]
  },
  {
   "cell_type": "code",
   "execution_count": 92,
   "metadata": {
    "collapsed": true
   },
   "outputs": [],
   "source": [
    "newmaxid = 941856130560593921"
   ]
  },
  {
   "cell_type": "code",
   "execution_count": 94,
   "metadata": {
    "collapsed": true
   },
   "outputs": [],
   "source": [
    "for _ in range(0,10):\n",
    "    w_tweets = miner.mine_user_tweets(user='ABC',max_id=newmaxid)\n",
    "    w_dfx = pd.DataFrame(w_tweets)\n",
    "    ABC_tweet = pd.concat([abc_df, w_dfx])\n",
    "    newmaxid =ABC_tweet.tweet_id.min() - 1"
   ]
  },
  {
   "cell_type": "code",
   "execution_count": 95,
   "metadata": {},
   "outputs": [
    {
     "data": {
      "text/plain": [
       "(12000, 8)"
      ]
     },
     "execution_count": 95,
     "metadata": {},
     "output_type": "execute_result"
    }
   ],
   "source": [
    "ABC_tweet.shape"
   ]
  },
  {
   "cell_type": "code",
   "execution_count": null,
   "metadata": {
    "collapsed": true
   },
   "outputs": [],
   "source": []
  },
  {
   "cell_type": "code",
   "execution_count": null,
   "metadata": {
    "collapsed": true
   },
   "outputs": [],
   "source": []
  },
  {
   "cell_type": "code",
   "execution_count": 129,
   "metadata": {
    "collapsed": true
   },
   "outputs": [],
   "source": [
    "msnbc_tweet = miner.mine_user_tweets(user='MSNBC')\n",
    "msnbc_df= pd.DataFrame(msnbc_tweet)\n",
    "msnbc_df"
   ]
  },
  {
   "cell_type": "code",
   "execution_count": 100,
   "metadata": {
    "collapsed": true
   },
   "outputs": [],
   "source": [
    "newmaxid = 941193580135309317"
   ]
  },
  {
   "cell_type": "code",
   "execution_count": 101,
   "metadata": {
    "collapsed": true
   },
   "outputs": [],
   "source": [
    "for _ in range(0,10):\n",
    "    w_tweets = miner.mine_user_tweets(user='MSNBC',max_id=newmaxid)\n",
    "    w_dfx = pd.DataFrame(w_tweets)\n",
    "    MSNBC_tweet = pd.concat([msnbc_df, w_dfx])\n",
    "    newmaxid =MSNBC_tweet.tweet_id.min() - 1"
   ]
  },
  {
   "cell_type": "code",
   "execution_count": 102,
   "metadata": {},
   "outputs": [
    {
     "data": {
      "text/plain": [
       "(12000, 8)"
      ]
     },
     "execution_count": 102,
     "metadata": {},
     "output_type": "execute_result"
    }
   ],
   "source": [
    "MSNBC_tweet.shape"
   ]
  },
  {
   "cell_type": "code",
   "execution_count": null,
   "metadata": {
    "collapsed": true
   },
   "outputs": [],
   "source": []
  },
  {
   "cell_type": "code",
   "execution_count": 130,
   "metadata": {
    "collapsed": true
   },
   "outputs": [],
   "source": [
    "BuzzFeedNews_tweet = miner.mine_user_tweets(user='BuzzFeedNews')\n",
    "BuzzFeedNews_df= pd.DataFrame(BuzzFeedNews_tweet)\n",
    "BuzzFeedNews_df"
   ]
  },
  {
   "cell_type": "code",
   "execution_count": 106,
   "metadata": {
    "collapsed": true
   },
   "outputs": [],
   "source": [
    "newmaxid = 941693222086152192"
   ]
  },
  {
   "cell_type": "code",
   "execution_count": 108,
   "metadata": {
    "collapsed": true
   },
   "outputs": [],
   "source": [
    "for _ in range(0,10):\n",
    "    w_tweets = miner.mine_user_tweets(user='BuzzFeedNews',max_id=newmaxid)\n",
    "    w_dfx = pd.DataFrame(w_tweets)\n",
    "    BuzzFeedNews_tweet = pd.concat([BuzzFeedNews_df, w_dfx])\n",
    "    newmaxid =BuzzFeedNews_tweet.tweet_id.min() - 1"
   ]
  },
  {
   "cell_type": "code",
   "execution_count": 109,
   "metadata": {
    "scrolled": true
   },
   "outputs": [
    {
     "data": {
      "text/plain": [
       "(12000, 8)"
      ]
     },
     "execution_count": 109,
     "metadata": {},
     "output_type": "execute_result"
    }
   ],
   "source": [
    "BuzzFeedNews_tweet.shape"
   ]
  },
  {
   "cell_type": "code",
   "execution_count": null,
   "metadata": {
    "collapsed": true
   },
   "outputs": [],
   "source": []
  },
  {
   "cell_type": "code",
   "execution_count": null,
   "metadata": {
    "collapsed": true
   },
   "outputs": [],
   "source": []
  },
  {
   "cell_type": "code",
   "execution_count": 131,
   "metadata": {
    "collapsed": true
   },
   "outputs": [],
   "source": [
    "NPR_tweet = miner.mine_user_tweets(user='MNPR')\n",
    "NPR_df= pd.DataFrame(NPR_tweet)\n",
    "NPR_df"
   ]
  },
  {
   "cell_type": "code",
   "execution_count": 112,
   "metadata": {
    "collapsed": true
   },
   "outputs": [],
   "source": [
    "newmaxid = 926528673183944705"
   ]
  },
  {
   "cell_type": "code",
   "execution_count": null,
   "metadata": {
    "collapsed": true
   },
   "outputs": [],
   "source": []
  },
  {
   "cell_type": "code",
   "execution_count": 114,
   "metadata": {
    "collapsed": true
   },
   "outputs": [],
   "source": [
    "for _ in range(0,10):\n",
    "    w_tweets = miner.mine_user_tweets(user='MNPR',max_id=newmaxid)\n",
    "    w_dfx = pd.DataFrame(w_tweets)\n",
    "    NPR_tweet = pd.concat([NPR_df, w_dfx])\n",
    "    newmaxid =NPR_tweet.tweet_id.min() - 1"
   ]
  },
  {
   "cell_type": "code",
   "execution_count": 115,
   "metadata": {},
   "outputs": [
    {
     "data": {
      "text/plain": [
       "(11940, 8)"
      ]
     },
     "execution_count": 115,
     "metadata": {},
     "output_type": "execute_result"
    }
   ],
   "source": [
    "NPR_tweet.shape"
   ]
  },
  {
   "cell_type": "code",
   "execution_count": null,
   "metadata": {
    "collapsed": true
   },
   "outputs": [],
   "source": []
  },
  {
   "cell_type": "code",
   "execution_count": null,
   "metadata": {
    "collapsed": true
   },
   "outputs": [],
   "source": [
    "twitter= pd.concat((CNN_tweet,FOX_tweet,WSBTV_tweet,WaPo_tweet,nytimes_tweet,cbs_tweet,ABC_tweet,MSNBC_tweet,BuzzFeedNews_tweet,NPR_tweet),axis=0)"
   ]
  },
  {
   "cell_type": "code",
   "execution_count": null,
   "metadata": {
    "collapsed": true
   },
   "outputs": [],
   "source": [
    "twitter.shape"
   ]
  },
  {
   "cell_type": "code",
   "execution_count": null,
   "metadata": {
    "collapsed": true
   },
   "outputs": [],
   "source": [
    "twitter.to_csv('twitter.csv',index=False)"
   ]
  },
  {
   "cell_type": "code",
   "execution_count": 5,
   "metadata": {
    "collapsed": true
   },
   "outputs": [],
   "source": [
    "twitter = pd.read_csv('twitter.csv')"
   ]
  },
  {
   "cell_type": "code",
   "execution_count": 6,
   "metadata": {},
   "outputs": [
    {
     "data": {
      "text/plain": [
       "(116051, 8)"
      ]
     },
     "execution_count": 6,
     "metadata": {},
     "output_type": "execute_result"
    }
   ],
   "source": [
    "twitter.shape"
   ]
  },
  {
   "cell_type": "code",
   "execution_count": 7,
   "metadata": {
    "collapsed": true
   },
   "outputs": [],
   "source": [
    "twitter2 = twitter.copy()"
   ]
  },
  {
   "cell_type": "code",
   "execution_count": 8,
   "metadata": {
    "collapsed": true
   },
   "outputs": [],
   "source": [
    "import os\n",
    "import re\n",
    "import csv\n",
    "import sys\n",
    "# In this next script, we’ll first clean up our dirty data, get rid of emoticons, hashtags, RT’s, ?, http, etc.\n",
    "def process_text2(tweets):\n",
    "        \"\"\"Remove emoticons, numbers etc. and returns list of cleaned tweets.\"\"\"\n",
    "        stripped_text = [\n",
    "        re.sub(\"(@[A-Za-z0-9]+)|([^0-9A-Za-z \\t])|(\\w+:\\/\\/\\S+)|^rt|http.+?\" +\n",
    "               sys.argv[1].lower(), '',\n",
    "               tweets.lower()).strip()\n",
    "    ]\n",
    "        return stripped_text[0]\n",
    "\n",
    "\n",
    "#process_text2(df2.loc[2, 'text'])\n",
    "\n",
    "twitter2['Text'] =twitter2['text'].apply(process_text2) "
   ]
  },
  {
   "cell_type": "code",
   "execution_count": 9,
   "metadata": {
    "collapsed": true
   },
   "outputs": [],
   "source": [
    "def remove_stop_words(tweets):\n",
    "    \"\"\"Remove stop words in tweets.\"\"\"\n",
    "    from nltk.corpus import stopwords\n",
    "    stop = stopwords.words('english') \n",
    "    # If our word is not in the stop list then we add it to our word list\n",
    "    clean_text = ' '.join([word for word in tweets.split(' ')\n",
    "                           if word not in stop])\n",
    "    return clean_text\n",
    "\n",
    "twitter2['Text'] =twitter2['Text'].apply(remove_stop_words) "
   ]
  },
  {
   "cell_type": "code",
   "execution_count": 10,
   "metadata": {},
   "outputs": [
    {
     "data": {
      "text/html": [
       "<div>\n",
       "<style>\n",
       "    .dataframe thead tr:only-child th {\n",
       "        text-align: right;\n",
       "    }\n",
       "\n",
       "    .dataframe thead th {\n",
       "        text-align: left;\n",
       "    }\n",
       "\n",
       "    .dataframe tbody tr th {\n",
       "        vertical-align: top;\n",
       "    }\n",
       "</style>\n",
       "<table border=\"1\" class=\"dataframe\">\n",
       "  <thead>\n",
       "    <tr style=\"text-align: right;\">\n",
       "      <th></th>\n",
       "      <th>created_at</th>\n",
       "      <th>geo</th>\n",
       "      <th>handle</th>\n",
       "      <th>mined_at</th>\n",
       "      <th>place</th>\n",
       "      <th>retweet_count</th>\n",
       "      <th>text</th>\n",
       "      <th>tweet_id</th>\n",
       "      <th>Text</th>\n",
       "    </tr>\n",
       "  </thead>\n",
       "  <tbody>\n",
       "    <tr>\n",
       "      <th>0</th>\n",
       "      <td>Thu Dec 14 23:50:41 +0000 2017</td>\n",
       "      <td>NaN</td>\n",
       "      <td>CNN</td>\n",
       "      <td>2017-12-14 18:51:13.317226</td>\n",
       "      <td>NaN</td>\n",
       "      <td>3</td>\n",
       "      <td>The House Intelligence Committee plans to hold...</td>\n",
       "      <td>941455435726548992</td>\n",
       "      <td>house intelligence committee plans hold two of...</td>\n",
       "    </tr>\n",
       "    <tr>\n",
       "      <th>1</th>\n",
       "      <td>Thu Dec 14 23:46:04 +0000 2017</td>\n",
       "      <td>NaN</td>\n",
       "      <td>CNN</td>\n",
       "      <td>2017-12-14 18:51:13.317236</td>\n",
       "      <td>NaN</td>\n",
       "      <td>24</td>\n",
       "      <td>21st Century Fox executive co-chairman Rupert ...</td>\n",
       "      <td>941454273711308800</td>\n",
       "      <td>21st century fox executive cochairman rupert m...</td>\n",
       "    </tr>\n",
       "  </tbody>\n",
       "</table>\n",
       "</div>"
      ],
      "text/plain": [
       "                       created_at  geo handle                    mined_at  \\\n",
       "0  Thu Dec 14 23:50:41 +0000 2017  NaN    CNN  2017-12-14 18:51:13.317226   \n",
       "1  Thu Dec 14 23:46:04 +0000 2017  NaN    CNN  2017-12-14 18:51:13.317236   \n",
       "\n",
       "   place  retweet_count                                               text  \\\n",
       "0    NaN              3  The House Intelligence Committee plans to hold...   \n",
       "1    NaN             24  21st Century Fox executive co-chairman Rupert ...   \n",
       "\n",
       "             tweet_id                                               Text  \n",
       "0  941455435726548992  house intelligence committee plans hold two of...  \n",
       "1  941454273711308800  21st century fox executive cochairman rupert m...  "
      ]
     },
     "execution_count": 10,
     "metadata": {},
     "output_type": "execute_result"
    }
   ],
   "source": [
    "twitter2.head(2)"
   ]
  },
  {
   "cell_type": "code",
   "execution_count": 11,
   "metadata": {
    "collapsed": true
   },
   "outputs": [],
   "source": [
    "twitter2=twitter2.drop_duplicates('Text')"
   ]
  },
  {
   "cell_type": "code",
   "execution_count": 12,
   "metadata": {},
   "outputs": [
    {
     "data": {
      "text/plain": [
       "(22742, 9)"
      ]
     },
     "execution_count": 12,
     "metadata": {},
     "output_type": "execute_result"
    }
   ],
   "source": [
    "twitter2.shape"
   ]
  },
  {
   "cell_type": "code",
   "execution_count": 13,
   "metadata": {
    "collapsed": true
   },
   "outputs": [],
   "source": [
    "def time(cell):\n",
    "    if 6 <=int(cell[11:13]) < 11:\n",
    "        return 'breakfast'\n",
    "    elif 11 <=int(cell[11:13])< 14:\n",
    "        return 'lunchtime'\n",
    "    elif 19 <=int(cell[11:13])< 21:\n",
    "        return 'dinnertime'\n",
    "    else:\n",
    "        return 'N/A'\n",
    "    \n",
    "twitter2['Time'] =twitter2['created_at'].apply(time)"
   ]
  },
  {
   "cell_type": "code",
   "execution_count": null,
   "metadata": {
    "collapsed": true
   },
   "outputs": [],
   "source": []
  },
  {
   "cell_type": "code",
   "execution_count": 14,
   "metadata": {
    "collapsed": true
   },
   "outputs": [],
   "source": [
    "def time2(cell):\n",
    "    if cell =='breakfast':\n",
    "        return 1\n",
    "    elif cell =='lunchtime':\n",
    "        return 2\n",
    "    elif cell =='dinnertime':\n",
    "        return 3\n",
    "    else:\n",
    "        return 4\n",
    "    "
   ]
  },
  {
   "cell_type": "code",
   "execution_count": 15,
   "metadata": {
    "collapsed": true
   },
   "outputs": [],
   "source": [
    "twitter2['numeric_time']=twitter2['Time'].apply(time2)"
   ]
  },
  {
   "cell_type": "code",
   "execution_count": 16,
   "metadata": {},
   "outputs": [
    {
     "data": {
      "text/html": [
       "<div>\n",
       "<style>\n",
       "    .dataframe thead tr:only-child th {\n",
       "        text-align: right;\n",
       "    }\n",
       "\n",
       "    .dataframe thead th {\n",
       "        text-align: left;\n",
       "    }\n",
       "\n",
       "    .dataframe tbody tr th {\n",
       "        vertical-align: top;\n",
       "    }\n",
       "</style>\n",
       "<table border=\"1\" class=\"dataframe\">\n",
       "  <thead>\n",
       "    <tr style=\"text-align: right;\">\n",
       "      <th></th>\n",
       "      <th>created_at</th>\n",
       "      <th>geo</th>\n",
       "      <th>handle</th>\n",
       "      <th>mined_at</th>\n",
       "      <th>place</th>\n",
       "      <th>retweet_count</th>\n",
       "      <th>text</th>\n",
       "      <th>tweet_id</th>\n",
       "      <th>Text</th>\n",
       "      <th>Time</th>\n",
       "      <th>numeric_time</th>\n",
       "    </tr>\n",
       "  </thead>\n",
       "  <tbody>\n",
       "    <tr>\n",
       "      <th>0</th>\n",
       "      <td>Thu Dec 14 23:50:41 +0000 2017</td>\n",
       "      <td>NaN</td>\n",
       "      <td>CNN</td>\n",
       "      <td>2017-12-14 18:51:13.317226</td>\n",
       "      <td>NaN</td>\n",
       "      <td>3</td>\n",
       "      <td>The House Intelligence Committee plans to hold...</td>\n",
       "      <td>941455435726548992</td>\n",
       "      <td>house intelligence committee plans hold two of...</td>\n",
       "      <td>N/A</td>\n",
       "      <td>4</td>\n",
       "    </tr>\n",
       "    <tr>\n",
       "      <th>1</th>\n",
       "      <td>Thu Dec 14 23:46:04 +0000 2017</td>\n",
       "      <td>NaN</td>\n",
       "      <td>CNN</td>\n",
       "      <td>2017-12-14 18:51:13.317236</td>\n",
       "      <td>NaN</td>\n",
       "      <td>24</td>\n",
       "      <td>21st Century Fox executive co-chairman Rupert ...</td>\n",
       "      <td>941454273711308800</td>\n",
       "      <td>21st century fox executive cochairman rupert m...</td>\n",
       "      <td>N/A</td>\n",
       "      <td>4</td>\n",
       "    </tr>\n",
       "  </tbody>\n",
       "</table>\n",
       "</div>"
      ],
      "text/plain": [
       "                       created_at  geo handle                    mined_at  \\\n",
       "0  Thu Dec 14 23:50:41 +0000 2017  NaN    CNN  2017-12-14 18:51:13.317226   \n",
       "1  Thu Dec 14 23:46:04 +0000 2017  NaN    CNN  2017-12-14 18:51:13.317236   \n",
       "\n",
       "   place  retweet_count                                               text  \\\n",
       "0    NaN              3  The House Intelligence Committee plans to hold...   \n",
       "1    NaN             24  21st Century Fox executive co-chairman Rupert ...   \n",
       "\n",
       "             tweet_id                                               Text Time  \\\n",
       "0  941455435726548992  house intelligence committee plans hold two of...  N/A   \n",
       "1  941454273711308800  21st century fox executive cochairman rupert m...  N/A   \n",
       "\n",
       "   numeric_time  \n",
       "0             4  \n",
       "1             4  "
      ]
     },
     "execution_count": 16,
     "metadata": {},
     "output_type": "execute_result"
    }
   ],
   "source": [
    "twitter2.head(2)"
   ]
  },
  {
   "cell_type": "code",
   "execution_count": null,
   "metadata": {
    "collapsed": true
   },
   "outputs": [],
   "source": []
  },
  {
   "cell_type": "code",
   "execution_count": 18,
   "metadata": {},
   "outputs": [
    {
     "data": {
      "text/plain": [
       "4    15451\n",
       "3     2618\n",
       "2     2453\n",
       "1     2220\n",
       "Name: numeric_time, dtype: int64"
      ]
     },
     "execution_count": 18,
     "metadata": {},
     "output_type": "execute_result"
    }
   ],
   "source": [
    "twitter2.numeric_time.value_counts()"
   ]
  },
  {
   "cell_type": "code",
   "execution_count": 19,
   "metadata": {},
   "outputs": [
    {
     "data": {
      "text/html": [
       "<div>\n",
       "<style>\n",
       "    .dataframe thead tr:only-child th {\n",
       "        text-align: right;\n",
       "    }\n",
       "\n",
       "    .dataframe thead th {\n",
       "        text-align: left;\n",
       "    }\n",
       "\n",
       "    .dataframe tbody tr th {\n",
       "        vertical-align: top;\n",
       "    }\n",
       "</style>\n",
       "<table border=\"1\" class=\"dataframe\">\n",
       "  <thead>\n",
       "    <tr style=\"text-align: right;\">\n",
       "      <th></th>\n",
       "      <th>created_at</th>\n",
       "      <th>geo</th>\n",
       "      <th>handle</th>\n",
       "      <th>mined_at</th>\n",
       "      <th>place</th>\n",
       "      <th>retweet_count</th>\n",
       "      <th>text</th>\n",
       "      <th>tweet_id</th>\n",
       "      <th>Text</th>\n",
       "      <th>Time</th>\n",
       "      <th>numeric_time</th>\n",
       "    </tr>\n",
       "  </thead>\n",
       "  <tbody>\n",
       "    <tr>\n",
       "      <th>0</th>\n",
       "      <td>Thu Dec 14 23:50:41 +0000 2017</td>\n",
       "      <td>NaN</td>\n",
       "      <td>CNN</td>\n",
       "      <td>2017-12-14 18:51:13.317226</td>\n",
       "      <td>NaN</td>\n",
       "      <td>3</td>\n",
       "      <td>The House Intelligence Committee plans to hold...</td>\n",
       "      <td>941455435726548992</td>\n",
       "      <td>house intelligence committee plans hold two of...</td>\n",
       "      <td>N/A</td>\n",
       "      <td>4</td>\n",
       "    </tr>\n",
       "    <tr>\n",
       "      <th>1</th>\n",
       "      <td>Thu Dec 14 23:46:04 +0000 2017</td>\n",
       "      <td>NaN</td>\n",
       "      <td>CNN</td>\n",
       "      <td>2017-12-14 18:51:13.317236</td>\n",
       "      <td>NaN</td>\n",
       "      <td>24</td>\n",
       "      <td>21st Century Fox executive co-chairman Rupert ...</td>\n",
       "      <td>941454273711308800</td>\n",
       "      <td>21st century fox executive cochairman rupert m...</td>\n",
       "      <td>N/A</td>\n",
       "      <td>4</td>\n",
       "    </tr>\n",
       "  </tbody>\n",
       "</table>\n",
       "</div>"
      ],
      "text/plain": [
       "                       created_at  geo handle                    mined_at  \\\n",
       "0  Thu Dec 14 23:50:41 +0000 2017  NaN    CNN  2017-12-14 18:51:13.317226   \n",
       "1  Thu Dec 14 23:46:04 +0000 2017  NaN    CNN  2017-12-14 18:51:13.317236   \n",
       "\n",
       "   place  retweet_count                                               text  \\\n",
       "0    NaN              3  The House Intelligence Committee plans to hold...   \n",
       "1    NaN             24  21st Century Fox executive co-chairman Rupert ...   \n",
       "\n",
       "             tweet_id                                               Text Time  \\\n",
       "0  941455435726548992  house intelligence committee plans hold two of...  N/A   \n",
       "1  941454273711308800  21st century fox executive cochairman rupert m...  N/A   \n",
       "\n",
       "   numeric_time  \n",
       "0             4  \n",
       "1             4  "
      ]
     },
     "execution_count": 19,
     "metadata": {},
     "output_type": "execute_result"
    }
   ],
   "source": [
    "twitter2.head(2)"
   ]
  },
  {
   "cell_type": "code",
   "execution_count": 20,
   "metadata": {},
   "outputs": [
    {
     "data": {
      "text/plain": [
       "CBS Tweet             2776\n",
       "Washington Post       2714\n",
       "MSNBC                 2694\n",
       "BuzzFeed News         2652\n",
       "ABC News              2271\n",
       "Fox News              2202\n",
       "CNN                   2154\n",
       "WSB-TV                2111\n",
       "MNPR | Ryan May       2042\n",
       "The New York Times    1126\n",
       "Name: handle, dtype: int64"
      ]
     },
     "execution_count": 20,
     "metadata": {},
     "output_type": "execute_result"
    }
   ],
   "source": [
    "twitter2.handle.value_counts()"
   ]
  },
  {
   "cell_type": "code",
   "execution_count": 21,
   "metadata": {
    "collapsed": true
   },
   "outputs": [],
   "source": [
    "# engineering sentiment features for analysis\n",
    "from textblob import TextBlob\n",
    "def add_sub_and_pol(df):\n",
    "    df=df.copy()\n",
    "    def polarity(text):\n",
    "        text = TextBlob(text)\n",
    "        return text.sentiment.polarity\n",
    "    \n",
    "    def subjectivity(text):\n",
    "        text = TextBlob(text)\n",
    "        return text.sentiment.subjectivity\n",
    "    \n",
    "    def get_tweet_sentiment(text):\n",
    "        text = TextBlob(text)\n",
    "        if text.sentiment.polarity > 0:\n",
    "            return 'positive'\n",
    "        elif text.sentiment.polarity == 0:\n",
    "            return 'neutral'\n",
    "        else:\n",
    "            return 'negative'\n",
    "    twitter2['subjectivity'] =twitter2['Text'].apply(subjectivity)\n",
    "    twitter2['polarity'] =twitter2['Text'].apply(polarity)\n",
    "    twitter2['sentiment'] =twitter2['Text'].apply(get_tweet_sentiment)\n",
    "    return twitter2.copy()"
   ]
  },
  {
   "cell_type": "code",
   "execution_count": 22,
   "metadata": {
    "collapsed": true
   },
   "outputs": [],
   "source": [
    "twitter2=add_sub_and_pol(twitter2)"
   ]
  },
  {
   "cell_type": "code",
   "execution_count": 23,
   "metadata": {},
   "outputs": [
    {
     "data": {
      "text/html": [
       "<div>\n",
       "<style>\n",
       "    .dataframe thead tr:only-child th {\n",
       "        text-align: right;\n",
       "    }\n",
       "\n",
       "    .dataframe thead th {\n",
       "        text-align: left;\n",
       "    }\n",
       "\n",
       "    .dataframe tbody tr th {\n",
       "        vertical-align: top;\n",
       "    }\n",
       "</style>\n",
       "<table border=\"1\" class=\"dataframe\">\n",
       "  <thead>\n",
       "    <tr style=\"text-align: right;\">\n",
       "      <th></th>\n",
       "      <th>created_at</th>\n",
       "      <th>geo</th>\n",
       "      <th>handle</th>\n",
       "      <th>mined_at</th>\n",
       "      <th>place</th>\n",
       "      <th>retweet_count</th>\n",
       "      <th>text</th>\n",
       "      <th>tweet_id</th>\n",
       "      <th>Text</th>\n",
       "      <th>Time</th>\n",
       "      <th>numeric_time</th>\n",
       "      <th>subjectivity</th>\n",
       "      <th>polarity</th>\n",
       "      <th>sentiment</th>\n",
       "    </tr>\n",
       "  </thead>\n",
       "  <tbody>\n",
       "    <tr>\n",
       "      <th>0</th>\n",
       "      <td>Thu Dec 14 23:50:41 +0000 2017</td>\n",
       "      <td>NaN</td>\n",
       "      <td>CNN</td>\n",
       "      <td>2017-12-14 18:51:13.317226</td>\n",
       "      <td>NaN</td>\n",
       "      <td>3</td>\n",
       "      <td>The House Intelligence Committee plans to hold...</td>\n",
       "      <td>941455435726548992</td>\n",
       "      <td>house intelligence committee plans hold two of...</td>\n",
       "      <td>N/A</td>\n",
       "      <td>4</td>\n",
       "      <td>0.227273</td>\n",
       "      <td>0.068182</td>\n",
       "      <td>positive</td>\n",
       "    </tr>\n",
       "    <tr>\n",
       "      <th>1</th>\n",
       "      <td>Thu Dec 14 23:46:04 +0000 2017</td>\n",
       "      <td>NaN</td>\n",
       "      <td>CNN</td>\n",
       "      <td>2017-12-14 18:51:13.317236</td>\n",
       "      <td>NaN</td>\n",
       "      <td>24</td>\n",
       "      <td>21st Century Fox executive co-chairman Rupert ...</td>\n",
       "      <td>941454273711308800</td>\n",
       "      <td>21st century fox executive cochairman rupert m...</td>\n",
       "      <td>N/A</td>\n",
       "      <td>4</td>\n",
       "      <td>0.311111</td>\n",
       "      <td>0.166667</td>\n",
       "      <td>positive</td>\n",
       "    </tr>\n",
       "  </tbody>\n",
       "</table>\n",
       "</div>"
      ],
      "text/plain": [
       "                       created_at  geo handle                    mined_at  \\\n",
       "0  Thu Dec 14 23:50:41 +0000 2017  NaN    CNN  2017-12-14 18:51:13.317226   \n",
       "1  Thu Dec 14 23:46:04 +0000 2017  NaN    CNN  2017-12-14 18:51:13.317236   \n",
       "\n",
       "   place  retweet_count                                               text  \\\n",
       "0    NaN              3  The House Intelligence Committee plans to hold...   \n",
       "1    NaN             24  21st Century Fox executive co-chairman Rupert ...   \n",
       "\n",
       "             tweet_id                                               Text Time  \\\n",
       "0  941455435726548992  house intelligence committee plans hold two of...  N/A   \n",
       "1  941454273711308800  21st century fox executive cochairman rupert m...  N/A   \n",
       "\n",
       "   numeric_time  subjectivity  polarity sentiment  \n",
       "0             4      0.227273  0.068182  positive  \n",
       "1             4      0.311111  0.166667  positive  "
      ]
     },
     "execution_count": 23,
     "metadata": {},
     "output_type": "execute_result"
    }
   ],
   "source": [
    "twitter2.head(2)"
   ]
  },
  {
   "cell_type": "code",
   "execution_count": 3,
   "metadata": {
    "collapsed": true
   },
   "outputs": [],
   "source": [
    "twitter2.to_csv('twitter2.csv', index=False)"
   ]
  },
  {
   "cell_type": "code",
   "execution_count": 4,
   "metadata": {
    "collapsed": true
   },
   "outputs": [],
   "source": [
    "twitter2 = pd.read_csv('twitter2.csv')"
   ]
  },
  {
   "cell_type": "code",
   "execution_count": 4,
   "metadata": {},
   "outputs": [
    {
     "data": {
      "text/plain": [
       "1"
      ]
     },
     "execution_count": 4,
     "metadata": {},
     "output_type": "execute_result"
    }
   ],
   "source": [
    "twitter2.Text.isnull().sum()"
   ]
  },
  {
   "cell_type": "code",
   "execution_count": null,
   "metadata": {},
   "outputs": [],
   "source": []
  },
  {
   "cell_type": "markdown",
   "metadata": {},
   "source": [
    "### Sentiment analysis"
   ]
  },
  {
   "cell_type": "code",
   "execution_count": 25,
   "metadata": {},
   "outputs": [
    {
     "name": "stdout",
     "output_type": "stream",
     "text": [
      "CBS happiness: 0.13648128540194446\n",
      "WAPO happiness: 0.038072295447940184\n",
      "MSNBC happiness: 0.0274204782473156\n",
      "BuzzFeed happiness: 0.061330908172395594\n",
      "ABC happiness: 0.06952404943345047\n",
      "Fox News happiness: 0.04060534536862883\n",
      "CNN happiness: 0.04345570488995506\n",
      "WSB-TV happiness: 0.07517961941605923\n",
      "NPR happiness: 0.09602517438034038\n",
      "NyTimes happiness: 0.08178945554889148\n"
     ]
    }
   ],
   "source": [
    "print('CBS happiness:',twitter2.loc[twitter2['handle'].str.contains('CBS Tweet'),'polarity'].mean())\n",
    "\n",
    "print('WAPO happiness:', twitter2.loc[twitter2['handle'].str.contains('Washington Post'),'polarity'].mean())\n",
    "\n",
    "print('MSNBC happiness:', twitter2.loc[twitter2['handle'].str.contains('MSNBC'),'polarity'].mean())\n",
    "\n",
    "print('BuzzFeed happiness:', twitter2.loc[twitter2['handle'].str.contains('BuzzFeed News'),'polarity'].mean())\n",
    "\n",
    "print('ABC happiness:',twitter2.loc[twitter2['handle'].str.contains('ABC News'),'polarity'].mean())\n",
    "\n",
    "print('Fox News happiness:', twitter2.loc[twitter2['handle'].str.contains('Fox News'),'polarity'].mean())\n",
    "\n",
    "print('CNN happiness:', twitter2.loc[twitter2['handle'].str.contains('CNN'),'polarity'].mean())\n",
    "\n",
    "print('WSB-TV happiness:',twitter2.loc[twitter2['handle'].str.contains('WSB-TV'),'polarity'].mean())\n",
    "\n",
    "print('NPR happiness:', twitter2.loc[twitter2['handle'].str.contains('MNPR'),'polarity'].mean())\n",
    "\n",
    "print('NyTimes happiness:', twitter2.loc[twitter2['handle'].str.contains('New York Times'),'polarity'].mean())"
   ]
  },
  {
   "cell_type": "code",
   "execution_count": 21,
   "metadata": {
    "scrolled": true
   },
   "outputs": [
    {
     "data": {
      "image/png": "[encoded data removed]",
      "text/plain": [
       "<matplotlib.figure.Figure at 0x1a13e702b0>"
      ]
     },
     "metadata": {},
     "output_type": "display_data"
    }
   ],
   "source": [
    "twitter2.groupby('handle')['polarity'].mean().sort_values(ascending=False).plot(kind='bar',title='Handle per Polarity')\n",
    "plt.xlabel('Handle')\n",
    "plt.ylabel('Polarity');"
   ]
  },
  {
   "cell_type": "code",
   "execution_count": 22,
   "metadata": {},
   "outputs": [
    {
     "data": {
      "image/png": "[encoded data removed]",
      "text/plain": [
       "<matplotlib.figure.Figure at 0x1a13c47550>"
      ]
     },
     "metadata": {},
     "output_type": "display_data"
    }
   ],
   "source": [
    "twitter2.groupby('handle')['subjectivity'].mean().sort_values(ascending=False).plot(kind='bar',title='Handle per Polarity')\n",
    "plt.xlabel('Handle')\n",
    "plt.ylabel('subjectivity');"
   ]
  },
  {
   "cell_type": "code",
   "execution_count": 77,
   "metadata": {},
   "outputs": [
    {
     "data": {
      "text/plain": [
       "Index(['CBS Tweet', 'Washington Post', 'MSNBC', 'BuzzFeed News', 'ABC News',\n",
       "       'Fox News', 'CNN', 'WSB-TV', 'MNPR | Ryan May', 'The New York Times'],\n",
       "      dtype='object')"
      ]
     },
     "execution_count": 77,
     "metadata": {},
     "output_type": "execute_result"
    }
   ],
   "source": [
    "list(twitter2.handle.value_counts().index)"
   ]
  },
  {
   "cell_type": "code",
   "execution_count": 82,
   "metadata": {},
   "outputs": [],
   "source": [
    "order_of_polarity = list(twitter2.groupby('handle')['polarity'].mean().sort_values(ascending=False).index)"
   ]
  },
  {
   "cell_type": "code",
   "execution_count": 84,
   "metadata": {},
   "outputs": [
    {
     "data": {
      "image/png": "[encoded data removed]",
      "text/plain": [
       "<matplotlib.figure.Figure at 0x1a35dd9940>"
      ]
     },
     "metadata": {},
     "output_type": "display_data"
    }
   ],
   "source": [
    "fig, ax = plt.subplots(figsize = (16, 5))\n",
    "sns.barplot(x = 'handle', y = 'polarity',order=order_of_polarity, data = twitter2, ax = ax)\n",
    "plt.show()"
   ]
  },
  {
   "cell_type": "code",
   "execution_count": 96,
   "metadata": {
    "collapsed": true
   },
   "outputs": [],
   "source": [
    "order_of_subjectivity = list(twitter2.groupby('handle')['subjectivity'].mean().sort_values(ascending=False).index)"
   ]
  },
  {
   "cell_type": "code",
   "execution_count": 98,
   "metadata": {},
   "outputs": [
    {
     "data": {
      "image/png": "[encoded data removed]",
      "text/plain": [
       "<matplotlib.figure.Figure at 0x1a3765d160>"
      ]
     },
     "metadata": {},
     "output_type": "display_data"
    }
   ],
   "source": [
    "fig, ax = plt.subplots(figsize = (18, 5))\n",
    "sns.barplot(x = 'handle', y = 'subjectivity',order=order_of_subjectivity, data = twitter2, ax = ax)\n",
    "plt.show()"
   ]
  },
  {
   "cell_type": "code",
   "execution_count": null,
   "metadata": {},
   "outputs": [],
   "source": []
  },
  {
   "cell_type": "code",
   "execution_count": 88,
   "metadata": {
    "collapsed": true
   },
   "outputs": [],
   "source": [
    "df_breakfast = twitter2.loc[twitter2['numeric_time']==1,:]\n",
    "df_lunch =  twitter2.loc[twitter2['numeric_time']==2,:]\n",
    "df_dinner =  twitter2.loc[twitter2['numeric_time']==3,:]"
   ]
  },
  {
   "cell_type": "code",
   "execution_count": 89,
   "metadata": {},
   "outputs": [],
   "source": [
    "dic = {\n",
    " 'breakfast': list(df_breakfast.iloc[:2000,:].loc[:,'polarity']),\n",
    " 'lunch' : list(df_lunch.iloc[:2000,:].loc[:,'polarity']),\n",
    " 'dinner': list(df_dinner.iloc[:2000,:].loc[:,'polarity'])\n",
    "}\n"
   ]
  },
  {
   "cell_type": "code",
   "execution_count": 90,
   "metadata": {},
   "outputs": [],
   "source": [
    "classes = pd.DataFrame(dic)"
   ]
  },
  {
   "cell_type": "code",
   "execution_count": null,
   "metadata": {
    "collapsed": true
   },
   "outputs": [],
   "source": []
  },
  {
   "cell_type": "code",
   "execution_count": 92,
   "metadata": {},
   "outputs": [
    {
     "data": {
      "text/plain": [
       "<matplotlib.text.Text at 0x1a15b37470>"
      ]
     },
     "execution_count": 92,
     "metadata": {},
     "output_type": "execute_result"
    },
    {
     "data": {
      "image/png": "[encoded data removed]",
      "text/plain": [
       "<matplotlib.figure.Figure at 0x1a14fabc50>"
      ]
     },
     "metadata": {},
     "output_type": "display_data"
    }
   ],
   "source": [
    "classes[['breakfast','lunch','dinner']].plot.hist(bins=20,stacked=True)\n",
    "plt.title('Stacked histogram with breakfast, lunch and dinner')\n",
    "plt.xlabel('polarity')\n",
    "plt.ylabel('Frequency')"
   ]
  },
  {
   "cell_type": "code",
   "execution_count": null,
   "metadata": {
    "collapsed": true
   },
   "outputs": [],
   "source": [
    "# As we can see, my classes overlap"
   ]
  },
  {
   "cell_type": "code",
   "execution_count": 93,
   "metadata": {},
   "outputs": [
    {
     "data": {
      "text/plain": [
       "<matplotlib.text.Text at 0x1a36225b38>"
      ]
     },
     "execution_count": 93,
     "metadata": {},
     "output_type": "execute_result"
    },
    {
     "data": {
      "image/png": "[encoded data removed]",
      "text/plain": [
       "<matplotlib.figure.Figure at 0x1a37014f60>"
      ]
     },
     "metadata": {},
     "output_type": "display_data"
    }
   ],
   "source": [
    "classes[['breakfast','lunch','dinner']].plot.hist(bins=20,alpha=0.4)\n",
    "plt.title('Stacked histogram with breakfast, lunch and dinner')\n",
    "plt.xlabel('polarity')\n",
    "plt.ylabel('Frequency')"
   ]
  },
  {
   "cell_type": "code",
   "execution_count": 95,
   "metadata": {},
   "outputs": [
    {
     "data": {
      "text/plain": [
       "<matplotlib.text.Text at 0x1a376c4ef0>"
      ]
     },
     "execution_count": 95,
     "metadata": {},
     "output_type": "execute_result"
    },
    {
     "data": {
      "image/png": "[encoded data removed]",
      "text/plain": [
       "<matplotlib.figure.Figure at 0x1a36fbae10>"
      ]
     },
     "metadata": {},
     "output_type": "display_data"
    }
   ],
   "source": [
    "classes[['breakfast','lunch']].plot.hist(bins=20,alpha=0.4)\n",
    "plt.title('Stacked histogram with breakfast, lunch and dinner')\n",
    "plt.xlabel('polarity')\n",
    "plt.ylabel('Frequency')"
   ]
  },
  {
   "cell_type": "code",
   "execution_count": null,
   "metadata": {
    "collapsed": true
   },
   "outputs": [],
   "source": [
    "# My classes are very similar"
   ]
  },
  {
   "cell_type": "markdown",
   "metadata": {},
   "source": [
    "### Build a model with pymc3 to estimate the difference in tone between breakfast and lunchtime tweets"
   ]
  },
  {
   "cell_type": "code",
   "execution_count": null,
   "metadata": {
    "collapsed": true
   },
   "outputs": [],
   "source": [
    "# The null hypothesis is that there is zero difference between the mean of two groups.\n",
    "# The alternative hypothesis is that there IS a difference.\n",
    "\n",
    "# in this MCMC simulation, I will estimate how different  two groups are in terms of polarity"
   ]
  },
  {
   "cell_type": "code",
   "execution_count": 25,
   "metadata": {},
   "outputs": [
    {
     "name": "stdout",
     "output_type": "stream",
     "text": [
      "Couldn't import dot_parser, loading of dot files will not be possible.\n"
     ]
    }
   ],
   "source": [
    "import pymc3 as pm"
   ]
  },
  {
   "cell_type": "code",
   "execution_count": null,
   "metadata": {
    "collapsed": true
   },
   "outputs": [],
   "source": [
    "# I will be using Bayesian posterior estimation to look at the difference in breakfast_tweets and lunchtime_tweets ."
   ]
  },
  {
   "cell_type": "code",
   "execution_count": 26,
   "metadata": {},
   "outputs": [
    {
     "name": "stdout",
     "output_type": "stream",
     "text": [
      "0.0513992537993 0.0521692336404\n"
     ]
    }
   ],
   "source": [
    "breakfast_tweets_tone= twitter2.loc[twitter2['numeric_time']==1,'polarity'].values\n",
    "lunchtime_tweets_tone = twitter2.loc[twitter2['numeric_time']==2,'polarity'].values\n",
    "\n",
    "print(breakfast_tweets_tone.mean(),lunchtime_tweets_tone.mean() )"
   ]
  },
  {
   "cell_type": "code",
   "execution_count": 27,
   "metadata": {},
   "outputs": [
    {
     "name": "stdout",
     "output_type": "stream",
     "text": [
      "0.06624346054485264 0.24614381784910266\n"
     ]
    }
   ],
   "source": [
    "prior_mean = twitter2.polarity.mean()\n",
    "prior_std = twitter2.polarity.std()\n",
    "print(prior_mean, prior_std)"
   ]
  },
  {
   "cell_type": "code",
   "execution_count": 28,
   "metadata": {
    "collapsed": true
   },
   "outputs": [],
   "source": [
    "with pm.Model() as model:\n",
    "    \n",
    "    breakfast_tweets_tone_mean = pm.Normal('breakfast_tweets_tone_mean', prior_mean, sd=prior_std)\n",
    "    lunchtime_tweets_tone_mean = pm.Normal('lunchtime_tweets_tone_mean', prior_mean, sd=prior_std)\n",
    "    \n",
    "    breakfast_tweets_tone_std = pm.Gamma('breakfast_tweets_tone_std', mu=prior_std, sd=prior_std)\n",
    "    lunchtime_tweets_tone_std = pm.Gamma('lunchtime_tweets_tone_std', mu=prior_std, sd=prior_std)\n",
    "    \n",
    "    breakfast_tweets_polarity = pm.Normal('breakfast_tweets_polarity', mu=breakfast_tweets_tone_mean, sd=breakfast_tweets_tone_std, observed=breakfast_tweets_tone)\n",
    "    lunchtime_tweets_polarity = pm.Normal('lunchtime_tweets_polarity', mu=lunchtime_tweets_tone_mean, sd=lunchtime_tweets_tone_std, observed=lunchtime_tweets_tone)\n",
    "    \n",
    "    mean_delta = pm.Deterministic('mean_delta', breakfast_tweets_tone_mean - lunchtime_tweets_tone_mean)\n",
    "    std_delta = pm.Deterministic('std_delta',  breakfast_tweets_tone_std - lunchtime_tweets_tone_std)\n",
    "    effect_size = pm.Deterministic('effect_size', mean_delta / np.sqrt((breakfast_tweets_tone_std**2 + lunchtime_tweets_tone_std**2)/2.))"
   ]
  },
  {
   "cell_type": "code",
   "execution_count": 29,
   "metadata": {},
   "outputs": [
    {
     "name": "stderr",
     "output_type": "stream",
     "text": [
      "logp = -109.97, ||grad|| = 0.00044465: 100%|██████████| 12/12 [00:00<00:00, 19.10it/s]  \n",
      "100%|██████████| 50500/50500 [01:48<00:00, 463.49it/s]\n"
     ]
    }
   ],
   "source": [
    "with model:\n",
    "    step = pm.NUTS()\n",
    "    start = pm.find_MAP()\n",
    "    trace = pm.sample(50000, start=start, step=step, njobs=2)"
   ]
  },
  {
   "cell_type": "code",
   "execution_count": 30,
   "metadata": {},
   "outputs": [
    {
     "data": {
      "text/plain": [
       "array([<matplotlib.axes._subplots.AxesSubplot object at 0x1c166ec4e0>,\n",
       "       <matplotlib.axes._subplots.AxesSubplot object at 0x1c1676fc88>,\n",
       "       <matplotlib.axes._subplots.AxesSubplot object at 0x1c1674a208>,\n",
       "       <matplotlib.axes._subplots.AxesSubplot object at 0x1a0fb2a390>], dtype=object)"
      ]
     },
     "execution_count": 30,
     "metadata": {},
     "output_type": "execute_result"
    },
    {
     "data": {
      "image/png": "[encoded data removed]",
      "text/plain": [
       "<matplotlib.figure.Figure at 0x1c166eecf8>"
      ]
     },
     "metadata": {},
     "output_type": "display_data"
    }
   ],
   "source": [
    "pm.plot_posterior(trace[5000::3],\n",
    "                  varnames=['breakfast_tweets_tone_mean', 'lunchtime_tweets_tone_mean',\n",
    "                            'breakfast_tweets_tone_std', 'lunchtime_tweets_tone_std'],\n",
    "                  color='#87ceeb')"
   ]
  },
  {
   "cell_type": "code",
   "execution_count": 31,
   "metadata": {},
   "outputs": [
    {
     "data": {
      "text/plain": [
       "array([<matplotlib.axes._subplots.AxesSubplot object at 0x1a1106cef0>,\n",
       "       <matplotlib.axes._subplots.AxesSubplot object at 0x1c166f4da0>,\n",
       "       <matplotlib.axes._subplots.AxesSubplot object at 0x1c1ecc9eb8>], dtype=object)"
      ]
     },
     "execution_count": 31,
     "metadata": {},
     "output_type": "execute_result"
    },
    {
     "data": {
      "image/png": "[encoded data removed]",
      "text/plain": [
       "<matplotlib.figure.Figure at 0x1a110712e8>"
      ]
     },
     "metadata": {},
     "output_type": "display_data"
    }
   ],
   "source": [
    "pm.plot_posterior(trace[5000::3],\n",
    "                  varnames=['mean_delta','std_delta','effect_size'],\n",
    "                  color='#87ceeb', ref_val=0)"
   ]
  },
  {
   "cell_type": "code",
   "execution_count": null,
   "metadata": {
    "collapsed": true
   },
   "outputs": [],
   "source": [
    "# The Plot of the posteriors of our metric distributions shows that there is NOT A difference in the mean, therefore the\n",
    "# the two groups are the same "
   ]
  },
  {
   "cell_type": "markdown",
   "metadata": {},
   "source": [
    "### Build a model with pymc3 to estimate the difference in tone between breakfast and dinnertime tweets"
   ]
  },
  {
   "cell_type": "code",
   "execution_count": 32,
   "metadata": {},
   "outputs": [
    {
     "name": "stdout",
     "output_type": "stream",
     "text": [
      "0.0513992537993 0.0753901143261\n"
     ]
    }
   ],
   "source": [
    "breakfast_tweets_tone= twitter2.loc[twitter2['numeric_time']==1,'polarity'].values\n",
    "dinnertime_tweets_tone = twitter2.loc[twitter2['numeric_time']==3,'polarity'].values\n",
    "\n",
    "print(breakfast_tweets_tone.mean(),dinnertime_tweets_tone.mean() )"
   ]
  },
  {
   "cell_type": "code",
   "execution_count": 33,
   "metadata": {},
   "outputs": [
    {
     "name": "stdout",
     "output_type": "stream",
     "text": [
      "0.06624346054485264 0.24614381784910266\n"
     ]
    }
   ],
   "source": [
    "prior_mean2 = twitter2.polarity.mean()\n",
    "prior_std2 = twitter2.polarity.std()\n",
    "print(prior_mean2, prior_std2)"
   ]
  },
  {
   "cell_type": "code",
   "execution_count": 34,
   "metadata": {
    "collapsed": true
   },
   "outputs": [],
   "source": [
    "with pm.Model() as model:\n",
    "    \n",
    "    breakfast_tweets_tone_mean = pm.Normal('breakfast_tweets_tone_mean', prior_mean2, sd=prior_std2)\n",
    "    dinnertime_tweets_tone_mean = pm.Normal('dinnertime_tweets_tone_mean', prior_mean2, sd=prior_std2)\n",
    "    \n",
    "    breakfast_tweets_tone_std = pm.Gamma('breakfast_tweets_tone_std', mu=prior_std2, sd=prior_std2)\n",
    "    dinnertime_tweets_tone_std = pm.Gamma('dinnertime_tweets_tone_std', mu=prior_std2, sd=prior_std2)\n",
    "    \n",
    "    breakfast_tweets_polarity = pm.Normal('breakfast_tweets_polarity', mu=breakfast_tweets_tone_mean, sd=breakfast_tweets_tone_std, observed=breakfast_tweets_tone)\n",
    "    dinnertime_tweets_polarity = pm.Normal('dinnertime_tweets_polarity', mu=dinnertime_tweets_tone_mean, sd=dinnertime_tweets_tone_std, observed=dinnertime_tweets_tone)\n",
    "    \n",
    "    mean_delta = pm.Deterministic('mean_delta', breakfast_tweets_tone_mean - dinnertime_tweets_tone_mean)\n",
    "    std_delta = pm.Deterministic('std_delta',  breakfast_tweets_tone_std - dinnertime_tweets_tone_std)\n",
    "    effect_size = pm.Deterministic('effect_size', mean_delta / np.sqrt((breakfast_tweets_tone_std**2 + dinnertime_tweets_tone_std**2)/2.))"
   ]
  },
  {
   "cell_type": "code",
   "execution_count": 35,
   "metadata": {},
   "outputs": [
    {
     "name": "stderr",
     "output_type": "stream",
     "text": [
      "logp = -136.95, ||grad|| = 0.098478: 100%|██████████| 13/13 [00:00<00:00, 620.32it/s]  \n",
      "100%|██████████| 50500/50500 [01:53<00:00, 443.98it/s]\n"
     ]
    }
   ],
   "source": [
    "with model:\n",
    "    step = pm.NUTS()\n",
    "    start = pm.find_MAP()\n",
    "    trace = pm.sample(50000, start=start, step=step, njobs=2)"
   ]
  },
  {
   "cell_type": "code",
   "execution_count": 36,
   "metadata": {},
   "outputs": [
    {
     "data": {
      "text/plain": [
       "array([<matplotlib.axes._subplots.AxesSubplot object at 0x1c16174f98>,\n",
       "       <matplotlib.axes._subplots.AxesSubplot object at 0x1a1293d4e0>,\n",
       "       <matplotlib.axes._subplots.AxesSubplot object at 0x1c202c0e80>,\n",
       "       <matplotlib.axes._subplots.AxesSubplot object at 0x1c15dbb0b8>], dtype=object)"
      ]
     },
     "execution_count": 36,
     "metadata": {},
     "output_type": "execute_result"
    },
    {
     "data": {
      "image/png": "[encoded data removed]",
      "text/plain": [
       "<matplotlib.figure.Figure at 0x1c1617f160>"
      ]
     },
     "metadata": {},
     "output_type": "display_data"
    }
   ],
   "source": [
    "pm.plot_posterior(trace[5000::3],\n",
    "                  varnames=['breakfast_tweets_tone_mean', 'dinnertime_tweets_tone_mean',\n",
    "                            'breakfast_tweets_tone_std', 'dinnertime_tweets_tone_std'],\n",
    "                  color='#87ceeb')"
   ]
  },
  {
   "cell_type": "code",
   "execution_count": 37,
   "metadata": {},
   "outputs": [
    {
     "data": {
      "text/plain": [
       "array([<matplotlib.axes._subplots.AxesSubplot object at 0x1c213dbcf8>,\n",
       "       <matplotlib.axes._subplots.AxesSubplot object at 0x1c2116ee80>,\n",
       "       <matplotlib.axes._subplots.AxesSubplot object at 0x1c213fb438>], dtype=object)"
      ]
     },
     "execution_count": 37,
     "metadata": {},
     "output_type": "execute_result"
    },
    {
     "data": {
      "image/png": "[encoded data removed]",
      "text/plain": [
       "<matplotlib.figure.Figure at 0x1c213db518>"
      ]
     },
     "metadata": {},
     "output_type": "display_data"
    }
   ],
   "source": [
    "pm.plot_posterior(trace[5000::3],\n",
    "                  varnames=['mean_delta','std_delta','effect_size'],\n",
    "                  color='#87ceeb', ref_val=0)"
   ]
  },
  {
   "cell_type": "code",
   "execution_count": null,
   "metadata": {
    "collapsed": true
   },
   "outputs": [],
   "source": [
    "# The Plot of the posteriors of our metric distributions shows that there is A difference in the mean, therefore the\n",
    "# two groups are different"
   ]
  },
  {
   "cell_type": "markdown",
   "metadata": {},
   "source": [
    "### Build a model with pymc3 to estimate the difference in tone between lunchtime and dinnertime tweets"
   ]
  },
  {
   "cell_type": "code",
   "execution_count": 38,
   "metadata": {},
   "outputs": [
    {
     "name": "stdout",
     "output_type": "stream",
     "text": [
      "0.0521692336404 0.0753901143261\n"
     ]
    }
   ],
   "source": [
    "lunchtime_tweets_tone= twitter2.loc[twitter2['numeric_time']==2,'polarity'].values\n",
    "dinnertime_tweets_tone = twitter2.loc[twitter2['numeric_time']==3,'polarity'].values\n",
    "\n",
    "print(lunchtime_tweets_tone.mean(),dinnertime_tweets_tone.mean() )"
   ]
  },
  {
   "cell_type": "code",
   "execution_count": 39,
   "metadata": {},
   "outputs": [
    {
     "name": "stdout",
     "output_type": "stream",
     "text": [
      "0.06624346054485264 0.24614381784910266\n"
     ]
    }
   ],
   "source": [
    "prior_mean3 = twitter2.polarity.mean()\n",
    "prior_std3 = twitter2.polarity.std()\n",
    "print(prior_mean3, prior_std3)"
   ]
  },
  {
   "cell_type": "code",
   "execution_count": 40,
   "metadata": {
    "collapsed": true
   },
   "outputs": [],
   "source": [
    "with pm.Model() as model:\n",
    "    \n",
    "    lunchtime_tweets_tone_mean = pm.Normal('lunchtime_tweets_tone_mean', prior_mean3, sd=prior_std3)\n",
    "    dinnertime_tweets_tone_mean = pm.Normal('dinnertime_tweets_tone_mean', prior_mean3, sd=prior_std3)\n",
    "    \n",
    "    lunchtime_tweets_tone_std = pm.Gamma('lunchtime_tweets_tone_std', mu=prior_std3, sd=prior_std3)\n",
    "    dinnertime_tweets_tone_std = pm.Gamma('dinnertime_tweets_tone_std', mu=prior_std3, sd=prior_std3)\n",
    "    \n",
    "    lunchtime_tweets_polarity = pm.Normal('lunchtime_tweets_polarity', mu=lunchtime_tweets_tone_mean, sd=lunchtime_tweets_tone_std, observed=lunchtime_tweets_tone)\n",
    "    dinnertime_tweets_polarity = pm.Normal('dinnertime_tweets_polarity', mu=dinnertime_tweets_tone_mean, sd=dinnertime_tweets_tone_std, observed=dinnertime_tweets_tone)\n",
    "    \n",
    "    mean_delta = pm.Deterministic('mean_delta', lunchtime_tweets_tone_mean - dinnertime_tweets_tone_mean)\n",
    "    std_delta = pm.Deterministic('std_delta',  lunchtime_tweets_tone_std - dinnertime_tweets_tone_std)\n",
    "    effect_size = pm.Deterministic('effect_size', mean_delta / np.sqrt((lunchtime_tweets_tone_std**2 + dinnertime_tweets_tone_std**2)/2.))"
   ]
  },
  {
   "cell_type": "code",
   "execution_count": 41,
   "metadata": {},
   "outputs": [
    {
     "name": "stderr",
     "output_type": "stream",
     "text": [
      "logp = -46.215, ||grad|| = 0.073468: 100%|██████████| 14/14 [00:00<00:00, 650.65it/s]  \n",
      "100%|██████████| 50500/50500 [01:56<00:00, 434.47it/s]\n"
     ]
    }
   ],
   "source": [
    "with model:\n",
    "    step = pm.NUTS()\n",
    "    start = pm.find_MAP()\n",
    "    trace = pm.sample(50000, start=start, step=step, njobs=2)"
   ]
  },
  {
   "cell_type": "code",
   "execution_count": 42,
   "metadata": {},
   "outputs": [
    {
     "data": {
      "text/plain": [
       "array([<matplotlib.axes._subplots.AxesSubplot object at 0x1c206c1dd8>,\n",
       "       <matplotlib.axes._subplots.AxesSubplot object at 0x1c209e3208>,\n",
       "       <matplotlib.axes._subplots.AxesSubplot object at 0x1c205ea828>,\n",
       "       <matplotlib.axes._subplots.AxesSubplot object at 0x1c206400f0>], dtype=object)"
      ]
     },
     "execution_count": 42,
     "metadata": {},
     "output_type": "execute_result"
    },
    {
     "data": {
      "image/png": "[encoded data removed]",
      "text/plain": [
       "<matplotlib.figure.Figure at 0x1c20524dd8>"
      ]
     },
     "metadata": {},
     "output_type": "display_data"
    }
   ],
   "source": [
    "pm.plot_posterior(trace[5000::3],\n",
    "                  varnames=['lunchtime_tweets_tone_mean', 'dinnertime_tweets_tone_mean',\n",
    "                            'lunchtime_tweets_tone_std', 'dinnertime_tweets_tone_std'],\n",
    "                  color='#87ceeb')"
   ]
  },
  {
   "cell_type": "code",
   "execution_count": 43,
   "metadata": {},
   "outputs": [
    {
     "data": {
      "text/plain": [
       "array([<matplotlib.axes._subplots.AxesSubplot object at 0x1c20a5fe80>,\n",
       "       <matplotlib.axes._subplots.AxesSubplot object at 0x1c208e7048>,\n",
       "       <matplotlib.axes._subplots.AxesSubplot object at 0x1c218315c0>], dtype=object)"
      ]
     },
     "execution_count": 43,
     "metadata": {},
     "output_type": "execute_result"
    },
    {
     "data": {
      "image/png": "[encoded data removed]",
      "text/plain": [
       "<matplotlib.figure.Figure at 0x1c20a5f6a0>"
      ]
     },
     "metadata": {},
     "output_type": "display_data"
    }
   ],
   "source": [
    "pm.plot_posterior(trace[5000::3],\n",
    "                  varnames=['mean_delta','std_delta','effect_size'],\n",
    "                  color='#87ceeb', ref_val=0)"
   ]
  },
  {
   "cell_type": "code",
   "execution_count": null,
   "metadata": {
    "collapsed": true
   },
   "outputs": [],
   "source": [
    "# The Plot of the posteriors of our metric distributions shows that there is A difference in the mean, therefore the\n",
    "# two groups are different"
   ]
  },
  {
   "cell_type": "code",
   "execution_count": 44,
   "metadata": {},
   "outputs": [
    {
     "name": "stdout",
     "output_type": "stream",
     "text": [
      "\n",
      "mean_delta:\n",
      "\n",
      "  Mean             SD               MC Error         95% HPD interval\n",
      "  -------------------------------------------------------------------\n",
      "  \n",
      "  -0.023           0.007            0.000            [-0.037, -0.010]\n",
      "\n",
      "  Posterior quantiles:\n",
      "  2.5            25             50             75             97.5\n",
      "  |--------------|==============|==============|--------------|\n",
      "  \n",
      "  -0.037         -0.028         -0.023         -0.019         -0.010\n",
      "\n",
      "\n",
      "std_delta:\n",
      "\n",
      "  Mean             SD               MC Error         95% HPD interval\n",
      "  -------------------------------------------------------------------\n",
      "  \n",
      "  -0.002           0.005            0.000            [-0.012, 0.007]\n",
      "\n",
      "  Posterior quantiles:\n",
      "  2.5            25             50             75             97.5\n",
      "  |--------------|==============|==============|--------------|\n",
      "  \n",
      "  -0.012         -0.006         -0.002         0.001          0.007\n",
      "\n",
      "\n",
      "effect_size:\n",
      "\n",
      "  Mean             SD               MC Error         95% HPD interval\n",
      "  -------------------------------------------------------------------\n",
      "  \n",
      "  -0.095           0.028            0.000            [-0.150, -0.040]\n",
      "\n",
      "  Posterior quantiles:\n",
      "  2.5            25             50             75             97.5\n",
      "  |--------------|==============|==============|--------------|\n",
      "  \n",
      "  -0.150         -0.114         -0.095         -0.076         -0.040\n",
      "\n"
     ]
    }
   ],
   "source": [
    "pm.summary(trace[5000:],varnames=['mean_delta','std_delta','effect_size'])"
   ]
  },
  {
   "cell_type": "markdown",
   "metadata": {},
   "source": [
    " ### Use LDA to identify topics in the tweets"
   ]
  },
  {
   "cell_type": "code",
   "execution_count": 45,
   "metadata": {
    "collapsed": true
   },
   "outputs": [],
   "source": [
    "from sklearn.decomposition import LatentDirichletAllocation"
   ]
  },
  {
   "cell_type": "code",
   "execution_count": 46,
   "metadata": {},
   "outputs": [
    {
     "data": {
      "text/plain": [
       "<22742x23919 sparse matrix of type '<class 'numpy.int64'>'\n",
       "\twith 200031 stored elements in Compressed Sparse Row format>"
      ]
     },
     "execution_count": 46,
     "metadata": {},
     "output_type": "execute_result"
    }
   ],
   "source": [
    "cv = CountVectorizer(stop_words='english')\n",
    "cv.fit(twitter2['Text'].values)\n",
    "X = cv.transform(twitter2['Text'].values)\n",
    "X"
   ]
  },
  {
   "cell_type": "code",
   "execution_count": 47,
   "metadata": {},
   "outputs": [
    {
     "name": "stderr",
     "output_type": "stream",
     "text": [
      "//anaconda/envs/py36/lib/python3.6/site-packages/sklearn/decomposition/online_lda.py:532: DeprecationWarning: The default value for 'learning_method' will be changed from 'online' to 'batch' in the release 0.20. This warning was introduced in 0.18.\n",
      "  DeprecationWarning)\n"
     ]
    },
    {
     "data": {
      "text/plain": [
       "LatentDirichletAllocation(batch_size=128, doc_topic_prior=None,\n",
       "             evaluate_every=-1, learning_decay=0.7, learning_method=None,\n",
       "             learning_offset=10.0, max_doc_update_iter=100, max_iter=10,\n",
       "             mean_change_tol=0.001, n_components=10, n_jobs=1,\n",
       "             n_topics=None, perp_tol=0.1, random_state=None,\n",
       "             topic_word_prior=None, total_samples=1000000.0, verbose=0)"
      ]
     },
     "execution_count": 47,
     "metadata": {},
     "output_type": "execute_result"
    }
   ],
   "source": [
    "feature_names = cv.get_feature_names()\n",
    "lda = LatentDirichletAllocation(n_components=10)\n",
    "\n",
    "lda.fit(X)"
   ]
  },
  {
   "cell_type": "code",
   "execution_count": 48,
   "metadata": {},
   "outputs": [
    {
     "name": "stdout",
     "output_type": "stream",
     "text": [
      "(10, 23919)\n"
     ]
    }
   ],
   "source": [
    "print(lda.components_.shape)"
   ]
  },
  {
   "cell_type": "code",
   "execution_count": 49,
   "metadata": {
    "collapsed": true
   },
   "outputs": [],
   "source": [
    "results = pd.DataFrame(lda.components_,\n",
    "                      columns=feature_names)"
   ]
  },
  {
   "cell_type": "code",
   "execution_count": 50,
   "metadata": {},
   "outputs": [
    {
     "name": "stdout",
     "output_type": "stream",
     "text": [
      "Topic 0\n",
      "sexual cbs women allegations harassment dont think opinion accused misconduct work going group love times theres amid thats died access taking things perspective game assault \n",
      "\n",
      "Topic 1\n",
      "mnpr latest public thanks daily jerusalem https right need national security coming trump tonights exclusive left thanksgiving follow wants 2018 major massive use got political \n",
      "\n",
      "Topic 2\n",
      "trump house watch news white blog flynn breaking woman says star michael night time make im president great congress live guilty trumps deal decision end \n",
      "\n",
      "Topic 3\n",
      "year social snow st look 2017 like season world reports set puerto tv rico cbsratingnews states fans history facebook united moment charges kids air storm \n",
      "\n",
      "Topic 4\n",
      "trump president communications trumps special says intern manager election john travel pr mueller analysis donald power calls conyers digital investigation russian federal party hiring sanders \n",
      "\n",
      "Topic 5\n",
      "tonight minnesota marketing live mn specialist new report best story franken al today help sen tells texas shooting lssc account time thetalk tweet check prince \n",
      "\n",
      "Topic 6\n",
      "ryan moore roy seeks senate people alabama hire gop rep mns russia ad jones paul trump coordinator says doug race republican specialist minneapoliss black sen \n",
      "\n",
      "Topic 7\n",
      "job pres man week county american california says said family shows media officials nyc country miss friday say government life days official making america new \n",
      "\n",
      "Topic 8\n",
      "tax day know heres republicans north plan state big korea want way democrats episode change dead little center ready talk dont attorney reform says years \n",
      "\n",
      "Topic 9\n",
      "amp new relations police weather happy york twitter good say winter director stormwatchon2 home case technology city morning suspect team court million video south 10 \n",
      "\n"
     ]
    }
   ],
   "source": [
    "for topic in range(10):\n",
    "    print('Topic', topic)\n",
    "    word_list = results.T[topic].sort_values(ascending=False).index\n",
    "    print(' '.join(word_list[0:25]), '\\n')"
   ]
  },
  {
   "cell_type": "markdown",
   "metadata": {},
   "source": [
    "The topics talked sexual harassment, russia investigation, and election "
   ]
  },
  {
   "cell_type": "code",
   "execution_count": null,
   "metadata": {
    "collapsed": true
   },
   "outputs": [],
   "source": []
  },
  {
   "cell_type": "markdown",
   "metadata": {},
   "source": [
    "### Multiclass Classification Model Building"
   ]
  },
  {
   "cell_type": "code",
   "execution_count": 13,
   "metadata": {
    "collapsed": true
   },
   "outputs": [],
   "source": [
    "df_breakfast = twitter2.loc[twitter2['numeric_time']==1,:]\n",
    "df_lunch =  twitter2.loc[twitter2['numeric_time']==2,:]\n",
    "df_dinner =  twitter2.loc[twitter2['numeric_time']==3,:]"
   ]
  },
  {
   "cell_type": "code",
   "execution_count": 17,
   "metadata": {
    "collapsed": true
   },
   "outputs": [],
   "source": [
    "# # the baseline\n",
    "# y_test.value_counts()/len(y_test)"
   ]
  },
  {
   "cell_type": "code",
   "execution_count": 7,
   "metadata": {},
   "outputs": [
    {
     "data": {
      "text/html": [
       "<div>\n",
       "<style>\n",
       "    .dataframe thead tr:only-child th {\n",
       "        text-align: right;\n",
       "    }\n",
       "\n",
       "    .dataframe thead th {\n",
       "        text-align: left;\n",
       "    }\n",
       "\n",
       "    .dataframe tbody tr th {\n",
       "        vertical-align: top;\n",
       "    }\n",
       "</style>\n",
       "<table border=\"1\" class=\"dataframe\">\n",
       "  <thead>\n",
       "    <tr style=\"text-align: right;\">\n",
       "      <th></th>\n",
       "      <th>created_at</th>\n",
       "      <th>geo</th>\n",
       "      <th>handle</th>\n",
       "      <th>mined_at</th>\n",
       "      <th>place</th>\n",
       "      <th>retweet_count</th>\n",
       "      <th>text</th>\n",
       "      <th>tweet_id</th>\n",
       "      <th>Text</th>\n",
       "      <th>Time</th>\n",
       "      <th>numeric_time</th>\n",
       "      <th>subjectivity</th>\n",
       "      <th>polarity</th>\n",
       "      <th>sentiment</th>\n",
       "    </tr>\n",
       "  </thead>\n",
       "  <tbody>\n",
       "    <tr>\n",
       "      <th>0</th>\n",
       "      <td>Thu Dec 14 23:50:41 +0000 2017</td>\n",
       "      <td>NaN</td>\n",
       "      <td>CNN</td>\n",
       "      <td>2017-12-14 18:51:13.317226</td>\n",
       "      <td>NaN</td>\n",
       "      <td>3</td>\n",
       "      <td>The House Intelligence Committee plans to hold...</td>\n",
       "      <td>941455435726548992</td>\n",
       "      <td>house intelligence committee plans hold two of...</td>\n",
       "      <td>NaN</td>\n",
       "      <td>4</td>\n",
       "      <td>0.227273</td>\n",
       "      <td>0.068182</td>\n",
       "      <td>positive</td>\n",
       "    </tr>\n",
       "    <tr>\n",
       "      <th>1</th>\n",
       "      <td>Thu Dec 14 23:46:04 +0000 2017</td>\n",
       "      <td>NaN</td>\n",
       "      <td>CNN</td>\n",
       "      <td>2017-12-14 18:51:13.317236</td>\n",
       "      <td>NaN</td>\n",
       "      <td>24</td>\n",
       "      <td>21st Century Fox executive co-chairman Rupert ...</td>\n",
       "      <td>941454273711308800</td>\n",
       "      <td>21st century fox executive cochairman rupert m...</td>\n",
       "      <td>NaN</td>\n",
       "      <td>4</td>\n",
       "      <td>0.311111</td>\n",
       "      <td>0.166667</td>\n",
       "      <td>positive</td>\n",
       "    </tr>\n",
       "  </tbody>\n",
       "</table>\n",
       "</div>"
      ],
      "text/plain": [
       "                       created_at  geo handle                    mined_at  \\\n",
       "0  Thu Dec 14 23:50:41 +0000 2017  NaN    CNN  2017-12-14 18:51:13.317226   \n",
       "1  Thu Dec 14 23:46:04 +0000 2017  NaN    CNN  2017-12-14 18:51:13.317236   \n",
       "\n",
       "   place  retweet_count                                               text  \\\n",
       "0    NaN              3  The House Intelligence Committee plans to hold...   \n",
       "1    NaN             24  21st Century Fox executive co-chairman Rupert ...   \n",
       "\n",
       "             tweet_id                                               Text Time  \\\n",
       "0  941455435726548992  house intelligence committee plans hold two of...  NaN   \n",
       "1  941454273711308800  21st century fox executive cochairman rupert m...  NaN   \n",
       "\n",
       "   numeric_time  subjectivity  polarity sentiment  \n",
       "0             4      0.227273  0.068182  positive  \n",
       "1             4      0.311111  0.166667  positive  "
      ]
     },
     "execution_count": 7,
     "metadata": {},
     "output_type": "execute_result"
    }
   ],
   "source": [
    "twitter2.head(2)"
   ]
  },
  {
   "cell_type": "code",
   "execution_count": 8,
   "metadata": {},
   "outputs": [
    {
     "data": {
      "text/plain": [
       "1"
      ]
     },
     "execution_count": 8,
     "metadata": {},
     "output_type": "execute_result"
    }
   ],
   "source": [
    "twitter2.Text.isnull().sum()"
   ]
  },
  {
   "cell_type": "code",
   "execution_count": 6,
   "metadata": {
    "collapsed": true
   },
   "outputs": [],
   "source": [
    "model_df =twitter2.loc[twitter2['numeric_time'] !=4,:]"
   ]
  },
  {
   "cell_type": "code",
   "execution_count": 11,
   "metadata": {},
   "outputs": [
    {
     "data": {
      "text/plain": [
       "created_at          0\n",
       "geo              7291\n",
       "handle              0\n",
       "mined_at            0\n",
       "place            7291\n",
       "retweet_count       0\n",
       "text                0\n",
       "tweet_id            0\n",
       "Text                1\n",
       "Time                0\n",
       "numeric_time        0\n",
       "subjectivity        0\n",
       "polarity            0\n",
       "sentiment           0\n",
       "dtype: int64"
      ]
     },
     "execution_count": 11,
     "metadata": {},
     "output_type": "execute_result"
    }
   ],
   "source": [
    "model_df.isnull().sum()"
   ]
  },
  {
   "cell_type": "code",
   "execution_count": 7,
   "metadata": {},
   "outputs": [],
   "source": [
    "model_df =model_df.drop(['geo','place'],axis = 1).copy()"
   ]
  },
  {
   "cell_type": "code",
   "execution_count": 8,
   "metadata": {},
   "outputs": [],
   "source": [
    "model_df = model_df.dropna()"
   ]
  },
  {
   "cell_type": "code",
   "execution_count": 9,
   "metadata": {
    "collapsed": true
   },
   "outputs": [],
   "source": [
    "X = model_df['Text']\n",
    "y= model_df['numeric_time']"
   ]
  },
  {
   "cell_type": "code",
   "execution_count": 10,
   "metadata": {},
   "outputs": [
    {
     "data": {
      "text/plain": [
       "(7290,)"
      ]
     },
     "execution_count": 10,
     "metadata": {},
     "output_type": "execute_result"
    }
   ],
   "source": [
    "y.shape"
   ]
  },
  {
   "cell_type": "markdown",
   "metadata": {},
   "source": [
    "### Naive bayes models"
   ]
  },
  {
   "cell_type": "code",
   "execution_count": 22,
   "metadata": {},
   "outputs": [
    {
     "data": {
      "text/plain": [
       "MultinomialNB(alpha=1.0, class_prior=None, fit_prior=True)"
      ]
     },
     "execution_count": 22,
     "metadata": {},
     "output_type": "execute_result"
    }
   ],
   "source": [
    "from sklearn.naive_bayes import MultinomialNB\n",
    "X_train,X_test, y_train,y_test = train_test_split(X, y,random_state=2017)\n",
    "tfidf = TfidfVectorizer()\n",
    "\n",
    "X_train = tfidf.fit_transform(X_train)\n",
    "X_test = tfidf.transform(X_test)\n",
    "\n",
    "mnb = MultinomialNB()\n",
    "mnb.fit(X_train,y_train)\n"
   ]
  },
  {
   "cell_type": "code",
   "execution_count": 23,
   "metadata": {
    "collapsed": true
   },
   "outputs": [],
   "source": [
    "df_X_train = pd.DataFrame(X_train.todense(), columns=tfidf.get_feature_names())"
   ]
  },
  {
   "cell_type": "code",
   "execution_count": 24,
   "metadata": {
    "collapsed": true
   },
   "outputs": [],
   "source": [
    "ypreds = mnb.predict(X_test)"
   ]
  },
  {
   "cell_type": "code",
   "execution_count": 25,
   "metadata": {},
   "outputs": [
    {
     "name": "stdout",
     "output_type": "stream",
     "text": [
      "0.494240263302\n",
      "             precision    recall  f1-score   support\n",
      "\n",
      "          1       0.47      0.32      0.38       554\n",
      "          2       0.44      0.52      0.48       581\n",
      "          3       0.55      0.61      0.58       688\n",
      "\n",
      "avg / total       0.49      0.49      0.49      1823\n",
      "\n",
      "     1    2    3\n",
      "1  178  199  177\n",
      "2  117  300  164\n",
      "3   87  178  423\n"
     ]
    }
   ],
   "source": [
    "conmat_1 = confusion_matrix(y_test, ypreds, labels=mnb.classes_)\n",
    "conmat_1 = pd.DataFrame(conmat_1, columns=mnb.classes_, index=mnb.classes_)\n",
    "print(accuracy_score(y_test,ypreds))\n",
    "print(classification_report(y_test,ypreds))\n",
    "print( conmat_1)"
   ]
  },
  {
   "cell_type": "code",
   "execution_count": 26,
   "metadata": {},
   "outputs": [
    {
     "data": {
      "text/plain": [
       "MultinomialNB(alpha=1.0, class_prior=None, fit_prior=True)"
      ]
     },
     "execution_count": 26,
     "metadata": {},
     "output_type": "execute_result"
    }
   ],
   "source": [
    "# Naive bayes using ngram_range = 2,4\n",
    "from sklearn.naive_bayes import MultinomialNB\n",
    "X_train,X_test, y_train,y_test = train_test_split(X, y,random_state=2017)\n",
    "tfidf = TfidfVectorizer(ngram_range=(2,4))\n",
    "\n",
    "X_train = tfidf.fit_transform(X_train)\n",
    "X_test = tfidf.transform(X_test)\n",
    "\n",
    "mnb = MultinomialNB()\n",
    "mnb.fit(X_train,y_train)"
   ]
  },
  {
   "cell_type": "code",
   "execution_count": 27,
   "metadata": {},
   "outputs": [
    {
     "name": "stdout",
     "output_type": "stream",
     "text": [
      "0.46571585299\n",
      "             precision    recall  f1-score   support\n",
      "\n",
      "          1       0.43      0.19      0.27       554\n",
      "          2       0.47      0.43      0.45       581\n",
      "          3       0.47      0.71      0.57       688\n",
      "\n",
      "avg / total       0.46      0.47      0.44      1823\n",
      "\n",
      "     1    2    3\n",
      "1  108  163  283\n",
      "2   67  252  262\n",
      "3   74  125  489\n"
     ]
    }
   ],
   "source": [
    "ypreds = mnb.predict(X_test)\n",
    "conmat_1 = confusion_matrix(y_test, ypreds, labels=mnb.classes_)\n",
    "conmat_1 = pd.DataFrame(conmat_1, columns=mnb.classes_, index=mnb.classes_)\n",
    "print(accuracy_score(y_test,ypreds))\n",
    "print(classification_report(y_test,ypreds))\n",
    "print( conmat_1)"
   ]
  },
  {
   "cell_type": "markdown",
   "metadata": {
    "collapsed": true
   },
   "source": [
    "### Support Vector Machine"
   ]
  },
  {
   "cell_type": "code",
   "execution_count": 3,
   "metadata": {
    "collapsed": true
   },
   "outputs": [],
   "source": [
    "from sklearn.svm import SVC"
   ]
  },
  {
   "cell_type": "code",
   "execution_count": 69,
   "metadata": {},
   "outputs": [
    {
     "data": {
      "text/plain": [
       "SVC(C=0.01, cache_size=200, class_weight='balanced', coef0=0.0,\n",
       "  decision_function_shape='ovr', degree=3, gamma='auto', kernel='linear',\n",
       "  max_iter=-1, probability=False, random_state=None, shrinking=True,\n",
       "  tol=0.001, verbose=False)"
      ]
     },
     "execution_count": 69,
     "metadata": {},
     "output_type": "execute_result"
    }
   ],
   "source": [
    "from sklearn.svm import SVC\n",
    "X_train,X_test, y_train,y_test = train_test_split(X, y,random_state=2019)\n",
    "tfidf = TfidfVectorizer()\n",
    "\n",
    "X_train = tfidf.fit_transform(X_train)\n",
    "X_test = tfidf.transform(X_test)\n",
    "\n",
    "svc = SVC(class_weight='balanced', C=.01, kernel='linear')\n",
    "svc.fit(X_train,y_train)\n"
   ]
  },
  {
   "cell_type": "code",
   "execution_count": 70,
   "metadata": {
    "scrolled": true
   },
   "outputs": [
    {
     "name": "stdout",
     "output_type": "stream",
     "text": [
      "0.330773450357\n",
      "             precision    recall  f1-score   support\n",
      "\n",
      "          1       0.00      0.00      0.00       584\n",
      "          2       0.33      1.00      0.50       603\n",
      "          3       0.00      0.00      0.00       636\n",
      "\n",
      "avg / total       0.11      0.33      0.16      1823\n",
      "\n",
      "   1    2  3\n",
      "1  0  584  0\n",
      "2  0  603  0\n",
      "3  3  633  0\n"
     ]
    },
    {
     "name": "stderr",
     "output_type": "stream",
     "text": [
      "//anaconda/envs/py36/lib/python3.6/site-packages/sklearn/metrics/classification.py:1135: UndefinedMetricWarning: Precision and F-score are ill-defined and being set to 0.0 in labels with no predicted samples.\n",
      "  'precision', 'predicted', average, warn_for)\n"
     ]
    }
   ],
   "source": [
    "ypreds = svc.predict(X_test)\n",
    "conmat_1 = confusion_matrix(y_test, ypreds, labels=svc.classes_)\n",
    "conmat_1 = pd.DataFrame(conmat_1, columns=svc.classes_, index=svc.classes_)\n",
    "print(accuracy_score(y_test,ypreds))\n",
    "print(classification_report(y_test,ypreds))\n",
    "print( conmat_1)"
   ]
  },
  {
   "cell_type": "markdown",
   "metadata": {},
   "source": [
    "This model does not give us any signal. It randomly predicts one class or another  "
   ]
  },
  {
   "cell_type": "markdown",
   "metadata": {},
   "source": [
    "### Gradient Boosting model"
   ]
  },
  {
   "cell_type": "code",
   "execution_count": 71,
   "metadata": {},
   "outputs": [
    {
     "data": {
      "text/plain": [
       "GradientBoostingClassifier(criterion='friedman_mse', init=None,\n",
       "              learning_rate=0.1, loss='deviance', max_depth=3,\n",
       "              max_features=None, max_leaf_nodes=None,\n",
       "              min_impurity_decrease=0.0, min_impurity_split=None,\n",
       "              min_samples_leaf=1, min_samples_split=2,\n",
       "              min_weight_fraction_leaf=0.0, n_estimators=100,\n",
       "              presort='auto', random_state=None, subsample=1.0, verbose=0,\n",
       "              warm_start=False)"
      ]
     },
     "execution_count": 71,
     "metadata": {},
     "output_type": "execute_result"
    }
   ],
   "source": [
    "X_train,X_test, y_train,y_test = train_test_split(X, y,random_state=2019)\n",
    "tfidf = TfidfVectorizer()\n",
    "X_train = tfidf.fit_transform(X_train)\n",
    "X_test = tfidf.transform(X_test)\n",
    "\n",
    "gb =GradientBoostingClassifier()\n",
    "gb.fit(X_train,y_train)"
   ]
  },
  {
   "cell_type": "code",
   "execution_count": 72,
   "metadata": {},
   "outputs": [
    {
     "name": "stdout",
     "output_type": "stream",
     "text": [
      "0.43280307186\n",
      "             precision    recall  f1-score   support\n",
      "\n",
      "          1       0.44      0.19      0.26       584\n",
      "          2       0.49      0.32      0.39       603\n",
      "          3       0.41      0.76      0.53       636\n",
      "\n",
      "avg / total       0.45      0.43      0.40      1823\n",
      "\n",
      "     1    2    3\n",
      "1  109  108  367\n",
      "2   76  195  332\n",
      "3   60   91  485\n"
     ]
    }
   ],
   "source": [
    "ypreds = gb.predict(X_test)\n",
    "conmat_1 = confusion_matrix(y_test, ypreds, labels=gb.classes_)\n",
    "conmat_1 = pd.DataFrame(conmat_1, columns=gb.classes_, index=gb.classes_)\n",
    "print(accuracy_score(y_test,ypreds))\n",
    "print(classification_report(y_test,ypreds))\n",
    "print( conmat_1)"
   ]
  },
  {
   "cell_type": "markdown",
   "metadata": {},
   "source": [
    "### Adaboost model"
   ]
  },
  {
   "cell_type": "code",
   "execution_count": 73,
   "metadata": {},
   "outputs": [
    {
     "data": {
      "text/plain": [
       "AdaBoostClassifier(algorithm='SAMME.R', base_estimator=None,\n",
       "          learning_rate=1.0, n_estimators=50, random_state=None)"
      ]
     },
     "execution_count": 73,
     "metadata": {},
     "output_type": "execute_result"
    }
   ],
   "source": [
    "X_train,X_test, y_train,y_test = train_test_split(X, y,random_state=2019)\n",
    "tfidf = TfidfVectorizer()\n",
    "X_train = tfidf.fit_transform(X_train)\n",
    "X_test = tfidf.transform(X_test)\n",
    "\n",
    "ada =AdaBoostClassifier()\n",
    "ada.fit(X_train,y_train)"
   ]
  },
  {
   "cell_type": "code",
   "execution_count": 74,
   "metadata": {},
   "outputs": [
    {
     "name": "stdout",
     "output_type": "stream",
     "text": [
      "0.433900164564\n",
      "             precision    recall  f1-score   support\n",
      "\n",
      "          1       0.37      0.80      0.50       584\n",
      "          2       0.74      0.18      0.29       603\n",
      "          3       0.52      0.34      0.41       636\n",
      "\n",
      "avg / total       0.55      0.43      0.40      1823\n",
      "\n",
      "     1    2    3\n",
      "1  465   20   99\n",
      "2  394  107  102\n",
      "3  400   17  219\n"
     ]
    }
   ],
   "source": [
    "ypreds = ada.predict(X_test)\n",
    "conmat_1 = confusion_matrix(y_test, ypreds, labels=ada.classes_)\n",
    "conmat_1 = pd.DataFrame(conmat_1, columns=ada.classes_, index=ada.classes_)\n",
    "print(accuracy_score(y_test,ypreds))\n",
    "print(classification_report(y_test,ypreds))\n",
    "print( conmat_1)"
   ]
  },
  {
   "cell_type": "markdown",
   "metadata": {},
   "source": [
    "### Random Forest models"
   ]
  },
  {
   "cell_type": "code",
   "execution_count": 143,
   "metadata": {},
   "outputs": [
    {
     "data": {
      "text/plain": [
       "RandomForestClassifier(bootstrap=True, class_weight=None, criterion='gini',\n",
       "            max_depth=None, max_features='auto', max_leaf_nodes=None,\n",
       "            min_impurity_decrease=0.0, min_impurity_split=None,\n",
       "            min_samples_leaf=1, min_samples_split=2,\n",
       "            min_weight_fraction_leaf=0.0, n_estimators=10, n_jobs=1,\n",
       "            oob_score=False, random_state=None, verbose=0,\n",
       "            warm_start=False)"
      ]
     },
     "execution_count": 143,
     "metadata": {},
     "output_type": "execute_result"
    }
   ],
   "source": [
    "tfidf = TfidfVectorizer()\n",
    "rf = RandomForestClassifier()\n",
    "rf.fit(X_train,y_train)"
   ]
  },
  {
   "cell_type": "code",
   "execution_count": 106,
   "metadata": {},
   "outputs": [
    {
     "name": "stdout",
     "output_type": "stream",
     "text": [
      "0.431157432803\n",
      "             precision    recall  f1-score   support\n",
      "\n",
      "          1       0.35      0.78      0.48       537\n",
      "          2       0.56      0.25      0.35       608\n",
      "          3       0.63      0.31      0.42       678\n",
      "\n",
      "avg / total       0.52      0.43      0.41      1823\n",
      "\n",
      "     1    2    3\n",
      "1  420   68   49\n",
      "2  378  154   76\n",
      "3  411   55  212\n"
     ]
    }
   ],
   "source": [
    "ypreds = rf.predict(X_test)\n",
    "conmat_1 = confusion_matrix(y_test, ypreds, labels=rf.classes_)\n",
    "conmat_1 = pd.DataFrame(conmat_1, columns=rf.classes_, index=rf.classes_)\n",
    "print(accuracy_score(y_test,ypreds))\n",
    "print(classification_report(y_test,ypreds))\n",
    "print( conmat_1)"
   ]
  },
  {
   "cell_type": "code",
   "execution_count": 193,
   "metadata": {
    "collapsed": true
   },
   "outputs": [],
   "source": [
    "#rf.feature_importances_"
   ]
  },
  {
   "cell_type": "code",
   "execution_count": 198,
   "metadata": {},
   "outputs": [
    {
     "data": {
      "text/html": [
       "<div>\n",
       "<style>\n",
       "    .dataframe thead tr:only-child th {\n",
       "        text-align: right;\n",
       "    }\n",
       "\n",
       "    .dataframe thead th {\n",
       "        text-align: left;\n",
       "    }\n",
       "\n",
       "    .dataframe tbody tr th {\n",
       "        vertical-align: top;\n",
       "    }\n",
       "</style>\n",
       "<table border=\"1\" class=\"dataframe\">\n",
       "  <thead>\n",
       "    <tr style=\"text-align: right;\">\n",
       "      <th></th>\n",
       "      <th>Coeffs</th>\n",
       "    </tr>\n",
       "  </thead>\n",
       "  <tbody>\n",
       "    <tr>\n",
       "      <th>may</th>\n",
       "      <td>0.007117</td>\n",
       "    </tr>\n",
       "    <tr>\n",
       "      <th>job</th>\n",
       "      <td>0.006210</td>\n",
       "    </tr>\n",
       "    <tr>\n",
       "      <th>trump</th>\n",
       "      <td>0.005640</td>\n",
       "    </tr>\n",
       "    <tr>\n",
       "      <th>public</th>\n",
       "      <td>0.004679</td>\n",
       "    </tr>\n",
       "    <tr>\n",
       "      <th>mnpr</th>\n",
       "      <td>0.004454</td>\n",
       "    </tr>\n",
       "    <tr>\n",
       "      <th>seeks</th>\n",
       "      <td>0.004301</td>\n",
       "    </tr>\n",
       "    <tr>\n",
       "      <th>via</th>\n",
       "      <td>0.004171</td>\n",
       "    </tr>\n",
       "    <tr>\n",
       "      <th>blog</th>\n",
       "      <td>0.004132</td>\n",
       "    </tr>\n",
       "    <tr>\n",
       "      <th>president</th>\n",
       "      <td>0.004078</td>\n",
       "    </tr>\n",
       "    <tr>\n",
       "      <th>daily</th>\n",
       "      <td>0.004029</td>\n",
       "    </tr>\n",
       "    <tr>\n",
       "      <th>new</th>\n",
       "      <td>0.003183</td>\n",
       "    </tr>\n",
       "    <tr>\n",
       "      <th>tonight</th>\n",
       "      <td>0.002980</td>\n",
       "    </tr>\n",
       "    <tr>\n",
       "      <th>stormwatchon2</th>\n",
       "      <td>0.002967</td>\n",
       "    </tr>\n",
       "    <tr>\n",
       "      <th>thanks</th>\n",
       "      <td>0.002789</td>\n",
       "    </tr>\n",
       "    <tr>\n",
       "      <th>opinion</th>\n",
       "      <td>0.002772</td>\n",
       "    </tr>\n",
       "    <tr>\n",
       "      <th>two</th>\n",
       "      <td>0.002770</td>\n",
       "    </tr>\n",
       "    <tr>\n",
       "      <th>us</th>\n",
       "      <td>0.002700</td>\n",
       "    </tr>\n",
       "    <tr>\n",
       "      <th>latest</th>\n",
       "      <td>0.002675</td>\n",
       "    </tr>\n",
       "    <tr>\n",
       "      <th>live</th>\n",
       "      <td>0.002593</td>\n",
       "    </tr>\n",
       "    <tr>\n",
       "      <th>relations</th>\n",
       "      <td>0.002574</td>\n",
       "    </tr>\n",
       "    <tr>\n",
       "      <th>one</th>\n",
       "      <td>0.002491</td>\n",
       "    </tr>\n",
       "    <tr>\n",
       "      <th>says</th>\n",
       "      <td>0.002392</td>\n",
       "    </tr>\n",
       "    <tr>\n",
       "      <th>north</th>\n",
       "      <td>0.002391</td>\n",
       "    </tr>\n",
       "    <tr>\n",
       "      <th>cbs</th>\n",
       "      <td>0.002384</td>\n",
       "    </tr>\n",
       "    <tr>\n",
       "      <th>amp</th>\n",
       "      <td>0.002377</td>\n",
       "    </tr>\n",
       "    <tr>\n",
       "      <th>ryan</th>\n",
       "      <td>0.002375</td>\n",
       "    </tr>\n",
       "    <tr>\n",
       "      <th>analysis</th>\n",
       "      <td>0.002330</td>\n",
       "    </tr>\n",
       "    <tr>\n",
       "      <th>sexual</th>\n",
       "      <td>0.002271</td>\n",
       "    </tr>\n",
       "    <tr>\n",
       "      <th>specialist</th>\n",
       "      <td>0.002217</td>\n",
       "    </tr>\n",
       "    <tr>\n",
       "      <th>get</th>\n",
       "      <td>0.002141</td>\n",
       "    </tr>\n",
       "    <tr>\n",
       "      <th>...</th>\n",
       "      <td>...</td>\n",
       "    </tr>\n",
       "    <tr>\n",
       "      <th>say</th>\n",
       "      <td>0.001409</td>\n",
       "    </tr>\n",
       "    <tr>\n",
       "      <th>sec</th>\n",
       "      <td>0.001395</td>\n",
       "    </tr>\n",
       "    <tr>\n",
       "      <th>wildfires</th>\n",
       "      <td>0.001370</td>\n",
       "    </tr>\n",
       "    <tr>\n",
       "      <th>media</th>\n",
       "      <td>0.001363</td>\n",
       "    </tr>\n",
       "    <tr>\n",
       "      <th>utah</th>\n",
       "      <td>0.001327</td>\n",
       "    </tr>\n",
       "    <tr>\n",
       "      <th>right</th>\n",
       "      <td>0.001324</td>\n",
       "    </tr>\n",
       "    <tr>\n",
       "      <th>man</th>\n",
       "      <td>0.001317</td>\n",
       "    </tr>\n",
       "    <tr>\n",
       "      <th>become</th>\n",
       "      <td>0.001296</td>\n",
       "    </tr>\n",
       "    <tr>\n",
       "      <th>gop</th>\n",
       "      <td>0.001278</td>\n",
       "    </tr>\n",
       "    <tr>\n",
       "      <th>american</th>\n",
       "      <td>0.001277</td>\n",
       "    </tr>\n",
       "    <tr>\n",
       "      <th>perspective</th>\n",
       "      <td>0.001277</td>\n",
       "    </tr>\n",
       "    <tr>\n",
       "      <th>sen</th>\n",
       "      <td>0.001262</td>\n",
       "    </tr>\n",
       "    <tr>\n",
       "      <th>ice</th>\n",
       "      <td>0.001258</td>\n",
       "    </tr>\n",
       "    <tr>\n",
       "      <th>australia</th>\n",
       "      <td>0.001251</td>\n",
       "    </tr>\n",
       "    <tr>\n",
       "      <th>police</th>\n",
       "      <td>0.001228</td>\n",
       "    </tr>\n",
       "    <tr>\n",
       "      <th>think</th>\n",
       "      <td>0.001224</td>\n",
       "    </tr>\n",
       "    <tr>\n",
       "      <th>questions</th>\n",
       "      <td>0.001207</td>\n",
       "    </tr>\n",
       "    <tr>\n",
       "      <th>amid</th>\n",
       "      <td>0.001205</td>\n",
       "    </tr>\n",
       "    <tr>\n",
       "      <th>social</th>\n",
       "      <td>0.001197</td>\n",
       "    </tr>\n",
       "    <tr>\n",
       "      <th>good</th>\n",
       "      <td>0.001196</td>\n",
       "    </tr>\n",
       "    <tr>\n",
       "      <th>thousands</th>\n",
       "      <td>0.001195</td>\n",
       "    </tr>\n",
       "    <tr>\n",
       "      <th>accused</th>\n",
       "      <td>0.001193</td>\n",
       "    </tr>\n",
       "    <tr>\n",
       "      <th>tree</th>\n",
       "      <td>0.001192</td>\n",
       "    </tr>\n",
       "    <tr>\n",
       "      <th>congress</th>\n",
       "      <td>0.001179</td>\n",
       "    </tr>\n",
       "    <tr>\n",
       "      <th>jerusalem</th>\n",
       "      <td>0.001173</td>\n",
       "    </tr>\n",
       "    <tr>\n",
       "      <th>years</th>\n",
       "      <td>0.001172</td>\n",
       "    </tr>\n",
       "    <tr>\n",
       "      <th>mueller</th>\n",
       "      <td>0.001157</td>\n",
       "    </tr>\n",
       "    <tr>\n",
       "      <th>year</th>\n",
       "      <td>0.001152</td>\n",
       "    </tr>\n",
       "    <tr>\n",
       "      <th>review</th>\n",
       "      <td>0.001150</td>\n",
       "    </tr>\n",
       "    <tr>\n",
       "      <th>election</th>\n",
       "      <td>0.001140</td>\n",
       "    </tr>\n",
       "  </tbody>\n",
       "</table>\n",
       "<p>100 rows × 1 columns</p>\n",
       "</div>"
      ],
      "text/plain": [
       "                 Coeffs\n",
       "may            0.007117\n",
       "job            0.006210\n",
       "trump          0.005640\n",
       "public         0.004679\n",
       "mnpr           0.004454\n",
       "seeks          0.004301\n",
       "via            0.004171\n",
       "blog           0.004132\n",
       "president      0.004078\n",
       "daily          0.004029\n",
       "new            0.003183\n",
       "tonight        0.002980\n",
       "stormwatchon2  0.002967\n",
       "thanks         0.002789\n",
       "opinion        0.002772\n",
       "two            0.002770\n",
       "us             0.002700\n",
       "latest         0.002675\n",
       "live           0.002593\n",
       "relations      0.002574\n",
       "one            0.002491\n",
       "says           0.002392\n",
       "north          0.002391\n",
       "cbs            0.002384\n",
       "amp            0.002377\n",
       "ryan           0.002375\n",
       "analysis       0.002330\n",
       "sexual         0.002271\n",
       "specialist     0.002217\n",
       "get            0.002141\n",
       "...                 ...\n",
       "say            0.001409\n",
       "sec            0.001395\n",
       "wildfires      0.001370\n",
       "media          0.001363\n",
       "utah           0.001327\n",
       "right          0.001324\n",
       "man            0.001317\n",
       "become         0.001296\n",
       "gop            0.001278\n",
       "american       0.001277\n",
       "perspective    0.001277\n",
       "sen            0.001262\n",
       "ice            0.001258\n",
       "australia      0.001251\n",
       "police         0.001228\n",
       "think          0.001224\n",
       "questions      0.001207\n",
       "amid           0.001205\n",
       "social         0.001197\n",
       "good           0.001196\n",
       "thousands      0.001195\n",
       "accused        0.001193\n",
       "tree           0.001192\n",
       "congress       0.001179\n",
       "jerusalem      0.001173\n",
       "years          0.001172\n",
       "mueller        0.001157\n",
       "year           0.001152\n",
       "review         0.001150\n",
       "election       0.001140\n",
       "\n",
       "[100 rows x 1 columns]"
      ]
     },
     "execution_count": 198,
     "metadata": {},
     "output_type": "execute_result"
    }
   ],
   "source": [
    "# MOST PREDICTIVE WORDS USING ngram 1,1\n",
    "X_train,X_test, y_train,y_test = train_test_split(X, y,random_state=2017)\n",
    "tfidf = TfidfVectorizer(ngram_range=(1,1))\n",
    "\n",
    "X_train1 = tfidf.fit_transform(X_train)\n",
    "X_test1 = tfidf.transform(X_test)\n",
    "\n",
    "rf = RandomForestClassifier()\n",
    "rf.fit(X_train1,y_train)\n",
    "\n",
    "df_X_train1 = pd.DataFrame(X_train1.todense(), columns=tfidf.get_feature_names())\n",
    "\n",
    "#MOST PREDICTIVE WORDS\n",
    "coes1 = pd.DataFrame(rf.feature_importances_, index =df_X_train1.columns,columns=['Coeffs'])\n",
    "\n",
    "word_ind1 = coes1.sort_values('Coeffs', ascending=False)[:100]\n",
    "word_ind1"
   ]
  },
  {
   "cell_type": "markdown",
   "metadata": {},
   "source": [
    "### finding the most predictive words using ngram_range 1,2"
   ]
  },
  {
   "cell_type": "code",
   "execution_count": 191,
   "metadata": {
    "scrolled": true
   },
   "outputs": [
    {
     "data": {
      "text/html": [
       "<div>\n",
       "<style>\n",
       "    .dataframe thead tr:only-child th {\n",
       "        text-align: right;\n",
       "    }\n",
       "\n",
       "    .dataframe thead th {\n",
       "        text-align: left;\n",
       "    }\n",
       "\n",
       "    .dataframe tbody tr th {\n",
       "        vertical-align: top;\n",
       "    }\n",
       "</style>\n",
       "<table border=\"1\" class=\"dataframe\">\n",
       "  <thead>\n",
       "    <tr style=\"text-align: right;\">\n",
       "      <th></th>\n",
       "      <th>Coeffs</th>\n",
       "    </tr>\n",
       "  </thead>\n",
       "  <tbody>\n",
       "    <tr>\n",
       "      <th>job</th>\n",
       "      <td>0.007026</td>\n",
       "    </tr>\n",
       "    <tr>\n",
       "      <th>via minnesota</th>\n",
       "      <td>0.005278</td>\n",
       "    </tr>\n",
       "    <tr>\n",
       "      <th>via</th>\n",
       "      <td>0.004624</td>\n",
       "    </tr>\n",
       "    <tr>\n",
       "      <th>latest</th>\n",
       "      <td>0.004245</td>\n",
       "    </tr>\n",
       "    <tr>\n",
       "      <th>mnpr</th>\n",
       "      <td>0.003966</td>\n",
       "    </tr>\n",
       "    <tr>\n",
       "      <th>may</th>\n",
       "      <td>0.003407</td>\n",
       "    </tr>\n",
       "    <tr>\n",
       "      <th>trump</th>\n",
       "      <td>0.003404</td>\n",
       "    </tr>\n",
       "    <tr>\n",
       "      <th>tonight</th>\n",
       "      <td>0.002851</td>\n",
       "    </tr>\n",
       "    <tr>\n",
       "      <th>mnpr ryan</th>\n",
       "      <td>0.002642</td>\n",
       "    </tr>\n",
       "    <tr>\n",
       "      <th>alabama</th>\n",
       "      <td>0.002212</td>\n",
       "    </tr>\n",
       "    <tr>\n",
       "      <th>amp</th>\n",
       "      <td>0.002173</td>\n",
       "    </tr>\n",
       "    <tr>\n",
       "      <th>one</th>\n",
       "      <td>0.002170</td>\n",
       "    </tr>\n",
       "    <tr>\n",
       "      <th>president</th>\n",
       "      <td>0.002117</td>\n",
       "    </tr>\n",
       "    <tr>\n",
       "      <th>new</th>\n",
       "      <td>0.001990</td>\n",
       "    </tr>\n",
       "    <tr>\n",
       "      <th>watch</th>\n",
       "      <td>0.001935</td>\n",
       "    </tr>\n",
       "    <tr>\n",
       "      <th>says</th>\n",
       "      <td>0.001901</td>\n",
       "    </tr>\n",
       "    <tr>\n",
       "      <th>public</th>\n",
       "      <td>0.001869</td>\n",
       "    </tr>\n",
       "    <tr>\n",
       "      <th>opinion</th>\n",
       "      <td>0.001862</td>\n",
       "    </tr>\n",
       "    <tr>\n",
       "      <th>seeks hire</th>\n",
       "      <td>0.001808</td>\n",
       "    </tr>\n",
       "    <tr>\n",
       "      <th>two</th>\n",
       "      <td>0.001801</td>\n",
       "    </tr>\n",
       "    <tr>\n",
       "      <th>working</th>\n",
       "      <td>0.001717</td>\n",
       "    </tr>\n",
       "    <tr>\n",
       "      <th>take</th>\n",
       "      <td>0.001585</td>\n",
       "    </tr>\n",
       "    <tr>\n",
       "      <th>moore</th>\n",
       "      <td>0.001574</td>\n",
       "    </tr>\n",
       "    <tr>\n",
       "      <th>john</th>\n",
       "      <td>0.001566</td>\n",
       "    </tr>\n",
       "    <tr>\n",
       "      <th>matt</th>\n",
       "      <td>0.001528</td>\n",
       "    </tr>\n",
       "    <tr>\n",
       "      <th>mn</th>\n",
       "      <td>0.001521</td>\n",
       "    </tr>\n",
       "    <tr>\n",
       "      <th>may daily</th>\n",
       "      <td>0.001521</td>\n",
       "    </tr>\n",
       "    <tr>\n",
       "      <th>us</th>\n",
       "      <td>0.001519</td>\n",
       "    </tr>\n",
       "    <tr>\n",
       "      <th>social</th>\n",
       "      <td>0.001518</td>\n",
       "    </tr>\n",
       "    <tr>\n",
       "      <th>week</th>\n",
       "      <td>0.001453</td>\n",
       "    </tr>\n",
       "    <tr>\n",
       "      <th>...</th>\n",
       "      <td>...</td>\n",
       "    </tr>\n",
       "    <tr>\n",
       "      <th>officer</th>\n",
       "      <td>0.000984</td>\n",
       "    </tr>\n",
       "    <tr>\n",
       "      <th>make</th>\n",
       "      <td>0.000982</td>\n",
       "    </tr>\n",
       "    <tr>\n",
       "      <th>get</th>\n",
       "      <td>0.000967</td>\n",
       "    </tr>\n",
       "    <tr>\n",
       "      <th>could</th>\n",
       "      <td>0.000965</td>\n",
       "    </tr>\n",
       "    <tr>\n",
       "      <th>im</th>\n",
       "      <td>0.000961</td>\n",
       "    </tr>\n",
       "    <tr>\n",
       "      <th>blog</th>\n",
       "      <td>0.000958</td>\n",
       "    </tr>\n",
       "    <tr>\n",
       "      <th>wildfires</th>\n",
       "      <td>0.000958</td>\n",
       "    </tr>\n",
       "    <tr>\n",
       "      <th>need</th>\n",
       "      <td>0.000954</td>\n",
       "    </tr>\n",
       "    <tr>\n",
       "      <th>weather</th>\n",
       "      <td>0.000948</td>\n",
       "    </tr>\n",
       "    <tr>\n",
       "      <th>first</th>\n",
       "      <td>0.000938</td>\n",
       "    </tr>\n",
       "    <tr>\n",
       "      <th>resign</th>\n",
       "      <td>0.000927</td>\n",
       "    </tr>\n",
       "    <tr>\n",
       "      <th>women</th>\n",
       "      <td>0.000918</td>\n",
       "    </tr>\n",
       "    <tr>\n",
       "      <th>getting</th>\n",
       "      <td>0.000914</td>\n",
       "    </tr>\n",
       "    <tr>\n",
       "      <th>gop</th>\n",
       "      <td>0.000903</td>\n",
       "    </tr>\n",
       "    <tr>\n",
       "      <th>pres trump</th>\n",
       "      <td>0.000903</td>\n",
       "    </tr>\n",
       "    <tr>\n",
       "      <th>students</th>\n",
       "      <td>0.000897</td>\n",
       "    </tr>\n",
       "    <tr>\n",
       "      <th>communications</th>\n",
       "      <td>0.000886</td>\n",
       "    </tr>\n",
       "    <tr>\n",
       "      <th>end</th>\n",
       "      <td>0.000873</td>\n",
       "    </tr>\n",
       "    <tr>\n",
       "      <th>misconduct</th>\n",
       "      <td>0.000869</td>\n",
       "    </tr>\n",
       "    <tr>\n",
       "      <th>et</th>\n",
       "      <td>0.000868</td>\n",
       "    </tr>\n",
       "    <tr>\n",
       "      <th>matt lauer</th>\n",
       "      <td>0.000867</td>\n",
       "    </tr>\n",
       "    <tr>\n",
       "      <th>markle</th>\n",
       "      <td>0.000861</td>\n",
       "    </tr>\n",
       "    <tr>\n",
       "      <th>hes</th>\n",
       "      <td>0.000860</td>\n",
       "    </tr>\n",
       "    <tr>\n",
       "      <th>even</th>\n",
       "      <td>0.000860</td>\n",
       "    </tr>\n",
       "    <tr>\n",
       "      <th>seeks</th>\n",
       "      <td>0.000857</td>\n",
       "    </tr>\n",
       "    <tr>\n",
       "      <th>sen</th>\n",
       "      <td>0.000855</td>\n",
       "    </tr>\n",
       "    <tr>\n",
       "      <th>bill</th>\n",
       "      <td>0.000854</td>\n",
       "    </tr>\n",
       "    <tr>\n",
       "      <th>intern</th>\n",
       "      <td>0.000853</td>\n",
       "    </tr>\n",
       "    <tr>\n",
       "      <th>dont</th>\n",
       "      <td>0.000853</td>\n",
       "    </tr>\n",
       "    <tr>\n",
       "      <th>look</th>\n",
       "      <td>0.000845</td>\n",
       "    </tr>\n",
       "  </tbody>\n",
       "</table>\n",
       "<p>100 rows × 1 columns</p>\n",
       "</div>"
      ],
      "text/plain": [
       "                  Coeffs\n",
       "job             0.007026\n",
       "via minnesota   0.005278\n",
       "via             0.004624\n",
       "latest          0.004245\n",
       "mnpr            0.003966\n",
       "may             0.003407\n",
       "trump           0.003404\n",
       "tonight         0.002851\n",
       "mnpr ryan       0.002642\n",
       "alabama         0.002212\n",
       "amp             0.002173\n",
       "one             0.002170\n",
       "president       0.002117\n",
       "new             0.001990\n",
       "watch           0.001935\n",
       "says            0.001901\n",
       "public          0.001869\n",
       "opinion         0.001862\n",
       "seeks hire      0.001808\n",
       "two             0.001801\n",
       "working         0.001717\n",
       "take            0.001585\n",
       "moore           0.001574\n",
       "john            0.001566\n",
       "matt            0.001528\n",
       "mn              0.001521\n",
       "may daily       0.001521\n",
       "us              0.001519\n",
       "social          0.001518\n",
       "week            0.001453\n",
       "...                  ...\n",
       "officer         0.000984\n",
       "make            0.000982\n",
       "get             0.000967\n",
       "could           0.000965\n",
       "im              0.000961\n",
       "blog            0.000958\n",
       "wildfires       0.000958\n",
       "need            0.000954\n",
       "weather         0.000948\n",
       "first           0.000938\n",
       "resign          0.000927\n",
       "women           0.000918\n",
       "getting         0.000914\n",
       "gop             0.000903\n",
       "pres trump      0.000903\n",
       "students        0.000897\n",
       "communications  0.000886\n",
       "end             0.000873\n",
       "misconduct      0.000869\n",
       "et              0.000868\n",
       "matt lauer      0.000867\n",
       "markle          0.000861\n",
       "hes             0.000860\n",
       "even            0.000860\n",
       "seeks           0.000857\n",
       "sen             0.000855\n",
       "bill            0.000854\n",
       "intern          0.000853\n",
       "dont            0.000853\n",
       "look            0.000845\n",
       "\n",
       "[100 rows x 1 columns]"
      ]
     },
     "execution_count": 191,
     "metadata": {},
     "output_type": "execute_result"
    }
   ],
   "source": [
    "# MOST PREDICTIVE WORDS USING ngram 1,2\n",
    "X_train,X_test, y_train,y_test = train_test_split(X, y,random_state=2017)\n",
    "tfidf2 = TfidfVectorizer(ngram_range=(1,2))\n",
    "\n",
    "X_train2 = tfidf2.fit_transform(X_train)\n",
    "X_test2 = tfidf2.transform(X_test)\n",
    "\n",
    "rf2 = RandomForestClassifier()\n",
    "rf2.fit(X_train2,y_train)\n",
    "\n",
    "df_X_train2 = pd.DataFrame(X_train2.todense(), columns=tfidf2.get_feature_names())\n",
    "\n",
    "#MOST PREDICTIVE WORDS\n",
    "coes2 = pd.DataFrame(rf2.feature_importances_, index =df_X_train2.columns,columns=['Coeffs'])\n",
    "\n",
    "word_ind2 = coes2.sort_values('Coeffs', ascending=False)[:100]\n",
    "word_ind2"
   ]
  },
  {
   "cell_type": "code",
   "execution_count": null,
   "metadata": {
    "collapsed": true
   },
   "outputs": [],
   "source": [
    "# Model evaluation using ngram = 1,2"
   ]
  },
  {
   "cell_type": "code",
   "execution_count": 192,
   "metadata": {},
   "outputs": [
    {
     "name": "stdout",
     "output_type": "stream",
     "text": [
      "0.446516730664\n",
      "             precision    recall  f1-score   support\n",
      "\n",
      "          1       0.36      0.48      0.42       537\n",
      "          2       0.44      0.43      0.43       608\n",
      "          3       0.57      0.44      0.49       678\n",
      "\n",
      "avg / total       0.47      0.45      0.45      1823\n",
      "\n",
      "     1    2    3\n",
      "1  260  175  102\n",
      "2  230  259  119\n",
      "3  224  159  295\n"
     ]
    }
   ],
   "source": [
    "ypreds = rf2.predict(X_test2)\n",
    "conmat_1 = confusion_matrix(y_test, ypreds, labels=rf2.classes_)\n",
    "conmat_1 = pd.DataFrame(conmat_1, columns=rf2.classes_, index=rf2.classes_)\n",
    "print(accuracy_score(y_test,ypreds))\n",
    "print(classification_report(y_test,ypreds))\n",
    "print( conmat_1)"
   ]
  },
  {
   "cell_type": "code",
   "execution_count": 202,
   "metadata": {},
   "outputs": [
    {
     "data": {
      "text/html": [
       "<div>\n",
       "<style>\n",
       "    .dataframe thead tr:only-child th {\n",
       "        text-align: right;\n",
       "    }\n",
       "\n",
       "    .dataframe thead th {\n",
       "        text-align: left;\n",
       "    }\n",
       "\n",
       "    .dataframe tbody tr th {\n",
       "        vertical-align: top;\n",
       "    }\n",
       "</style>\n",
       "<table border=\"1\" class=\"dataframe\">\n",
       "  <thead>\n",
       "    <tr style=\"text-align: right;\">\n",
       "      <th></th>\n",
       "      <th>Coeffs</th>\n",
       "    </tr>\n",
       "  </thead>\n",
       "  <tbody>\n",
       "    <tr>\n",
       "      <th>daily</th>\n",
       "      <td>0.039093</td>\n",
       "    </tr>\n",
       "    <tr>\n",
       "      <th>latest</th>\n",
       "      <td>0.024810</td>\n",
       "    </tr>\n",
       "    <tr>\n",
       "      <th>ryan may</th>\n",
       "      <td>0.021310</td>\n",
       "    </tr>\n",
       "    <tr>\n",
       "      <th>daily thanks</th>\n",
       "      <td>0.018955</td>\n",
       "    </tr>\n",
       "    <tr>\n",
       "      <th>thanks</th>\n",
       "      <td>0.015283</td>\n",
       "    </tr>\n",
       "    <tr>\n",
       "      <th>via minnesota</th>\n",
       "      <td>0.014900</td>\n",
       "    </tr>\n",
       "    <tr>\n",
       "      <th>sarah</th>\n",
       "      <td>0.013858</td>\n",
       "    </tr>\n",
       "    <tr>\n",
       "      <th>public relations</th>\n",
       "      <td>0.013700</td>\n",
       "    </tr>\n",
       "    <tr>\n",
       "      <th>blog</th>\n",
       "      <td>0.012993</td>\n",
       "    </tr>\n",
       "    <tr>\n",
       "      <th>job</th>\n",
       "      <td>0.012883</td>\n",
       "    </tr>\n",
       "    <tr>\n",
       "      <th>via</th>\n",
       "      <td>0.011845</td>\n",
       "    </tr>\n",
       "    <tr>\n",
       "      <th>marketing</th>\n",
       "      <td>0.009607</td>\n",
       "    </tr>\n",
       "    <tr>\n",
       "      <th>port</th>\n",
       "      <td>0.007762</td>\n",
       "    </tr>\n",
       "    <tr>\n",
       "      <th>seeks hire</th>\n",
       "      <td>0.007684</td>\n",
       "    </tr>\n",
       "    <tr>\n",
       "      <th>travel</th>\n",
       "      <td>0.007634</td>\n",
       "    </tr>\n",
       "    <tr>\n",
       "      <th>minnesota</th>\n",
       "      <td>0.007520</td>\n",
       "    </tr>\n",
       "    <tr>\n",
       "      <th>latest mnpr</th>\n",
       "      <td>0.007514</td>\n",
       "    </tr>\n",
       "    <tr>\n",
       "      <th>opinion</th>\n",
       "      <td>0.007405</td>\n",
       "    </tr>\n",
       "    <tr>\n",
       "      <th>mnpr</th>\n",
       "      <td>0.007381</td>\n",
       "    </tr>\n",
       "    <tr>\n",
       "      <th>mnpr ryan</th>\n",
       "      <td>0.007156</td>\n",
       "    </tr>\n",
       "    <tr>\n",
       "      <th>inc</th>\n",
       "      <td>0.007099</td>\n",
       "    </tr>\n",
       "    <tr>\n",
       "      <th>seeks</th>\n",
       "      <td>0.007073</td>\n",
       "    </tr>\n",
       "    <tr>\n",
       "      <th>tonight</th>\n",
       "      <td>0.007044</td>\n",
       "    </tr>\n",
       "    <tr>\n",
       "      <th>miss</th>\n",
       "      <td>0.006504</td>\n",
       "    </tr>\n",
       "    <tr>\n",
       "      <th>public</th>\n",
       "      <td>0.006419</td>\n",
       "    </tr>\n",
       "    <tr>\n",
       "      <th>ryan</th>\n",
       "      <td>0.006414</td>\n",
       "    </tr>\n",
       "    <tr>\n",
       "      <th>minnesota public</th>\n",
       "      <td>0.006248</td>\n",
       "    </tr>\n",
       "    <tr>\n",
       "      <th>hire</th>\n",
       "      <td>0.006067</td>\n",
       "    </tr>\n",
       "    <tr>\n",
       "      <th>mns seeks</th>\n",
       "      <td>0.005810</td>\n",
       "    </tr>\n",
       "    <tr>\n",
       "      <th>kate</th>\n",
       "      <td>0.005542</td>\n",
       "    </tr>\n",
       "    <tr>\n",
       "      <th>...</th>\n",
       "      <td>...</td>\n",
       "    </tr>\n",
       "    <tr>\n",
       "      <th>house press</th>\n",
       "      <td>0.003020</td>\n",
       "    </tr>\n",
       "    <tr>\n",
       "      <th>wintry</th>\n",
       "      <td>0.002962</td>\n",
       "    </tr>\n",
       "    <tr>\n",
       "      <th>allegations</th>\n",
       "      <td>0.002946</td>\n",
       "    </tr>\n",
       "    <tr>\n",
       "      <th>closed due</th>\n",
       "      <td>0.002923</td>\n",
       "    </tr>\n",
       "    <tr>\n",
       "      <th>manager via</th>\n",
       "      <td>0.002899</td>\n",
       "    </tr>\n",
       "    <tr>\n",
       "      <th>pres</th>\n",
       "      <td>0.002859</td>\n",
       "    </tr>\n",
       "    <tr>\n",
       "      <th>next</th>\n",
       "      <td>0.002787</td>\n",
       "    </tr>\n",
       "    <tr>\n",
       "      <th>skycopter</th>\n",
       "      <td>0.002775</td>\n",
       "    </tr>\n",
       "    <tr>\n",
       "      <th>born</th>\n",
       "      <td>0.002684</td>\n",
       "    </tr>\n",
       "    <tr>\n",
       "      <th>modern</th>\n",
       "      <td>0.002664</td>\n",
       "    </tr>\n",
       "    <tr>\n",
       "      <th>expected</th>\n",
       "      <td>0.002629</td>\n",
       "    </tr>\n",
       "    <tr>\n",
       "      <th>weather live</th>\n",
       "      <td>0.002584</td>\n",
       "    </tr>\n",
       "    <tr>\n",
       "      <th>plan</th>\n",
       "      <td>0.002578</td>\n",
       "    </tr>\n",
       "    <tr>\n",
       "      <th>pearl harbor</th>\n",
       "      <td>0.002529</td>\n",
       "    </tr>\n",
       "    <tr>\n",
       "      <th>second</th>\n",
       "      <td>0.002526</td>\n",
       "    </tr>\n",
       "    <tr>\n",
       "      <th>schools closed</th>\n",
       "      <td>0.002526</td>\n",
       "    </tr>\n",
       "    <tr>\n",
       "      <th>video</th>\n",
       "      <td>0.002522</td>\n",
       "    </tr>\n",
       "    <tr>\n",
       "      <th>two</th>\n",
       "      <td>0.002521</td>\n",
       "    </tr>\n",
       "    <tr>\n",
       "      <th>mtp</th>\n",
       "      <td>0.002473</td>\n",
       "    </tr>\n",
       "    <tr>\n",
       "      <th>cargill</th>\n",
       "      <td>0.002435</td>\n",
       "    </tr>\n",
       "    <tr>\n",
       "      <th>north georgia</th>\n",
       "      <td>0.002431</td>\n",
       "    </tr>\n",
       "    <tr>\n",
       "      <th>disney</th>\n",
       "      <td>0.002418</td>\n",
       "    </tr>\n",
       "    <tr>\n",
       "      <th>sandy</th>\n",
       "      <td>0.002415</td>\n",
       "    </tr>\n",
       "    <tr>\n",
       "      <th>golden</th>\n",
       "      <td>0.002385</td>\n",
       "    </tr>\n",
       "    <tr>\n",
       "      <th>mn</th>\n",
       "      <td>0.002360</td>\n",
       "    </tr>\n",
       "    <tr>\n",
       "      <th>intern via</th>\n",
       "      <td>0.002356</td>\n",
       "    </tr>\n",
       "    <tr>\n",
       "      <th>season premiere</th>\n",
       "      <td>0.002347</td>\n",
       "    </tr>\n",
       "    <tr>\n",
       "      <th>minnesota mnpr</th>\n",
       "      <td>0.002345</td>\n",
       "    </tr>\n",
       "    <tr>\n",
       "      <th>terminal</th>\n",
       "      <td>0.002342</td>\n",
       "    </tr>\n",
       "    <tr>\n",
       "      <th>several</th>\n",
       "      <td>0.002323</td>\n",
       "    </tr>\n",
       "  </tbody>\n",
       "</table>\n",
       "<p>100 rows × 1 columns</p>\n",
       "</div>"
      ],
      "text/plain": [
       "                    Coeffs\n",
       "daily             0.039093\n",
       "latest            0.024810\n",
       "ryan may          0.021310\n",
       "daily thanks      0.018955\n",
       "thanks            0.015283\n",
       "via minnesota     0.014900\n",
       "sarah             0.013858\n",
       "public relations  0.013700\n",
       "blog              0.012993\n",
       "job               0.012883\n",
       "via               0.011845\n",
       "marketing         0.009607\n",
       "port              0.007762\n",
       "seeks hire        0.007684\n",
       "travel            0.007634\n",
       "minnesota         0.007520\n",
       "latest mnpr       0.007514\n",
       "opinion           0.007405\n",
       "mnpr              0.007381\n",
       "mnpr ryan         0.007156\n",
       "inc               0.007099\n",
       "seeks             0.007073\n",
       "tonight           0.007044\n",
       "miss              0.006504\n",
       "public            0.006419\n",
       "ryan              0.006414\n",
       "minnesota public  0.006248\n",
       "hire              0.006067\n",
       "mns seeks         0.005810\n",
       "kate              0.005542\n",
       "...                    ...\n",
       "house press       0.003020\n",
       "wintry            0.002962\n",
       "allegations       0.002946\n",
       "closed due        0.002923\n",
       "manager via       0.002899\n",
       "pres              0.002859\n",
       "next              0.002787\n",
       "skycopter         0.002775\n",
       "born              0.002684\n",
       "modern            0.002664\n",
       "expected          0.002629\n",
       "weather live      0.002584\n",
       "plan              0.002578\n",
       "pearl harbor      0.002529\n",
       "second            0.002526\n",
       "schools closed    0.002526\n",
       "video             0.002522\n",
       "two               0.002521\n",
       "mtp               0.002473\n",
       "cargill           0.002435\n",
       "north georgia     0.002431\n",
       "disney            0.002418\n",
       "sandy             0.002415\n",
       "golden            0.002385\n",
       "mn                0.002360\n",
       "intern via        0.002356\n",
       "season premiere   0.002347\n",
       "minnesota mnpr    0.002345\n",
       "terminal          0.002342\n",
       "several           0.002323\n",
       "\n",
       "[100 rows x 1 columns]"
      ]
     },
     "execution_count": 202,
     "metadata": {},
     "output_type": "execute_result"
    }
   ],
   "source": [
    "# MOST PREDICTIVE WORDS USING ngram 1,2\n",
    "X_train,X_test, y_train,y_test = train_test_split(X, y,random_state=2017)\n",
    "tfidf2 = TfidfVectorizer(ngram_range=(1,2))\n",
    "\n",
    "X_train2 = tfidf2.fit_transform(X_train)\n",
    "X_test2 = tfidf2.transform(X_test)\n",
    "\n",
    "rf2 = RandomForestClassifier(n_estimators=100, max_depth=5)\n",
    "rf2.fit(X_train2,y_train)\n",
    "\n",
    "df_X_train2 = pd.DataFrame(X_train2.todense(), columns=tfidf2.get_feature_names())\n",
    "\n",
    "#MOST PREDICTIVE WORDS\n",
    "coes2 = pd.DataFrame(rf2.feature_importances_, index =df_X_train2.columns,columns=['Coeffs'])\n",
    "\n",
    "word_ind2 = coes2.sort_values('Coeffs', ascending=False)[:100]\n",
    "word_ind2"
   ]
  },
  {
   "cell_type": "code",
   "execution_count": null,
   "metadata": {
    "collapsed": true
   },
   "outputs": [],
   "source": []
  },
  {
   "cell_type": "code",
   "execution_count": null,
   "metadata": {
    "collapsed": true
   },
   "outputs": [],
   "source": []
  },
  {
   "cell_type": "markdown",
   "metadata": {},
   "source": [
    "### finding the most predictive words using ngram_range 2,2"
   ]
  },
  {
   "cell_type": "code",
   "execution_count": 194,
   "metadata": {},
   "outputs": [
    {
     "data": {
      "text/html": [
       "<div>\n",
       "<style>\n",
       "    .dataframe thead tr:only-child th {\n",
       "        text-align: right;\n",
       "    }\n",
       "\n",
       "    .dataframe thead th {\n",
       "        text-align: left;\n",
       "    }\n",
       "\n",
       "    .dataframe tbody tr th {\n",
       "        vertical-align: top;\n",
       "    }\n",
       "</style>\n",
       "<table border=\"1\" class=\"dataframe\">\n",
       "  <thead>\n",
       "    <tr style=\"text-align: right;\">\n",
       "      <th></th>\n",
       "      <th>Coeffs</th>\n",
       "    </tr>\n",
       "  </thead>\n",
       "  <tbody>\n",
       "    <tr>\n",
       "      <th>public relations</th>\n",
       "      <td>0.004750</td>\n",
       "    </tr>\n",
       "    <tr>\n",
       "      <th>latest mnpr</th>\n",
       "      <td>0.004118</td>\n",
       "    </tr>\n",
       "    <tr>\n",
       "      <th>president trump</th>\n",
       "      <td>0.004072</td>\n",
       "    </tr>\n",
       "    <tr>\n",
       "      <th>via minnesota</th>\n",
       "      <td>0.003975</td>\n",
       "    </tr>\n",
       "    <tr>\n",
       "      <th>seeks hire</th>\n",
       "      <td>0.003935</td>\n",
       "    </tr>\n",
       "    <tr>\n",
       "      <th>relations blog</th>\n",
       "      <td>0.003407</td>\n",
       "    </tr>\n",
       "    <tr>\n",
       "      <th>ryan may</th>\n",
       "      <td>0.003100</td>\n",
       "    </tr>\n",
       "    <tr>\n",
       "      <th>minnesota public</th>\n",
       "      <td>0.003083</td>\n",
       "    </tr>\n",
       "    <tr>\n",
       "      <th>mnpr ryan</th>\n",
       "      <td>0.002767</td>\n",
       "    </tr>\n",
       "    <tr>\n",
       "      <th>may daily</th>\n",
       "      <td>0.002657</td>\n",
       "    </tr>\n",
       "    <tr>\n",
       "      <th>sexual harassment</th>\n",
       "      <td>0.002577</td>\n",
       "    </tr>\n",
       "    <tr>\n",
       "      <th>sneak peek</th>\n",
       "      <td>0.002184</td>\n",
       "    </tr>\n",
       "    <tr>\n",
       "      <th>roy moore</th>\n",
       "      <td>0.002165</td>\n",
       "    </tr>\n",
       "    <tr>\n",
       "      <th>public mnpr</th>\n",
       "      <td>0.001858</td>\n",
       "    </tr>\n",
       "    <tr>\n",
       "      <th>matt lauer</th>\n",
       "      <td>0.001788</td>\n",
       "    </tr>\n",
       "    <tr>\n",
       "      <th>st paul</th>\n",
       "      <td>0.001736</td>\n",
       "    </tr>\n",
       "    <tr>\n",
       "      <th>relations mnpr</th>\n",
       "      <td>0.001693</td>\n",
       "    </tr>\n",
       "    <tr>\n",
       "      <th>dont miss</th>\n",
       "      <td>0.001610</td>\n",
       "    </tr>\n",
       "    <tr>\n",
       "      <th>white house</th>\n",
       "      <td>0.001580</td>\n",
       "    </tr>\n",
       "    <tr>\n",
       "      <th>social media</th>\n",
       "      <td>0.001483</td>\n",
       "    </tr>\n",
       "    <tr>\n",
       "      <th>christmas tree</th>\n",
       "      <td>0.001439</td>\n",
       "    </tr>\n",
       "    <tr>\n",
       "      <th>minnesota mnpr</th>\n",
       "      <td>0.001412</td>\n",
       "    </tr>\n",
       "    <tr>\n",
       "      <th>doug jones</th>\n",
       "      <td>0.001412</td>\n",
       "    </tr>\n",
       "    <tr>\n",
       "      <th>daily thanks</th>\n",
       "      <td>0.001292</td>\n",
       "    </tr>\n",
       "    <tr>\n",
       "      <th>california wildfires</th>\n",
       "      <td>0.001234</td>\n",
       "    </tr>\n",
       "    <tr>\n",
       "      <th>skycopter captncam</th>\n",
       "      <td>0.001223</td>\n",
       "    </tr>\n",
       "    <tr>\n",
       "      <th>port authority</th>\n",
       "      <td>0.001205</td>\n",
       "    </tr>\n",
       "    <tr>\n",
       "      <th>via mnpr</th>\n",
       "      <td>0.001193</td>\n",
       "    </tr>\n",
       "    <tr>\n",
       "      <th>president trumps</th>\n",
       "      <td>0.001187</td>\n",
       "    </tr>\n",
       "    <tr>\n",
       "      <th>donald trump</th>\n",
       "      <td>0.001161</td>\n",
       "    </tr>\n",
       "    <tr>\n",
       "      <th>...</th>\n",
       "      <td>...</td>\n",
       "    </tr>\n",
       "    <tr>\n",
       "      <th>press sec</th>\n",
       "      <td>0.000681</td>\n",
       "    </tr>\n",
       "    <tr>\n",
       "      <th>pearl harbor</th>\n",
       "      <td>0.000680</td>\n",
       "    </tr>\n",
       "    <tr>\n",
       "      <th>century fox</th>\n",
       "      <td>0.000679</td>\n",
       "    </tr>\n",
       "    <tr>\n",
       "      <th>fake news</th>\n",
       "      <td>0.000675</td>\n",
       "    </tr>\n",
       "    <tr>\n",
       "      <th>friday night</th>\n",
       "      <td>0.000671</td>\n",
       "    </tr>\n",
       "    <tr>\n",
       "      <th>dead inside</th>\n",
       "      <td>0.000642</td>\n",
       "    </tr>\n",
       "    <tr>\n",
       "      <th>charles manson</th>\n",
       "      <td>0.000637</td>\n",
       "    </tr>\n",
       "    <tr>\n",
       "      <th>russia probe</th>\n",
       "      <td>0.000624</td>\n",
       "    </tr>\n",
       "    <tr>\n",
       "      <th>police say</th>\n",
       "      <td>0.000620</td>\n",
       "    </tr>\n",
       "    <tr>\n",
       "      <th>tonyawards2017 red</th>\n",
       "      <td>0.000618</td>\n",
       "    </tr>\n",
       "    <tr>\n",
       "      <th>baby born</th>\n",
       "      <td>0.000612</td>\n",
       "    </tr>\n",
       "    <tr>\n",
       "      <th>john conyers</th>\n",
       "      <td>0.000610</td>\n",
       "    </tr>\n",
       "    <tr>\n",
       "      <th>county schools</th>\n",
       "      <td>0.000608</td>\n",
       "    </tr>\n",
       "    <tr>\n",
       "      <th>trumps tweet</th>\n",
       "      <td>0.000607</td>\n",
       "    </tr>\n",
       "    <tr>\n",
       "      <th>middle east</th>\n",
       "      <td>0.000597</td>\n",
       "    </tr>\n",
       "    <tr>\n",
       "      <th>saudi arabia</th>\n",
       "      <td>0.000594</td>\n",
       "    </tr>\n",
       "    <tr>\n",
       "      <th>steinle verdict</th>\n",
       "      <td>0.000585</td>\n",
       "    </tr>\n",
       "    <tr>\n",
       "      <th>tens thousands</th>\n",
       "      <td>0.000585</td>\n",
       "    </tr>\n",
       "    <tr>\n",
       "      <th>franken resign</th>\n",
       "      <td>0.000578</td>\n",
       "    </tr>\n",
       "    <tr>\n",
       "      <th>allegations sexual</th>\n",
       "      <td>0.000575</td>\n",
       "    </tr>\n",
       "    <tr>\n",
       "      <th>jerusalem decision</th>\n",
       "      <td>0.000575</td>\n",
       "    </tr>\n",
       "    <tr>\n",
       "      <th>kellyanne conway</th>\n",
       "      <td>0.000570</td>\n",
       "    </tr>\n",
       "    <tr>\n",
       "      <th>travel advisory</th>\n",
       "      <td>0.000568</td>\n",
       "    </tr>\n",
       "    <tr>\n",
       "      <th>blue ridge</th>\n",
       "      <td>0.000566</td>\n",
       "    </tr>\n",
       "    <tr>\n",
       "      <th>death threats</th>\n",
       "      <td>0.000565</td>\n",
       "    </tr>\n",
       "    <tr>\n",
       "      <th>pm et</th>\n",
       "      <td>0.000561</td>\n",
       "    </tr>\n",
       "    <tr>\n",
       "      <th>rick gates</th>\n",
       "      <td>0.000557</td>\n",
       "    </tr>\n",
       "    <tr>\n",
       "      <th>new york</th>\n",
       "      <td>0.000551</td>\n",
       "    </tr>\n",
       "    <tr>\n",
       "      <th>winter weather</th>\n",
       "      <td>0.000550</td>\n",
       "    </tr>\n",
       "    <tr>\n",
       "      <th>lanes blocked</th>\n",
       "      <td>0.000548</td>\n",
       "    </tr>\n",
       "  </tbody>\n",
       "</table>\n",
       "<p>100 rows × 1 columns</p>\n",
       "</div>"
      ],
      "text/plain": [
       "                        Coeffs\n",
       "public relations      0.004750\n",
       "latest mnpr           0.004118\n",
       "president trump       0.004072\n",
       "via minnesota         0.003975\n",
       "seeks hire            0.003935\n",
       "relations blog        0.003407\n",
       "ryan may              0.003100\n",
       "minnesota public      0.003083\n",
       "mnpr ryan             0.002767\n",
       "may daily             0.002657\n",
       "sexual harassment     0.002577\n",
       "sneak peek            0.002184\n",
       "roy moore             0.002165\n",
       "public mnpr           0.001858\n",
       "matt lauer            0.001788\n",
       "st paul               0.001736\n",
       "relations mnpr        0.001693\n",
       "dont miss             0.001610\n",
       "white house           0.001580\n",
       "social media          0.001483\n",
       "christmas tree        0.001439\n",
       "minnesota mnpr        0.001412\n",
       "doug jones            0.001412\n",
       "daily thanks          0.001292\n",
       "california wildfires  0.001234\n",
       "skycopter captncam    0.001223\n",
       "port authority        0.001205\n",
       "via mnpr              0.001193\n",
       "president trumps      0.001187\n",
       "donald trump          0.001161\n",
       "...                        ...\n",
       "press sec             0.000681\n",
       "pearl harbor          0.000680\n",
       "century fox           0.000679\n",
       "fake news             0.000675\n",
       "friday night          0.000671\n",
       "dead inside           0.000642\n",
       "charles manson        0.000637\n",
       "russia probe          0.000624\n",
       "police say            0.000620\n",
       "tonyawards2017 red    0.000618\n",
       "baby born             0.000612\n",
       "john conyers          0.000610\n",
       "county schools        0.000608\n",
       "trumps tweet          0.000607\n",
       "middle east           0.000597\n",
       "saudi arabia          0.000594\n",
       "steinle verdict       0.000585\n",
       "tens thousands        0.000585\n",
       "franken resign        0.000578\n",
       "allegations sexual    0.000575\n",
       "jerusalem decision    0.000575\n",
       "kellyanne conway      0.000570\n",
       "travel advisory       0.000568\n",
       "blue ridge            0.000566\n",
       "death threats         0.000565\n",
       "pm et                 0.000561\n",
       "rick gates            0.000557\n",
       "new york              0.000551\n",
       "winter weather        0.000550\n",
       "lanes blocked         0.000548\n",
       "\n",
       "[100 rows x 1 columns]"
      ]
     },
     "execution_count": 194,
     "metadata": {},
     "output_type": "execute_result"
    }
   ],
   "source": [
    "# PREDICTIVE WORDS FOR ngram_range = 2,2\n",
    "X_train,X_test, y_train,y_test = train_test_split(X, y,random_state=2017)\n",
    "tfidf3 = TfidfVectorizer(ngram_range=(2,2))\n",
    "\n",
    "X_train3 = tfidf3.fit_transform(X_train)\n",
    "X_test3 = tfidf3.transform(X_test)\n",
    "\n",
    "rf3 = RandomForestClassifier()\n",
    "rf3.fit(X_train3,y_train)\n",
    "\n",
    "df_X_train3 = pd.DataFrame(X_train3.todense(), columns=tfidf3.get_feature_names())\n",
    "\n",
    "#MOST PREDICTIVE WORDS\n",
    "coes3 = pd.DataFrame(rf3.feature_importances_, index =df_X_train3.columns,columns=['Coeffs'])\n",
    "\n",
    "word_ind3 = coes3.sort_values('Coeffs', ascending=False)[:100]\n",
    "word_ind3"
   ]
  },
  {
   "cell_type": "code",
   "execution_count": 196,
   "metadata": {
    "collapsed": true
   },
   "outputs": [],
   "source": [
    "# Model evaluation using ngram 2,2"
   ]
  },
  {
   "cell_type": "code",
   "execution_count": 197,
   "metadata": {},
   "outputs": [
    {
     "name": "stdout",
     "output_type": "stream",
     "text": [
      "0.430608886451\n",
      "             precision    recall  f1-score   support\n",
      "\n",
      "          1       0.35      0.71      0.47       537\n",
      "          2       0.49      0.31      0.38       608\n",
      "          3       0.63      0.32      0.42       678\n",
      "\n",
      "avg / total       0.50      0.43      0.42      1823\n",
      "\n",
      "     1    2    3\n",
      "1  381  106   50\n",
      "2  342  186   80\n",
      "3  376   84  218\n"
     ]
    }
   ],
   "source": [
    "ypreds = rf3.predict(X_test3)\n",
    "conmat_1 = confusion_matrix(y_test, ypreds, labels=rf3.classes_)\n",
    "conmat_1 = pd.DataFrame(conmat_1, columns=rf3.classes_, index=rf3.classes_)\n",
    "print(accuracy_score(y_test,ypreds))\n",
    "print(classification_report(y_test,ypreds))\n",
    "print( conmat_1)"
   ]
  },
  {
   "cell_type": "code",
   "execution_count": null,
   "metadata": {
    "collapsed": true
   },
   "outputs": [],
   "source": []
  },
  {
   "cell_type": "code",
   "execution_count": null,
   "metadata": {
    "collapsed": true
   },
   "outputs": [],
   "source": [
    "# Logistic Regression"
   ]
  },
  {
   "cell_type": "code",
   "execution_count": 93,
   "metadata": {},
   "outputs": [
    {
     "data": {
      "text/plain": [
       "LogisticRegression(C=1.0, class_weight=None, dual=False, fit_intercept=True,\n",
       "          intercept_scaling=1, max_iter=100, multi_class='ovr', n_jobs=1,\n",
       "          penalty='l2', random_state=None, solver='liblinear', tol=0.0001,\n",
       "          verbose=0, warm_start=False)"
      ]
     },
     "execution_count": 93,
     "metadata": {},
     "output_type": "execute_result"
    }
   ],
   "source": [
    "tfidf = TfidfVectorizer(ngram_range=(2,4))\n",
    "lr = LogisticRegression()\n",
    "lr.fit(X_train,y_train)"
   ]
  },
  {
   "cell_type": "code",
   "execution_count": 94,
   "metadata": {
    "scrolled": true
   },
   "outputs": [
    {
     "name": "stdout",
     "output_type": "stream",
     "text": [
      "0.488754799781\n",
      "             precision    recall  f1-score   support\n",
      "\n",
      "          1       0.46      0.24      0.31       537\n",
      "          2       0.53      0.42      0.47       608\n",
      "          3       0.48      0.75      0.59       678\n",
      "\n",
      "avg / total       0.49      0.49      0.47      1823\n",
      "\n",
      "     1    2    3\n",
      "1  129  124  284\n",
      "2   87  253  268\n",
      "3   67  102  509\n"
     ]
    }
   ],
   "source": [
    "ypreds = lr.predict(X_test)\n",
    "conmat_1 = confusion_matrix(y_test, ypreds, labels=lr.classes_)\n",
    "conmat_1 = pd.DataFrame(conmat_1, columns=lr.classes_, index=lr.classes_)\n",
    "print(accuracy_score(y_test,ypreds))\n",
    "print(classification_report(y_test,ypreds))\n",
    "print( conmat_1)"
   ]
  },
  {
   "cell_type": "code",
   "execution_count": null,
   "metadata": {
    "collapsed": true
   },
   "outputs": [],
   "source": []
  },
  {
   "cell_type": "markdown",
   "metadata": {},
   "source": [
    "###  Neural Networks"
   ]
  },
  {
   "cell_type": "code",
   "execution_count": 16,
   "metadata": {},
   "outputs": [],
   "source": [
    "from sklearn.datasets import load_breast_cancer\n",
    "from sklearn.preprocessing import StandardScaler\n",
    "from sklearn.model_selection import cross_val_score, GridSearchCV, train_test_split\n",
    "\n",
    "from keras.models import Sequential\n",
    "from keras.layers import Dense, Dropout\n",
    "from keras.utils import to_categorical\n",
    "from keras.wrappers.scikit_learn import KerasClassifier"
   ]
  },
  {
   "cell_type": "code",
   "execution_count": null,
   "metadata": {},
   "outputs": [],
   "source": []
  },
  {
   "cell_type": "code",
   "execution_count": 22,
   "metadata": {},
   "outputs": [],
   "source": [
    "# X = model_df['Text']\n",
    "# y= model_df['numeric_time']\n",
    "\n",
    "# y = to_categorical(y)\n",
    "\n",
    "# X_train, X_test, y_train, y_test = train_test_split(X, y)\n",
    "\n",
    "# X_train = X_train.reshape(X_train.shape[1])\n",
    "# X_test = X_test.reshape(X_test.shape[1])\n",
    "\n",
    "# X_train = X_train / 255.\n",
    "# X_test = X_test / 255."
   ]
  },
  {
   "cell_type": "code",
   "execution_count": 24,
   "metadata": {},
   "outputs": [],
   "source": [
    "# y = to_categorical(model_df['numeric_time'].values)\n",
    "\n",
    "# X_train, X_test, y_train, y_test = train_test_split(X.values, y)\n",
    "\n",
    "# X_train = X_train / 255.\n",
    "# X_test = X_test / 255.\n",
    "\n",
    "# X_train = X_train.reshape(X_train.shape[0], 28, 28, 1)\n",
    "# X_test = X_test.reshape(X_test.shape[0], 28, 28, 1)"
   ]
  }
 ],
 "metadata": {
  "kernelspec": {
   "display_name": "Python 3",
   "language": "python",
   "name": "python3"
  },
  "language_info": {
   "codemirror_mode": {
    "name": "ipython",
    "version": 3
   },
   "file_extension": ".py",
   "mimetype": "text/x-python",
   "name": "python",
   "nbconvert_exporter": "python",
   "pygments_lexer": "ipython3",
   "version": "3.6.2"
  }
 },
 "nbformat": 4,
 "nbformat_minor": 2
}
